{
 "cells": [
  {
   "cell_type": "markdown",
   "metadata": {},
   "source": [
    "#WEATHER DATA"
   ]
  },
  {
   "cell_type": "code",
   "execution_count": 1,
   "metadata": {
    "collapsed": false
   },
   "outputs": [],
   "source": [
    "import urllib2\n",
    "import json\n",
    "import pandas as pd\n",
    "import matplotlib.pyplot as plt\n",
    "import numpy as np\n",
    "\n",
    "from calendar import monthrange\n",
    "from dateutil.parser import parse\n",
    "\n",
    "%matplotlib inline\n",
    "pd.options.display.mpl_style = 'default'"
   ]
  },
  {
   "cell_type": "code",
   "execution_count": 4,
   "metadata": {
    "collapsed": true
   },
   "outputs": [],
   "source": [
    "key = \"a9e1c93d55afd42f\""
   ]
  },
  {
   "cell_type": "markdown",
   "metadata": {},
   "source": [
    "##Single File"
   ]
  },
  {
   "cell_type": "code",
   "execution_count": 114,
   "metadata": {
    "collapsed": false
   },
   "outputs": [],
   "source": [
    "def get_weather_history(key, city, year, month, day):\n",
    "    \"\"\"\n",
    "    API template for history - \n",
    "    http://api.wunderground.com/api/a9e1c93d55afd42f/history_YYYYMMDD/q/CA/San_Francisco.json\n",
    "    \n",
    "    Uses wunderground API to get weather history for a certain city on a certain date. Parses the\n",
    "    json response and writes it as a dataframe to a local file.\n",
    "    \"\"\"\n",
    "    \n",
    "    # Add a 0 to day if it doesn't have one.\n",
    "    if len(str(day)) < 2:\n",
    "        day = \"0\" + str(day)\n",
    "    \n",
    "    request = 'http://api.wunderground.com/api/{0}/history_{1}{2}{3}/q/CA/{4}.json'.format(key, year, month, day, city)\n",
    "    f = urllib2.urlopen(request)\n",
    "    json_string = f.read()\n",
    "    parsed_json = json.loads(json_string)\n",
    "    \n",
    "    # Put the parsed json into a data frame.\n",
    "    df = pd.DataFrame.from_dict(parsed_json[\"history\"][\"observations\"])\n",
    "    \n",
    "    # Converting from unicode to datetime. Dict form is really awkward, better to do it now.\n",
    "    df['time_n'] = ([parse(df[\"date\"][n][\"pretty\"]).strftime('%H:%M:%S') for n in range(len(df))])\n",
    "    df['date_n'] = ([parse(df[\"date\"][n][\"pretty\"]).strftime('%Y-%m-%d') for n in range(len(df))])\n",
    "    \n",
    "\n",
    "    #df = df.set_index('date_n')\n",
    "    \n",
    "    # Write the dataframe to a file.  \n",
    "    df.to_csv('data/weather/{0}{1}{2}.txt'.format(year, month, day), sep='\\t', index=False)\n",
    "        \n",
    "    return df"
   ]
  },
  {
   "cell_type": "code",
   "execution_count": 115,
   "metadata": {
    "collapsed": false
   },
   "outputs": [],
   "source": [
    "df_weather = get_weather_history(key, 'New_York', '2015', '05', '01')"
   ]
  },
  {
   "cell_type": "code",
   "execution_count": 116,
   "metadata": {
    "collapsed": false
   },
   "outputs": [
    {
     "data": {
      "text/html": [
       "<div style=\"max-height:1000px;max-width:1500px;overflow:auto;\">\n",
       "<table border=\"1\" class=\"dataframe\">\n",
       "  <thead>\n",
       "    <tr style=\"text-align: right;\">\n",
       "      <th></th>\n",
       "      <th>conds</th>\n",
       "      <th>date</th>\n",
       "      <th>dewpti</th>\n",
       "      <th>dewptm</th>\n",
       "      <th>fog</th>\n",
       "      <th>hail</th>\n",
       "      <th>heatindexi</th>\n",
       "      <th>heatindexm</th>\n",
       "      <th>hum</th>\n",
       "      <th>icon</th>\n",
       "      <th>...</th>\n",
       "      <th>wdird</th>\n",
       "      <th>wdire</th>\n",
       "      <th>wgusti</th>\n",
       "      <th>wgustm</th>\n",
       "      <th>windchilli</th>\n",
       "      <th>windchillm</th>\n",
       "      <th>wspdi</th>\n",
       "      <th>wspdm</th>\n",
       "      <th>time_n</th>\n",
       "      <th>date_n</th>\n",
       "    </tr>\n",
       "  </thead>\n",
       "  <tbody>\n",
       "    <tr>\n",
       "      <th>0</th>\n",
       "      <td> Clear</td>\n",
       "      <td> {u'mday': u'01', u'hour': u'00', u'min': u'53'...</td>\n",
       "      <td> 59.0</td>\n",
       "      <td> 15.0</td>\n",
       "      <td> 0</td>\n",
       "      <td> 0</td>\n",
       "      <td> -9999</td>\n",
       "      <td> -9999</td>\n",
       "      <td> 64</td>\n",
       "      <td> clear</td>\n",
       "      <td>...</td>\n",
       "      <td> 260</td>\n",
       "      <td> West</td>\n",
       "      <td> -9999.0</td>\n",
       "      <td> -9999.0</td>\n",
       "      <td> -999</td>\n",
       "      <td> -999</td>\n",
       "      <td> 15.0</td>\n",
       "      <td> 24.1</td>\n",
       "      <td> 00:53:00</td>\n",
       "      <td> 2015-05-01</td>\n",
       "    </tr>\n",
       "  </tbody>\n",
       "</table>\n",
       "<p>1 rows × 34 columns</p>\n",
       "</div>"
      ],
      "text/plain": [
       "   conds                                               date dewpti dewptm fog  \\\n",
       "0  Clear  {u'mday': u'01', u'hour': u'00', u'min': u'53'...   59.0   15.0   0   \n",
       "\n",
       "  hail heatindexi heatindexm hum   icon     ...     wdird wdire   wgusti  \\\n",
       "0    0      -9999      -9999  64  clear     ...       260  West  -9999.0   \n",
       "\n",
       "    wgustm windchilli windchillm wspdi wspdm    time_n      date_n  \n",
       "0  -9999.0       -999       -999  15.0  24.1  00:53:00  2015-05-01  \n",
       "\n",
       "[1 rows x 34 columns]"
      ]
     },
     "execution_count": 116,
     "metadata": {},
     "output_type": "execute_result"
    }
   ],
   "source": [
    "df_weather.head(1)"
   ]
  },
  {
   "cell_type": "markdown",
   "metadata": {},
   "source": [
    "##Scraping Files"
   ]
  },
  {
   "cell_type": "markdown",
   "metadata": {},
   "source": [
    "Now that I've got one day properly loaded into pandas, it's time to load all of the days in May 2015. Each day corresponds to an individual API request which is then converted to a dataframe and saved locally into a text file."
   ]
  },
  {
   "cell_type": "code",
   "execution_count": 117,
   "metadata": {
    "collapsed": true
   },
   "outputs": [],
   "source": [
    "# Calculate the number of days in May 2015.\n",
    "no_of_days = monthrange(2015, 5)[1]"
   ]
  },
  {
   "cell_type": "code",
   "execution_count": 118,
   "metadata": {
    "collapsed": false
   },
   "outputs": [],
   "source": [
    "# Get the weather data from API, and write it to local file.\n",
    "for day in range(1, no_of_days+1):\n",
    "    get_weather_history(key, 'New_York', '2015', '05', day)"
   ]
  },
  {
   "cell_type": "markdown",
   "metadata": {},
   "source": [
    "##Combining Files"
   ]
  },
  {
   "cell_type": "markdown",
   "metadata": {},
   "source": [
    "Once all the days are accounted for, it's time to load them in and join them together."
   ]
  },
  {
   "cell_type": "code",
   "execution_count": 119,
   "metadata": {
    "collapsed": true
   },
   "outputs": [],
   "source": [
    "# Get the names of all the local files.\n",
    "filenames = []\n",
    "for i in range(1, no_of_days+1):\n",
    "    if len(str(i)) < 2:\n",
    "        i = \"0\" + str(i)  \n",
    "    filenames.append('201505{0}'.format(i)) "
   ]
  },
  {
   "cell_type": "code",
   "execution_count": 120,
   "metadata": {
    "collapsed": false
   },
   "outputs": [],
   "source": [
    "# Initialize an empty DF.\n",
    "df_weather_master = pd.DataFrame()\n",
    "\n",
    "# List to store DFs.\n",
    "list_ = []\n",
    "\n",
    "# Read in each DF from file, and store it in list.\n",
    "for filename in filenames:\n",
    "    df = pd.read_table('data/weather/{0}.txt'.format(filename),index_col=None, header=0)\n",
    "    list_.append(df)\n",
    "    \n",
    "# Concatenate the DFs vertically.\n",
    "df_weather_master = pd.concat(list_)"
   ]
  },
  {
   "cell_type": "code",
   "execution_count": 121,
   "metadata": {
    "collapsed": false
   },
   "outputs": [
    {
     "data": {
      "text/plain": [
       "(924, 34)"
      ]
     },
     "execution_count": 121,
     "metadata": {},
     "output_type": "execute_result"
    }
   ],
   "source": [
    "df_weather_master.shape"
   ]
  },
  {
   "cell_type": "markdown",
   "metadata": {},
   "source": [
    "##Preparing the Data"
   ]
  },
  {
   "cell_type": "markdown",
   "metadata": {},
   "source": [
    "###Reset the Index"
   ]
  },
  {
   "cell_type": "code",
   "execution_count": 122,
   "metadata": {
    "collapsed": false
   },
   "outputs": [],
   "source": [
    "# Reset the index.\n",
    "df_weather_master = df_weather_master.reset_index()\n",
    "\n",
    "del df_weather_master['index']"
   ]
  },
  {
   "cell_type": "code",
   "execution_count": 123,
   "metadata": {
    "collapsed": false
   },
   "outputs": [
    {
     "data": {
      "text/plain": [
       "(924, 34)"
      ]
     },
     "execution_count": 123,
     "metadata": {},
     "output_type": "execute_result"
    }
   ],
   "source": [
    "df_weather_master.shape"
   ]
  },
  {
   "cell_type": "markdown",
   "metadata": {},
   "source": [
    "The data is in pretty good shape now; time to select what data isn't needed in this analysis. From the documentation on [wunderground](http://www.wunderground.com/weather/api/d/docs?d=resources/phrase-glossary), here's what the variables mean:\n",
    "\n",
    "\n",
    "    \n",
    "````\n",
    "======================================\n",
    "tempm\t      Temp in C\n",
    "tempi\t      Temp in F\n",
    "dewptm\t     Dewpoint in C\n",
    "dewpti\t     Duepoint in F\n",
    "hum\t        Humidity %\n",
    "wspdm\t      WindSpeed kph\n",
    "wspdi\t      Windspeed in mph\n",
    "wgustm\t     Wind gust in kph\n",
    "wgusti\t     Wind gust in mph\n",
    "wdird\t      Wind direction in degrees\n",
    "wdire\t      Wind direction description (ie, SW, NNE)\n",
    "vism\t       Visibility in Km\n",
    "visi\t       Visability in Miles\n",
    "pressurem\t  Pressure in mBar\n",
    "pressurei\t  Pressure in inHg\n",
    "windchillm\t Wind chill in C\n",
    "windchilli\t Wind chill in F\n",
    "heatindexm\t Heat index C\n",
    "heatindexi\t Heat Index F\n",
    "precipm\t    Precipitation in mm\n",
    "precipi\t    Precipitation in inches\n",
    "pop\t        Probability of Precipitation\n",
    "conds\t      See possible condition phrases below\n",
    "======================================\n",
    "````\n",
    "\n",
    "I'm going to drop everything not in Celsius, Metric, Bar or degrees. There's also a few unneeded columns like metar, utc date and icon."
   ]
  },
  {
   "cell_type": "code",
   "execution_count": 124,
   "metadata": {
    "collapsed": false
   },
   "outputs": [],
   "source": [
    "# String\n",
    "cols_string = ['conds', 'icon',  'metar', 'utcdate', 'wdire']\n",
    "\n",
    "# Float\n",
    "cols_float = ['dewpti', 'fog', 'hail', 'heatindexi', 'heatindexm', 'hum', 'rain', \n",
    "                'snow', 'thunder', 'tornado', 'dewptm', 'precipm', 'pressurei',\n",
    "                'pressurem', 'tempi', 'tempm', 'visi', 'vism', 'wdird', 'wgusti', \n",
    "                'wgustm', 'windchilli', 'windchillm', 'wspdi', 'wspdm' ]\n",
    "\n",
    "for each in cols_string: \n",
    "    df_weather_master[each] = df_weather_master[each].astype(str)\n",
    "    \n",
    "for each in cols_float: \n",
    "    df_weather_master[each] = df_weather_master[each].astype(float)\n",
    "    \n",
    "df_weather_master = df_weather_master.drop(['tempi', 'dewpti', 'wspdi', 'wgusti', 'wdire', 'visi', 'pressurei', 'windchilli', \n",
    "                'heatindexi', 'precipi', 'metar', 'utcdate', 'icon', 'date'], axis=1)"
   ]
  },
  {
   "cell_type": "code",
   "execution_count": 125,
   "metadata": {
    "collapsed": false
   },
   "outputs": [
    {
     "data": {
      "text/plain": [
       "(924, 20)"
      ]
     },
     "execution_count": 125,
     "metadata": {},
     "output_type": "execute_result"
    }
   ],
   "source": [
    "df_weather_master.shape"
   ]
  },
  {
   "cell_type": "code",
   "execution_count": 126,
   "metadata": {
    "collapsed": false
   },
   "outputs": [
    {
     "data": {
      "text/plain": [
       "pandas.core.frame.DataFrame"
      ]
     },
     "execution_count": 126,
     "metadata": {},
     "output_type": "execute_result"
    }
   ],
   "source": [
    "type(df_weather_master)"
   ]
  },
  {
   "cell_type": "code",
   "execution_count": 127,
   "metadata": {
    "collapsed": false
   },
   "outputs": [
    {
     "data": {
      "text/html": [
       "<div style=\"max-height:1000px;max-width:1500px;overflow:auto;\">\n",
       "<table border=\"1\" class=\"dataframe\">\n",
       "  <thead>\n",
       "    <tr style=\"text-align: right;\">\n",
       "      <th></th>\n",
       "      <th>dewptm</th>\n",
       "      <th>fog</th>\n",
       "      <th>hail</th>\n",
       "      <th>heatindexm</th>\n",
       "      <th>hum</th>\n",
       "      <th>precipm</th>\n",
       "      <th>pressurem</th>\n",
       "      <th>rain</th>\n",
       "      <th>snow</th>\n",
       "      <th>tempm</th>\n",
       "      <th>thunder</th>\n",
       "      <th>tornado</th>\n",
       "      <th>vism</th>\n",
       "      <th>wdird</th>\n",
       "      <th>wgustm</th>\n",
       "      <th>windchillm</th>\n",
       "      <th>wspdm</th>\n",
       "    </tr>\n",
       "  </thead>\n",
       "  <tbody>\n",
       "    <tr>\n",
       "      <th>count</th>\n",
       "      <td> 924.000000</td>\n",
       "      <td> 924.000000</td>\n",
       "      <td> 924</td>\n",
       "      <td>  924.000000</td>\n",
       "      <td> 924.000000</td>\n",
       "      <td>  924.000000</td>\n",
       "      <td>  924.000000</td>\n",
       "      <td> 924.000000</td>\n",
       "      <td> 924</td>\n",
       "      <td> 924.000000</td>\n",
       "      <td> 924.000000</td>\n",
       "      <td> 924</td>\n",
       "      <td>  924.000000</td>\n",
       "      <td> 924.000000</td>\n",
       "      <td>  924.000000</td>\n",
       "      <td> 924</td>\n",
       "      <td>  924.000000</td>\n",
       "    </tr>\n",
       "    <tr>\n",
       "      <th>mean</th>\n",
       "      <td>  20.221212</td>\n",
       "      <td>   0.003247</td>\n",
       "      <td>   0</td>\n",
       "      <td>-5049.123052</td>\n",
       "      <td>  69.194805</td>\n",
       "      <td>-8645.929113</td>\n",
       "      <td> 1018.148918</td>\n",
       "      <td>   0.094156</td>\n",
       "      <td>   0</td>\n",
       "      <td>  26.521753</td>\n",
       "      <td>   0.028139</td>\n",
       "      <td>   0</td>\n",
       "      <td>   -6.527814</td>\n",
       "      <td> 137.662338</td>\n",
       "      <td>-9150.860390</td>\n",
       "      <td>-999</td>\n",
       "      <td>  -16.091558</td>\n",
       "    </tr>\n",
       "    <tr>\n",
       "      <th>std</th>\n",
       "      <td>   2.670327</td>\n",
       "      <td>   0.056919</td>\n",
       "      <td>   0</td>\n",
       "      <td> 5017.299910</td>\n",
       "      <td>  11.341299</td>\n",
       "      <td> 3422.741730</td>\n",
       "      <td>    1.862735</td>\n",
       "      <td>   0.292204</td>\n",
       "      <td>   0</td>\n",
       "      <td>   2.640876</td>\n",
       "      <td>   0.165458</td>\n",
       "      <td>   0</td>\n",
       "      <td>  465.658243</td>\n",
       "      <td>  79.769105</td>\n",
       "      <td> 2794.736847</td>\n",
       "      <td>   0</td>\n",
       "      <td>  570.136934</td>\n",
       "    </tr>\n",
       "    <tr>\n",
       "      <th>min</th>\n",
       "      <td>   8.300000</td>\n",
       "      <td>   0.000000</td>\n",
       "      <td>   0</td>\n",
       "      <td>-9999.000000</td>\n",
       "      <td>  29.000000</td>\n",
       "      <td>-9999.000000</td>\n",
       "      <td> 1013.300000</td>\n",
       "      <td>   0.000000</td>\n",
       "      <td>   0</td>\n",
       "      <td>  19.400000</td>\n",
       "      <td>   0.000000</td>\n",
       "      <td>   0</td>\n",
       "      <td>-9999.000000</td>\n",
       "      <td>   0.000000</td>\n",
       "      <td>-9999.000000</td>\n",
       "      <td>-999</td>\n",
       "      <td>-9999.000000</td>\n",
       "    </tr>\n",
       "    <tr>\n",
       "      <th>25%</th>\n",
       "      <td>  19.400000</td>\n",
       "      <td>   0.000000</td>\n",
       "      <td>   0</td>\n",
       "      <td>-9999.000000</td>\n",
       "      <td>  61.000000</td>\n",
       "      <td>-9999.000000</td>\n",
       "      <td> 1016.775000</td>\n",
       "      <td>   0.000000</td>\n",
       "      <td>   0</td>\n",
       "      <td>  25.000000</td>\n",
       "      <td>   0.000000</td>\n",
       "      <td>   0</td>\n",
       "      <td>   16.100000</td>\n",
       "      <td> 100.000000</td>\n",
       "      <td>-9999.000000</td>\n",
       "      <td>-999</td>\n",
       "      <td>   11.100000</td>\n",
       "    </tr>\n",
       "    <tr>\n",
       "      <th>50%</th>\n",
       "      <td>  20.800000</td>\n",
       "      <td>   0.000000</td>\n",
       "      <td>   0</td>\n",
       "      <td>-9999.000000</td>\n",
       "      <td>  72.000000</td>\n",
       "      <td>-9999.000000</td>\n",
       "      <td> 1017.950000</td>\n",
       "      <td>   0.000000</td>\n",
       "      <td>   0</td>\n",
       "      <td>  26.700000</td>\n",
       "      <td>   0.000000</td>\n",
       "      <td>   0</td>\n",
       "      <td>   16.100000</td>\n",
       "      <td> 130.000000</td>\n",
       "      <td>-9999.000000</td>\n",
       "      <td>-999</td>\n",
       "      <td>   14.800000</td>\n",
       "    </tr>\n",
       "    <tr>\n",
       "      <th>75%</th>\n",
       "      <td>  22.000000</td>\n",
       "      <td>   0.000000</td>\n",
       "      <td>   0</td>\n",
       "      <td>   30.800000</td>\n",
       "      <td>  79.000000</td>\n",
       "      <td>-9999.000000</td>\n",
       "      <td> 1019.400000</td>\n",
       "      <td>   0.000000</td>\n",
       "      <td>   0</td>\n",
       "      <td>  28.300000</td>\n",
       "      <td>   0.000000</td>\n",
       "      <td>   0</td>\n",
       "      <td>   16.100000</td>\n",
       "      <td> 160.000000</td>\n",
       "      <td>-9999.000000</td>\n",
       "      <td>-999</td>\n",
       "      <td>   20.400000</td>\n",
       "    </tr>\n",
       "    <tr>\n",
       "      <th>max</th>\n",
       "      <td>  23.900000</td>\n",
       "      <td>   1.000000</td>\n",
       "      <td>   0</td>\n",
       "      <td>   37.200000</td>\n",
       "      <td>  88.000000</td>\n",
       "      <td>   27.200000</td>\n",
       "      <td> 1022.900000</td>\n",
       "      <td>   1.000000</td>\n",
       "      <td>   0</td>\n",
       "      <td>  32.200000</td>\n",
       "      <td>   1.000000</td>\n",
       "      <td>   0</td>\n",
       "      <td>   16.100000</td>\n",
       "      <td> 360.000000</td>\n",
       "      <td>   90.700000</td>\n",
       "      <td>-999</td>\n",
       "      <td>   74.100000</td>\n",
       "    </tr>\n",
       "  </tbody>\n",
       "</table>\n",
       "</div>"
      ],
      "text/plain": [
       "           dewptm         fog  hail   heatindexm         hum      precipm  \\\n",
       "count  924.000000  924.000000   924   924.000000  924.000000   924.000000   \n",
       "mean    20.221212    0.003247     0 -5049.123052   69.194805 -8645.929113   \n",
       "std      2.670327    0.056919     0  5017.299910   11.341299  3422.741730   \n",
       "min      8.300000    0.000000     0 -9999.000000   29.000000 -9999.000000   \n",
       "25%     19.400000    0.000000     0 -9999.000000   61.000000 -9999.000000   \n",
       "50%     20.800000    0.000000     0 -9999.000000   72.000000 -9999.000000   \n",
       "75%     22.000000    0.000000     0    30.800000   79.000000 -9999.000000   \n",
       "max     23.900000    1.000000     0    37.200000   88.000000    27.200000   \n",
       "\n",
       "         pressurem        rain  snow       tempm     thunder  tornado  \\\n",
       "count   924.000000  924.000000   924  924.000000  924.000000      924   \n",
       "mean   1018.148918    0.094156     0   26.521753    0.028139        0   \n",
       "std       1.862735    0.292204     0    2.640876    0.165458        0   \n",
       "min    1013.300000    0.000000     0   19.400000    0.000000        0   \n",
       "25%    1016.775000    0.000000     0   25.000000    0.000000        0   \n",
       "50%    1017.950000    0.000000     0   26.700000    0.000000        0   \n",
       "75%    1019.400000    0.000000     0   28.300000    0.000000        0   \n",
       "max    1022.900000    1.000000     0   32.200000    1.000000        0   \n",
       "\n",
       "              vism       wdird       wgustm  windchillm        wspdm  \n",
       "count   924.000000  924.000000   924.000000         924   924.000000  \n",
       "mean     -6.527814  137.662338 -9150.860390        -999   -16.091558  \n",
       "std     465.658243   79.769105  2794.736847           0   570.136934  \n",
       "min   -9999.000000    0.000000 -9999.000000        -999 -9999.000000  \n",
       "25%      16.100000  100.000000 -9999.000000        -999    11.100000  \n",
       "50%      16.100000  130.000000 -9999.000000        -999    14.800000  \n",
       "75%      16.100000  160.000000 -9999.000000        -999    20.400000  \n",
       "max      16.100000  360.000000    90.700000        -999    74.100000  "
      ]
     },
     "execution_count": 127,
     "metadata": {},
     "output_type": "execute_result"
    }
   ],
   "source": [
    "df_weather_master.describe()"
   ]
  },
  {
   "cell_type": "markdown",
   "metadata": {},
   "source": [
    "### Adding Weekday"
   ]
  },
  {
   "cell_type": "code",
   "execution_count": 130,
   "metadata": {
    "collapsed": false
   },
   "outputs": [],
   "source": [
    "# Temporarily convert to datetime, extract day (0 = Monday) and make a new column.\n",
    "df_weather_master['weekday'] = pd.to_datetime(df_weather_master['date_n']).apply(lambda x: x.weekday())"
   ]
  },
  {
   "cell_type": "markdown",
   "metadata": {},
   "source": [
    "###Dates and Times"
   ]
  },
  {
   "cell_type": "code",
   "execution_count": 7,
   "metadata": {
    "collapsed": false
   },
   "outputs": [
    {
     "data": {
      "text/html": [
       "<div style=\"max-height:1000px;max-width:1500px;overflow:auto;\">\n",
       "<table border=\"1\" class=\"dataframe\">\n",
       "  <thead>\n",
       "    <tr style=\"text-align: right;\">\n",
       "      <th></th>\n",
       "      <th>conds</th>\n",
       "      <th>dewptm</th>\n",
       "      <th>fog</th>\n",
       "      <th>hail</th>\n",
       "      <th>heatindexm</th>\n",
       "      <th>hum</th>\n",
       "      <th>precipm</th>\n",
       "      <th>pressurem</th>\n",
       "      <th>rain</th>\n",
       "      <th>snow</th>\n",
       "      <th>tempm</th>\n",
       "      <th>thunder</th>\n",
       "      <th>tornado</th>\n",
       "      <th>vism</th>\n",
       "      <th>wdird</th>\n",
       "      <th>wgustm</th>\n",
       "      <th>windchillm</th>\n",
       "      <th>wspdm</th>\n",
       "      <th>weekday</th>\n",
       "      <th>DATE-TIME</th>\n",
       "    </tr>\n",
       "  </thead>\n",
       "  <tbody>\n",
       "    <tr>\n",
       "      <th>0</th>\n",
       "      <td> Clear</td>\n",
       "      <td> 15</td>\n",
       "      <td> 0</td>\n",
       "      <td> 0</td>\n",
       "      <td>-9999</td>\n",
       "      <td> 64</td>\n",
       "      <td>-9999</td>\n",
       "      <td> 1014.0</td>\n",
       "      <td> 0</td>\n",
       "      <td> 0</td>\n",
       "      <td> 22.2</td>\n",
       "      <td> 0</td>\n",
       "      <td> 0</td>\n",
       "      <td> 16.1</td>\n",
       "      <td> 260</td>\n",
       "      <td>-9999</td>\n",
       "      <td>-999</td>\n",
       "      <td> 24.1</td>\n",
       "      <td> 4</td>\n",
       "      <td>2015-05-01 00:53:00</td>\n",
       "    </tr>\n",
       "    <tr>\n",
       "      <th>1</th>\n",
       "      <td> Clear</td>\n",
       "      <td> 15</td>\n",
       "      <td> 0</td>\n",
       "      <td> 0</td>\n",
       "      <td>-9999</td>\n",
       "      <td> 64</td>\n",
       "      <td>-9999</td>\n",
       "      <td> 1013.6</td>\n",
       "      <td> 0</td>\n",
       "      <td> 0</td>\n",
       "      <td> 22.2</td>\n",
       "      <td> 0</td>\n",
       "      <td> 0</td>\n",
       "      <td> 16.1</td>\n",
       "      <td> 270</td>\n",
       "      <td>-9999</td>\n",
       "      <td>-999</td>\n",
       "      <td> 29.6</td>\n",
       "      <td> 4</td>\n",
       "      <td>2015-05-01 01:53:00</td>\n",
       "    </tr>\n",
       "  </tbody>\n",
       "</table>\n",
       "</div>"
      ],
      "text/plain": [
       "   conds  dewptm  fog  hail  heatindexm  hum  precipm  pressurem  rain  snow  \\\n",
       "0  Clear      15    0     0       -9999   64    -9999     1014.0     0     0   \n",
       "1  Clear      15    0     0       -9999   64    -9999     1013.6     0     0   \n",
       "\n",
       "   tempm  thunder  tornado  vism  wdird  wgustm  windchillm  wspdm  weekday  \\\n",
       "0   22.2        0        0  16.1    260   -9999        -999   24.1        4   \n",
       "1   22.2        0        0  16.1    270   -9999        -999   29.6        4   \n",
       "\n",
       "            DATE-TIME  \n",
       "0 2015-05-01 00:53:00  \n",
       "1 2015-05-01 01:53:00  "
      ]
     },
     "execution_count": 7,
     "metadata": {},
     "output_type": "execute_result"
    }
   ],
   "source": [
    "# Convert to datetime.\n",
    "df_weather_master['DATE-TIME'] = pd.to_datetime(df_weather_master['date_n'] + \" \" + df_weather_master['time_n'])\n",
    "\n",
    "# Drop old TIME and DATE columns.\n",
    "df_weather_master = df_weather_master.drop(['date_n', 'time_n'], axis=1)\n",
    "df_weather_master.head(2)"
   ]
  },
  {
   "cell_type": "markdown",
   "metadata": {},
   "source": [
    "##Exporting Final File"
   ]
  },
  {
   "cell_type": "markdown",
   "metadata": {},
   "source": [
    "In order to preserve the timestamp you need to include a date_format parameter when exporting the file."
   ]
  },
  {
   "cell_type": "code",
   "execution_count": 8,
   "metadata": {
    "collapsed": false
   },
   "outputs": [],
   "source": [
    "df_weather_master.to_csv('data/final/weather_final.csv', index=False, date_format='%Y-%m-%d')"
   ]
  },
  {
   "cell_type": "code",
   "execution_count": 9,
   "metadata": {
    "collapsed": false
   },
   "outputs": [
    {
     "data": {
      "text/html": [
       "<div style=\"max-height:1000px;max-width:1500px;overflow:auto;\">\n",
       "<table border=\"1\" class=\"dataframe\">\n",
       "  <thead>\n",
       "    <tr style=\"text-align: right;\">\n",
       "      <th></th>\n",
       "      <th>conds</th>\n",
       "      <th>dewptm</th>\n",
       "      <th>fog</th>\n",
       "      <th>hail</th>\n",
       "      <th>heatindexm</th>\n",
       "      <th>hum</th>\n",
       "      <th>precipm</th>\n",
       "      <th>pressurem</th>\n",
       "      <th>rain</th>\n",
       "      <th>snow</th>\n",
       "      <th>tempm</th>\n",
       "      <th>thunder</th>\n",
       "      <th>tornado</th>\n",
       "      <th>vism</th>\n",
       "      <th>wdird</th>\n",
       "      <th>wgustm</th>\n",
       "      <th>windchillm</th>\n",
       "      <th>wspdm</th>\n",
       "      <th>weekday</th>\n",
       "      <th>DATE-TIME</th>\n",
       "    </tr>\n",
       "  </thead>\n",
       "  <tbody>\n",
       "    <tr>\n",
       "      <th>0</th>\n",
       "      <td> Clear</td>\n",
       "      <td> 15.0</td>\n",
       "      <td> 0</td>\n",
       "      <td> 0</td>\n",
       "      <td>-9999</td>\n",
       "      <td> 64</td>\n",
       "      <td>-9999</td>\n",
       "      <td> 1014.0</td>\n",
       "      <td> 0</td>\n",
       "      <td> 0</td>\n",
       "      <td> 22.2</td>\n",
       "      <td> 0</td>\n",
       "      <td> 0</td>\n",
       "      <td> 16.1</td>\n",
       "      <td> 260</td>\n",
       "      <td>-9999</td>\n",
       "      <td>-999</td>\n",
       "      <td> 24.1</td>\n",
       "      <td> 4</td>\n",
       "      <td>2015-05-01 00:53:00</td>\n",
       "    </tr>\n",
       "    <tr>\n",
       "      <th>1</th>\n",
       "      <td> Clear</td>\n",
       "      <td> 15.0</td>\n",
       "      <td> 0</td>\n",
       "      <td> 0</td>\n",
       "      <td>-9999</td>\n",
       "      <td> 64</td>\n",
       "      <td>-9999</td>\n",
       "      <td> 1013.6</td>\n",
       "      <td> 0</td>\n",
       "      <td> 0</td>\n",
       "      <td> 22.2</td>\n",
       "      <td> 0</td>\n",
       "      <td> 0</td>\n",
       "      <td> 16.1</td>\n",
       "      <td> 270</td>\n",
       "      <td>-9999</td>\n",
       "      <td>-999</td>\n",
       "      <td> 29.6</td>\n",
       "      <td> 4</td>\n",
       "      <td>2015-05-01 01:53:00</td>\n",
       "    </tr>\n",
       "    <tr>\n",
       "      <th>2</th>\n",
       "      <td> Clear</td>\n",
       "      <td> 13.9</td>\n",
       "      <td> 0</td>\n",
       "      <td> 0</td>\n",
       "      <td>-9999</td>\n",
       "      <td> 59</td>\n",
       "      <td>-9999</td>\n",
       "      <td> 1013.3</td>\n",
       "      <td> 0</td>\n",
       "      <td> 0</td>\n",
       "      <td> 22.2</td>\n",
       "      <td> 0</td>\n",
       "      <td> 0</td>\n",
       "      <td> 16.1</td>\n",
       "      <td> 280</td>\n",
       "      <td>-9999</td>\n",
       "      <td>-999</td>\n",
       "      <td> 31.5</td>\n",
       "      <td> 4</td>\n",
       "      <td>2015-05-01 02:53:00</td>\n",
       "    </tr>\n",
       "    <tr>\n",
       "      <th>3</th>\n",
       "      <td> Clear</td>\n",
       "      <td> 14.4</td>\n",
       "      <td> 0</td>\n",
       "      <td> 0</td>\n",
       "      <td>-9999</td>\n",
       "      <td> 61</td>\n",
       "      <td>-9999</td>\n",
       "      <td> 1013.3</td>\n",
       "      <td> 0</td>\n",
       "      <td> 0</td>\n",
       "      <td> 22.2</td>\n",
       "      <td> 0</td>\n",
       "      <td> 0</td>\n",
       "      <td> 16.1</td>\n",
       "      <td> 280</td>\n",
       "      <td>-9999</td>\n",
       "      <td>-999</td>\n",
       "      <td> 31.5</td>\n",
       "      <td> 4</td>\n",
       "      <td>2015-05-01 03:53:00</td>\n",
       "    </tr>\n",
       "    <tr>\n",
       "      <th>4</th>\n",
       "      <td> Clear</td>\n",
       "      <td> 14.4</td>\n",
       "      <td> 0</td>\n",
       "      <td> 0</td>\n",
       "      <td>-9999</td>\n",
       "      <td> 63</td>\n",
       "      <td>-9999</td>\n",
       "      <td> 1013.7</td>\n",
       "      <td> 0</td>\n",
       "      <td> 0</td>\n",
       "      <td> 21.7</td>\n",
       "      <td> 0</td>\n",
       "      <td> 0</td>\n",
       "      <td> 16.1</td>\n",
       "      <td> 290</td>\n",
       "      <td>-9999</td>\n",
       "      <td>-999</td>\n",
       "      <td> 27.8</td>\n",
       "      <td> 4</td>\n",
       "      <td>2015-05-01 04:53:00</td>\n",
       "    </tr>\n",
       "  </tbody>\n",
       "</table>\n",
       "</div>"
      ],
      "text/plain": [
       "   conds  dewptm  fog  hail  heatindexm  hum  precipm  pressurem  rain  snow  \\\n",
       "0  Clear    15.0    0     0       -9999   64    -9999     1014.0     0     0   \n",
       "1  Clear    15.0    0     0       -9999   64    -9999     1013.6     0     0   \n",
       "2  Clear    13.9    0     0       -9999   59    -9999     1013.3     0     0   \n",
       "3  Clear    14.4    0     0       -9999   61    -9999     1013.3     0     0   \n",
       "4  Clear    14.4    0     0       -9999   63    -9999     1013.7     0     0   \n",
       "\n",
       "   tempm  thunder  tornado  vism  wdird  wgustm  windchillm  wspdm  weekday  \\\n",
       "0   22.2        0        0  16.1    260   -9999        -999   24.1        4   \n",
       "1   22.2        0        0  16.1    270   -9999        -999   29.6        4   \n",
       "2   22.2        0        0  16.1    280   -9999        -999   31.5        4   \n",
       "3   22.2        0        0  16.1    280   -9999        -999   31.5        4   \n",
       "4   21.7        0        0  16.1    290   -9999        -999   27.8        4   \n",
       "\n",
       "            DATE-TIME  \n",
       "0 2015-05-01 00:53:00  \n",
       "1 2015-05-01 01:53:00  \n",
       "2 2015-05-01 02:53:00  \n",
       "3 2015-05-01 03:53:00  \n",
       "4 2015-05-01 04:53:00  "
      ]
     },
     "execution_count": 9,
     "metadata": {},
     "output_type": "execute_result"
    }
   ],
   "source": [
    "df_weather_master.head()"
   ]
  },
  {
   "cell_type": "markdown",
   "metadata": {},
   "source": [
    "##Testing Plots"
   ]
  },
  {
   "cell_type": "code",
   "execution_count": 134,
   "metadata": {
    "collapsed": false
   },
   "outputs": [
    {
     "data": {
      "text/plain": [
       "<matplotlib.axes._subplots.AxesSubplot at 0xdcb29b0>"
      ]
     },
     "execution_count": 134,
     "metadata": {},
     "output_type": "execute_result"
    },
    {
     "data": {
      "image/png": "[encoded data removed]",
      "text/plain": [
       "<matplotlib.figure.Figure at 0xdcc1c50>"
      ]
     },
     "metadata": {},
     "output_type": "display_data"
    }
   ],
   "source": [
    "df_weather_master.plot(x='date_n', y='pressurem')"
   ]
  },
  {
   "cell_type": "markdown",
   "metadata": {
    "collapsed": true
   },
   "source": [
    "##Testing SQL"
   ]
  },
  {
   "cell_type": "code",
   "execution_count": 38,
   "metadata": {
    "collapsed": false
   },
   "outputs": [],
   "source": [
    "import pandasql"
   ]
  },
  {
   "cell_type": "markdown",
   "metadata": {},
   "source": [
    "### Rainy Days"
   ]
  },
  {
   "cell_type": "code",
   "execution_count": 19,
   "metadata": {
    "collapsed": false
   },
   "outputs": [
    {
     "name": "stdout",
     "output_type": "stream",
     "text": [
      "   count(rain)\n",
      "0           87\n"
     ]
    }
   ],
   "source": [
    "q = \"\"\"\n",
    "    SELECT COUNT(rain) \n",
    "    FROM df_weather_master\n",
    "    WHERE rain = 1\n",
    "    ;\n",
    "    \"\"\"\n",
    "\n",
    "#Execute your SQL command against the pandas frame\n",
    "rainy_days = pandasql.sqldf(q.lower(), locals())\n",
    "\n",
    "print rainy_days"
   ]
  },
  {
   "cell_type": "markdown",
   "metadata": {},
   "source": [
    "###Foggy Days"
   ]
  },
  {
   "cell_type": "code",
   "execution_count": 20,
   "metadata": {
    "collapsed": false
   },
   "outputs": [
    {
     "name": "stdout",
     "output_type": "stream",
     "text": [
      "   fog  tempm\n",
      "0    0   24.4\n",
      "1    1   21.0\n"
     ]
    }
   ],
   "source": [
    "q = \"\"\"\n",
    "    SELECT fog, tempm\n",
    "    FROM df_weather_master\n",
    "    GROUP BY fog\n",
    "    ;\n",
    "    \"\"\"\n",
    "    \n",
    "#Execute your SQL command against the pandas frame\n",
    "foggy_days = pandasql.sqldf(q.lower(), locals())\n",
    "\n",
    "print foggy_days"
   ]
  },
  {
   "cell_type": "markdown",
   "metadata": {
    "collapsed": true
   },
   "source": [
    "###Weekend mean temperature"
   ]
  },
  {
   "cell_type": "code",
   "execution_count": 21,
   "metadata": {
    "collapsed": false
   },
   "outputs": [
    {
     "name": "stdout",
     "output_type": "stream",
     "text": [
      "   avg(tempm)\n",
      "0   26.872917\n"
     ]
    }
   ],
   "source": [
    "q = \"\"\"\n",
    "    SELECT AVG(tempm)\n",
    "    FROM df_weather_master\n",
    "    WHERE cast(strftime('%w', date_n) as integer) = 6\n",
    "    OR cast(strftime('%w', date_n) as integer) = 0\n",
    "    ;\n",
    "    \"\"\"\n",
    "    \n",
    "\n",
    "#Execute your SQL command against the pandas frame\n",
    "mean_temp_weekends = pandasql.sqldf(q.lower(), locals())\n",
    "\n",
    "print mean_temp_weekends"
   ]
  },
  {
   "cell_type": "markdown",
   "metadata": {},
   "source": [
    "### Mean Temperature on Rainy Days"
   ]
  },
  {
   "cell_type": "code",
   "execution_count": 22,
   "metadata": {
    "collapsed": false
   },
   "outputs": [
    {
     "name": "stdout",
     "output_type": "stream",
     "text": [
      "   avg(cast(tempm as integer))\n",
      "0                           31\n"
     ]
    }
   ],
   "source": [
    "q = \"\"\"\n",
    "    SELECT AVG(cast(tempm as integer)) \n",
    "    FROM df_weather_master\n",
    "    WHERE rain = 1\n",
    "    AND cast(tempm as integer) > 30\n",
    "    ;\n",
    "    \"\"\"\n",
    "    \n",
    "#Execute your SQL command against the pandas frame\n",
    "avg_min_temp_rainy = pandasql.sqldf(q.lower(), locals())\n",
    "\n",
    "print avg_min_temp_rainy"
   ]
  },
  {
   "cell_type": "code",
   "execution_count": 5,
   "metadata": {
    "collapsed": false
   },
   "outputs": [
    {
     "data": {
      "text/plain": [
       "pandas.core.series.Series"
      ]
     },
     "execution_count": 5,
     "metadata": {},
     "output_type": "execute_result"
    }
   ],
   "source": [
    "type(df_weather_master['date_n'] == 2015-05-01)"
   ]
  },
  {
   "cell_type": "code",
   "execution_count": 4,
   "metadata": {
    "collapsed": true
   },
   "outputs": [],
   "source": [
    "df_weather_master = pd.read_csv('data/final/weather_final.csv')"
   ]
  },
  {
   "cell_type": "code",
   "execution_count": null,
   "metadata": {
    "collapsed": true
   },
   "outputs": [],
   "source": []
  }
 ],
 "metadata": {
  "kernelspec": {
   "display_name": "Python 2",
   "language": "python",
   "name": "python2"
  },
  "language_info": {
   "codemirror_mode": {
    "name": "ipython",
    "version": 2
   },
   "file_extension": ".py",
   "mimetype": "text/x-python",
   "name": "python",
   "nbconvert_exporter": "python",
   "pygments_lexer": "ipython2",
   "version": "2.7.9"
  }
 },
 "nbformat": 4,
 "nbformat_minor": 0
}
