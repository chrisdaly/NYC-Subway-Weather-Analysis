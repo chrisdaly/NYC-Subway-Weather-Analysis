{
 "cells": [
  {
   "cell_type": "markdown",
   "metadata": {},
   "source": [
    "#SUBWAY DATA"
   ]
  },
  {
   "cell_type": "code",
   "execution_count": 2,
   "metadata": {
    "collapsed": true
   },
   "outputs": [],
   "source": [
    "import csv\n",
    "import datetime\n",
    "import os\n",
    "import pandas as pd\n",
    "import numpy as np\n",
    "\n",
    "from sets import Set\n",
    "from dateutil.parser import parse\n",
    "import matplotlib.pyplot as plt\n",
    "\n",
    "import requests\n",
    "import urllib2\n",
    "\n",
    "from bs4 import BeautifulSoup as bs\n",
    "from dateutil.parser import parse\n",
    "\n",
    "%matplotlib inline\n",
    "pd.options.display.mpl_style = 'default'"
   ]
  },
  {
   "cell_type": "markdown",
   "metadata": {},
   "source": [
    "## Single File - Old Data"
   ]
  },
  {
   "cell_type": "markdown",
   "metadata": {},
   "source": [
    "### Quick Overview\n",
    "\n",
    "Firstly, I'm going to load in one file from an earlier that I've manually downloaded from the MTA website at http://web.mta.info/developers/turnstile.html. After I get a sense of one subset of the data and how to clean it, I'll make a script to download all of the data files, clean and combine them."
   ]
  },
  {
   "cell_type": "code",
   "execution_count": 5,
   "metadata": {
    "collapsed": false
   },
   "outputs": [
    {
     "data": {
      "text/html": [
       "<div style=\"max-height:1000px;max-width:1500px;overflow:auto;\">\n",
       "<table border=\"1\" class=\"dataframe\">\n",
       "  <thead>\n",
       "    <tr style=\"text-align: right;\">\n",
       "      <th></th>\n",
       "      <th>A002</th>\n",
       "      <th>R051</th>\n",
       "      <th>02-00-00</th>\n",
       "      <th>05-21-11</th>\n",
       "      <th>00:00:00</th>\n",
       "      <th>REGULAR</th>\n",
       "      <th>003169391</th>\n",
       "      <th>001097585</th>\n",
       "      <th>05-21-11.1</th>\n",
       "      <th>04:00:00</th>\n",
       "      <th>...</th>\n",
       "      <th>05-22-11</th>\n",
       "      <th>00:00:00.1</th>\n",
       "      <th>REGULAR.6</th>\n",
       "      <th>003170119</th>\n",
       "      <th>001097792</th>\n",
       "      <th>05-22-11.1</th>\n",
       "      <th>04:00:00.1</th>\n",
       "      <th>REGULAR.7</th>\n",
       "      <th>003170146</th>\n",
       "      <th>001097801              </th>\n",
       "    </tr>\n",
       "  </thead>\n",
       "  <tbody>\n",
       "    <tr>\n",
       "      <th>0</th>\n",
       "      <td> A002</td>\n",
       "      <td> R051</td>\n",
       "      <td> 02-00-00</td>\n",
       "      <td> 05-22-11</td>\n",
       "      <td> 08:00:00</td>\n",
       "      <td> REGULAR</td>\n",
       "      <td> 3170164</td>\n",
       "      <td> 1097820</td>\n",
       "      <td> 05-22-11</td>\n",
       "      <td> 12:00:00</td>\n",
       "      <td>...</td>\n",
       "      <td> 05-23-11</td>\n",
       "      <td> 08:00:00</td>\n",
       "      <td> REGULAR</td>\n",
       "      <td> 3170746</td>\n",
       "      <td> 1098069</td>\n",
       "      <td> 05-23-11</td>\n",
       "      <td> 12:00:00</td>\n",
       "      <td> REGULAR</td>\n",
       "      <td> 3170897</td>\n",
       "      <td> 1098378</td>\n",
       "    </tr>\n",
       "    <tr>\n",
       "      <th>1</th>\n",
       "      <td> A002</td>\n",
       "      <td> R051</td>\n",
       "      <td> 02-00-00</td>\n",
       "      <td> 05-23-11</td>\n",
       "      <td> 16:00:00</td>\n",
       "      <td> REGULAR</td>\n",
       "      <td> 3171194</td>\n",
       "      <td> 1098447</td>\n",
       "      <td> 05-23-11</td>\n",
       "      <td> 20:00:00</td>\n",
       "      <td>...</td>\n",
       "      <td> 05-24-11</td>\n",
       "      <td> 16:00:00</td>\n",
       "      <td> REGULAR</td>\n",
       "      <td> 3172689</td>\n",
       "      <td> 1099010</td>\n",
       "      <td> 05-24-11</td>\n",
       "      <td> 20:00:00</td>\n",
       "      <td> REGULAR</td>\n",
       "      <td> 3173590</td>\n",
       "      <td> 1099055</td>\n",
       "    </tr>\n",
       "  </tbody>\n",
       "</table>\n",
       "<p>2 rows × 43 columns</p>\n",
       "</div>"
      ],
      "text/plain": [
       "   A002  R051  02-00-00  05-21-11  00:00:00  REGULAR  003169391  001097585  \\\n",
       "0  A002  R051  02-00-00  05-22-11  08:00:00  REGULAR    3170164    1097820   \n",
       "1  A002  R051  02-00-00  05-23-11  16:00:00  REGULAR    3171194    1098447   \n",
       "\n",
       "  05-21-11.1  04:00:00           ...            05-22-11  00:00:00.1  \\\n",
       "0   05-22-11  12:00:00           ...            05-23-11    08:00:00   \n",
       "1   05-23-11  20:00:00           ...            05-24-11    16:00:00   \n",
       "\n",
       "   REGULAR.6 003170119 001097792 05-22-11.1  04:00:00.1  REGULAR.7 003170146  \\\n",
       "0    REGULAR   3170746   1098069   05-23-11    12:00:00    REGULAR   3170897   \n",
       "1    REGULAR   3172689   1099010   05-24-11    20:00:00    REGULAR   3173590   \n",
       "\n",
       "  001097801                \n",
       "0                 1098378  \n",
       "1                 1099055  \n",
       "\n",
       "[2 rows x 43 columns]"
      ]
     },
     "execution_count": 5,
     "metadata": {},
     "output_type": "execute_result"
    }
   ],
   "source": [
    "filename = \"data/turnstile/turnstile_110528.txt\"\n",
    "df_turnstile = pd.read_csv(filename)\n",
    "df_turnstile.head(2)"
   ]
  },
  {
   "cell_type": "code",
   "execution_count": 6,
   "metadata": {
    "collapsed": false
   },
   "outputs": [
    {
     "data": {
      "text/html": [
       "<div style=\"max-height:1000px;max-width:1500px;overflow:auto;\">\n",
       "<table border=\"1\" class=\"dataframe\">\n",
       "  <thead>\n",
       "    <tr style=\"text-align: right;\">\n",
       "      <th></th>\n",
       "      <th>A002</th>\n",
       "      <th>R051</th>\n",
       "      <th>02-00-00</th>\n",
       "      <th>05-21-11</th>\n",
       "      <th>00:00:00</th>\n",
       "      <th>REGULAR</th>\n",
       "      <th>003169391</th>\n",
       "      <th>001097585</th>\n",
       "      <th>05-21-11.1</th>\n",
       "      <th>04:00:00</th>\n",
       "      <th>...</th>\n",
       "      <th>05-22-11</th>\n",
       "      <th>00:00:00.1</th>\n",
       "      <th>REGULAR.6</th>\n",
       "      <th>003170119</th>\n",
       "      <th>001097792</th>\n",
       "      <th>05-22-11.1</th>\n",
       "      <th>04:00:00.1</th>\n",
       "      <th>REGULAR.7</th>\n",
       "      <th>003170146</th>\n",
       "      <th>001097801              </th>\n",
       "    </tr>\n",
       "  </thead>\n",
       "  <tbody>\n",
       "    <tr>\n",
       "      <th>0</th>\n",
       "      <td> A002</td>\n",
       "      <td> R051</td>\n",
       "      <td> 02-00-00</td>\n",
       "      <td> 05-22-11</td>\n",
       "      <td> 08:00:00</td>\n",
       "      <td> REGULAR</td>\n",
       "      <td> 3170164</td>\n",
       "      <td> 1097820</td>\n",
       "      <td> 05-22-11</td>\n",
       "      <td> 12:00:00</td>\n",
       "      <td>...</td>\n",
       "      <td> 05-23-11</td>\n",
       "      <td> 08:00:00</td>\n",
       "      <td> REGULAR</td>\n",
       "      <td> 3170746</td>\n",
       "      <td> 1098069</td>\n",
       "      <td> 05-23-11</td>\n",
       "      <td> 12:00:00</td>\n",
       "      <td> REGULAR</td>\n",
       "      <td> 3170897</td>\n",
       "      <td> 1098378</td>\n",
       "    </tr>\n",
       "    <tr>\n",
       "      <th>1</th>\n",
       "      <td> A002</td>\n",
       "      <td> R051</td>\n",
       "      <td> 02-00-00</td>\n",
       "      <td> 05-23-11</td>\n",
       "      <td> 16:00:00</td>\n",
       "      <td> REGULAR</td>\n",
       "      <td> 3171194</td>\n",
       "      <td> 1098447</td>\n",
       "      <td> 05-23-11</td>\n",
       "      <td> 20:00:00</td>\n",
       "      <td>...</td>\n",
       "      <td> 05-24-11</td>\n",
       "      <td> 16:00:00</td>\n",
       "      <td> REGULAR</td>\n",
       "      <td> 3172689</td>\n",
       "      <td> 1099010</td>\n",
       "      <td> 05-24-11</td>\n",
       "      <td> 20:00:00</td>\n",
       "      <td> REGULAR</td>\n",
       "      <td> 3173590</td>\n",
       "      <td> 1099055</td>\n",
       "    </tr>\n",
       "  </tbody>\n",
       "</table>\n",
       "<p>2 rows × 43 columns</p>\n",
       "</div>"
      ],
      "text/plain": [
       "   A002  R051  02-00-00  05-21-11  00:00:00  REGULAR  003169391  001097585  \\\n",
       "0  A002  R051  02-00-00  05-22-11  08:00:00  REGULAR    3170164    1097820   \n",
       "1  A002  R051  02-00-00  05-23-11  16:00:00  REGULAR    3171194    1098447   \n",
       "\n",
       "  05-21-11.1  04:00:00           ...            05-22-11  00:00:00.1  \\\n",
       "0   05-22-11  12:00:00           ...            05-23-11    08:00:00   \n",
       "1   05-23-11  20:00:00           ...            05-24-11    16:00:00   \n",
       "\n",
       "   REGULAR.6 003170119 001097792 05-22-11.1  04:00:00.1  REGULAR.7 003170146  \\\n",
       "0    REGULAR   3170746   1098069   05-23-11    12:00:00    REGULAR   3170897   \n",
       "1    REGULAR   3172689   1099010   05-24-11    20:00:00    REGULAR   3173590   \n",
       "\n",
       "  001097801                \n",
       "0                 1098378  \n",
       "1                 1099055  \n",
       "\n",
       "[2 rows x 43 columns]"
      ]
     },
     "execution_count": 6,
     "metadata": {},
     "output_type": "execute_result"
    }
   ],
   "source": [
    "filename = \"data/turnstile/turnstile_110528.txt\"\n",
    "df_turnstile = pd.read_csv(filename)\n",
    "df_turnstile.head(2)"
   ]
  },
  {
   "cell_type": "code",
   "execution_count": 7,
   "metadata": {
    "collapsed": false
   },
   "outputs": [
    {
     "data": {
      "text/plain": [
       "(998, 43)"
      ]
     },
     "execution_count": 7,
     "metadata": {},
     "output_type": "execute_result"
    }
   ],
   "source": [
    "df_turnstile.shape"
   ]
  },
  {
   "cell_type": "markdown",
   "metadata": {},
   "source": [
    "There are 998 rows and an overwhelming 43 columns in this dataset. This file was written in a way where multiple observations share the same row. As a result the MTA data is notoriously difficult to work with. As adaptable as the pandas module is, it can't infer this kind of error and correct it. So I'll have to manually do it myself.\n",
    "\n",
    "Looking at the time and date columns, it's clear that each file spans exactly one week at 4 hour intervals. The time diference between each consecutive row is 32 hours.\n",
    "\n",
    "The MTA website labels the data as follows: 'C/A, UNIT, SCP, DATEn, TIMEn, DESCn, ENTRIESn, EXITSn'. The first 3 columns are identification data. Then elements should be chopped from the original data, 5 elements at a time and written into the new file. Next is a sequence of columns with a timestamp, type of report, entry count, and exit count, which repeats 8 times! This figure lines up with the shape of our dataframe (3 + (5 x 8)) = 43.\n",
    "\n"
   ]
  },
  {
   "cell_type": "markdown",
   "metadata": {},
   "source": [
    "### Restructuring the data"
   ]
  },
  {
   "cell_type": "code",
   "execution_count": 10,
   "metadata": {
    "collapsed": true
   },
   "outputs": [],
   "source": [
    "def fix_turnstile_data(filepath):\n",
    "    '''\n",
    "    Filepath is a location of a MTA Subway turnstile text file.A link to an example\n",
    "    MTA Subway turnstile text file can be seen at the URL below:\n",
    "    http://web.mta.info/developers/data/nyct/turnstile/turnstile_110507.txt\n",
    "    \n",
    "    There are numerous data points included in each row of the text file. \n",
    "\n",
    "    This function updates each row in the text file so there is only one entry per row.\n",
    "    A few examples below:\n",
    "    A002,R051,02-00-00,05-28-11,00:00:00,REGULAR,003178521,001100739\n",
    "    A002,R051,02-00-00,05-28-11,04:00:00,REGULAR,003178541,001100746\n",
    "    A002,R051,02-00-00,05-28-11,08:00:00,REGULAR,003178559,001100775\n",
    "    \n",
    "    This file is then written into a new related directory.\n",
    "    '''\n",
    "    \n",
    "    for file in filepath:\n",
    "        \n",
    "        # Parse the directory and filename from the input.\n",
    "        splitted = file.split('/')\n",
    "        directory, filename = splitted[0:2], splitted[2]\n",
    "\n",
    "        # Read the file into memory.\n",
    "        r = csv.reader(open(file, 'rb'))\n",
    "\n",
    "        # Prepare the output directory.\n",
    "        newpath = \"data/turnstile/updated_data\"\n",
    "        #newpath = 'data/turnstile'\n",
    "        \n",
    "        if not os.path.exists(newpath): \n",
    "            os.makedirs(newpath)\n",
    "\n",
    "        # Create the output file in the new directory. Overwrite the file if it exists already(wb).\n",
    "        w = csv.writer(open(\"{0}/{1}\".format(newpath, filename), 'wb'))\n",
    "\n",
    "        # Write the header row, taken from the mta website.\n",
    "        w.writerow(['C/A', 'UNIT', 'SCP', 'DATEn', 'TIMEn', 'DESCn', 'ENTRIESn', 'EXITSn'])\n",
    "\n",
    "        # Loop through the output from the CSV reader a line at a time.\n",
    "        for line in r:\n",
    "\n",
    "            # Parse out the elements, and remove them from the row.\n",
    "            ca = line.pop(0)\n",
    "            unit = line.pop(0)\n",
    "            scp = line.pop(0)\n",
    "\n",
    "            # While there is still new data, parse it.\n",
    "            while len(line) >= 5:\n",
    "\n",
    "                # Take the first 5 elements and remove them.\n",
    "                block, line = line[:5], line[5:]\n",
    "\n",
    "                # Output the new row.\n",
    "                w.writerow([ca, unit, scp] + block)"
   ]
  },
  {
   "cell_type": "markdown",
   "metadata": {},
   "source": [
    "As it turns out, the MTA have been overhauling their data collection. Their website, API and even the data recording method have changed. The new files are all structured nicely, meaning that the previous work was unneccessary. Oh well, it was good data munging practice at least so I'll leave it in for future reference!"
   ]
  },
  {
   "cell_type": "markdown",
   "metadata": {
    "collapsed": true
   },
   "source": [
    "## Single File - Old Data"
   ]
  },
  {
   "cell_type": "code",
   "execution_count": 44,
   "metadata": {
    "collapsed": false
   },
   "outputs": [
    {
     "data": {
      "text/html": [
       "<div style=\"max-height:1000px;max-width:1500px;overflow:auto;\">\n",
       "<table border=\"1\" class=\"dataframe\">\n",
       "  <thead>\n",
       "    <tr style=\"text-align: right;\">\n",
       "      <th></th>\n",
       "      <th>C/A</th>\n",
       "      <th>UNIT</th>\n",
       "      <th>SCP</th>\n",
       "      <th>STATION</th>\n",
       "      <th>LINENAME</th>\n",
       "      <th>DIVISION</th>\n",
       "      <th>DATE</th>\n",
       "      <th>TIME</th>\n",
       "      <th>DESC</th>\n",
       "      <th>ENTRIES</th>\n",
       "      <th>EXITS                                                               </th>\n",
       "    </tr>\n",
       "  </thead>\n",
       "  <tbody>\n",
       "    <tr>\n",
       "      <th>0</th>\n",
       "      <td> A002</td>\n",
       "      <td> R051</td>\n",
       "      <td> 02-00-00</td>\n",
       "      <td> LEXINGTON AVE</td>\n",
       "      <td> NQR456</td>\n",
       "      <td> BMT</td>\n",
       "      <td> 04/25/2015</td>\n",
       "      <td> 00:00:00</td>\n",
       "      <td> REGULAR</td>\n",
       "      <td> 5106770</td>\n",
       "      <td> 1729635</td>\n",
       "    </tr>\n",
       "    <tr>\n",
       "      <th>1</th>\n",
       "      <td> A002</td>\n",
       "      <td> R051</td>\n",
       "      <td> 02-00-00</td>\n",
       "      <td> LEXINGTON AVE</td>\n",
       "      <td> NQR456</td>\n",
       "      <td> BMT</td>\n",
       "      <td> 04/25/2015</td>\n",
       "      <td> 04:00:00</td>\n",
       "      <td> REGULAR</td>\n",
       "      <td> 5106810</td>\n",
       "      <td> 1729649</td>\n",
       "    </tr>\n",
       "  </tbody>\n",
       "</table>\n",
       "</div>"
      ],
      "text/plain": [
       "    C/A  UNIT       SCP        STATION LINENAME DIVISION        DATE  \\\n",
       "0  A002  R051  02-00-00  LEXINGTON AVE   NQR456      BMT  04/25/2015   \n",
       "1  A002  R051  02-00-00  LEXINGTON AVE   NQR456      BMT  04/25/2015   \n",
       "\n",
       "       TIME     DESC  ENTRIES  \\\n",
       "0  00:00:00  REGULAR  5106770   \n",
       "1  04:00:00  REGULAR  5106810   \n",
       "\n",
       "   EXITS                                                                 \n",
       "0                                            1729635                     \n",
       "1                                            1729649                     "
      ]
     },
     "execution_count": 44,
     "metadata": {},
     "output_type": "execute_result"
    }
   ],
   "source": [
    "# Load in a new, recent record.\n",
    "newfile = 'data/turnstile/150502.txt'\n",
    "df = pd.read_csv(newfile)\n",
    "df.head(2)"
   ]
  },
  {
   "cell_type": "code",
   "execution_count": 45,
   "metadata": {
    "collapsed": false
   },
   "outputs": [
    {
     "data": {
      "text/plain": [
       "(192388, 11)"
      ]
     },
     "execution_count": 45,
     "metadata": {},
     "output_type": "execute_result"
    }
   ],
   "source": [
    "df.shape"
   ]
  },
  {
   "cell_type": "markdown",
   "metadata": {},
   "source": [
    "As I mentioned before this is a much nicer format to work with. There is one tiny thing that needs to be corrected straight away though."
   ]
  },
  {
   "cell_type": "code",
   "execution_count": 46,
   "metadata": {
    "collapsed": false
   },
   "outputs": [
    {
     "data": {
      "text/plain": [
       "array(['C/A', 'UNIT', 'SCP', 'STATION', 'LINENAME', 'DIVISION', 'DATE',\n",
       "       'TIME', 'DESC', 'ENTRIES',\n",
       "       'EXITS                                                               '], dtype=object)"
      ]
     },
     "execution_count": 46,
     "metadata": {},
     "output_type": "execute_result"
    }
   ],
   "source": [
    "df.columns.values"
   ]
  },
  {
   "cell_type": "markdown",
   "metadata": {},
   "source": [
    "There's trailing white space after EXITS. I tried experimenting with different partameteres for read_csv but nothing was working, so I need to manually deal with it."
   ]
  },
  {
   "cell_type": "code",
   "execution_count": 47,
   "metadata": {
    "collapsed": true
   },
   "outputs": [],
   "source": [
    "df.columns = ['C/A', 'UNIT', 'SCP', 'STATION', 'LINENAME', 'DIVISION', 'DATE', 'TIME', 'DESC', 'ENTRIES', 'EXITS']"
   ]
  },
  {
   "cell_type": "markdown",
   "metadata": {},
   "source": [
    "### Understanding the Variables\n",
    "\n",
    "From the documentation on [MTA](http://web.mta.info/developers/resources/nyct/turnstile/ts_Field_Description.txt), here's what the variables mean:\n",
    "\n",
    "\n",
    "````\n",
    "======================================\n",
    "Field Description\n",
    "\n",
    "C/A,UNIT,SCP,STATION,LINENAME,DIVISION,DATE,TIME,DESC,ENTRIES,EXITS\n",
    "\n",
    "C/A      = Control Area (A002) - Booth\n",
    "UNIT     = Remote Unit for a station (R051)\n",
    "SCP      = Subunit Channel Position represents an specific address for a device (02-00-00)\n",
    "STATION  = Represents the station name the device is located at\n",
    "LINENAME = Represents all train lines that can be boarded at this station\n",
    "           Normally lines are represented by one character.  LINENAME 456NQR repersents train server for 4, 5, 6, N, Q, and R trains.\n",
    "DIVISION = Represents the Line originally the station belonged to BMT, IRT, or IND   \n",
    "DATE     = Represents the date (MM-DD-YY)\n",
    "TIME     = Represents the time (hh:mm:ss) for a scheduled audit event\n",
    "DESc     = Represent the \"REGULAR\" scheduled audit event (Normally occurs every 4 hours)\n",
    "           1. Audits may occur more that 4 hours due to planning, or troubleshooting activities. \n",
    "           2. Additionally, there may be a \"RECOVR AUD\" entry: This refers to a missed audit that was recovered. \n",
    "ENTRIES  = The comulative entry register value for a device\n",
    "EXIST    = The cumulative exit register value for a device\n",
    "\n",
    "\n",
    "Example:\n",
    "The data below shows the entry/exit register values for one turnstile at control area (A002) from 09/27/14 at 00:00 hours to 09/29/14 at 00:00 hours\n",
    "\n",
    "C/A,UNIT,SCP,STATION,LINENAME,DIVISION,DATE,TIME,DESC,ENTRIES,EXITS\n",
    "A002,R051,02-00-00,LEXINGTON AVE,456NQR,BMT,09-27-14,00:00:00,REGULAR,0004800073,0001629137,\n",
    "A002,R051,02-00-00,LEXINGTON AVE,456NQR,BMT,09-27-14,04:00:00,REGULAR,0004800125,0001629149,\n",
    "A002,R051,02-00-00,LEXINGTON AVE,456NQR,BMT,09-27-14,08:00:00,REGULAR,0004800146,0001629162,\n",
    "A002,R051,02-00-00,LEXINGTON AVE,456NQR,BMT,09-27-14,12:00:00,REGULAR,0004800264,0001629264,\n",
    "======================================\n",
    "````\n",
    "\n",
    "In order to get a unique turnstile you need to provide the C/A UNIT and SCP reference. Here is a good way to help understand the identifier columns:"
   ]
  },
  {
   "cell_type": "code",
   "execution_count": 48,
   "metadata": {
    "collapsed": false
   },
   "outputs": [
    {
     "data": {
      "text/html": [
       "<div style=\"max-height:1000px;max-width:1500px;overflow:auto;\">\n",
       "<table border=\"1\" class=\"dataframe\">\n",
       "  <thead>\n",
       "    <tr style=\"text-align: right;\">\n",
       "      <th></th>\n",
       "      <th></th>\n",
       "      <th></th>\n",
       "      <th>STATION</th>\n",
       "      <th>LINENAME</th>\n",
       "      <th>DIVISION</th>\n",
       "      <th>DATE</th>\n",
       "      <th>TIME</th>\n",
       "      <th>DESC</th>\n",
       "      <th>ENTRIES</th>\n",
       "      <th>EXITS</th>\n",
       "    </tr>\n",
       "    <tr>\n",
       "      <th>C/A</th>\n",
       "      <th>UNIT</th>\n",
       "      <th>SCP</th>\n",
       "      <th></th>\n",
       "      <th></th>\n",
       "      <th></th>\n",
       "      <th></th>\n",
       "      <th></th>\n",
       "      <th></th>\n",
       "      <th></th>\n",
       "      <th></th>\n",
       "    </tr>\n",
       "  </thead>\n",
       "  <tbody>\n",
       "    <tr>\n",
       "      <th rowspan=\"12\" valign=\"top\">A002</th>\n",
       "      <th rowspan=\"12\" valign=\"top\">R051</th>\n",
       "      <th>02-00-00</th>\n",
       "      <td> LEXINGTON AVE</td>\n",
       "      <td> NQR456</td>\n",
       "      <td> BMT</td>\n",
       "      <td> 04/25/2015</td>\n",
       "      <td> 00:00:00</td>\n",
       "      <td> REGULAR</td>\n",
       "      <td>  5106770</td>\n",
       "      <td>  1729635</td>\n",
       "    </tr>\n",
       "    <tr>\n",
       "      <th>02-00-01</th>\n",
       "      <td> LEXINGTON AVE</td>\n",
       "      <td> NQR456</td>\n",
       "      <td> BMT</td>\n",
       "      <td> 04/25/2015</td>\n",
       "      <td> 00:00:00</td>\n",
       "      <td> REGULAR</td>\n",
       "      <td>  4731487</td>\n",
       "      <td>  1032592</td>\n",
       "    </tr>\n",
       "    <tr>\n",
       "      <th>02-03-00</th>\n",
       "      <td> LEXINGTON AVE</td>\n",
       "      <td> NQR456</td>\n",
       "      <td> BMT</td>\n",
       "      <td> 04/25/2015</td>\n",
       "      <td> 00:00:00</td>\n",
       "      <td> REGULAR</td>\n",
       "      <td>   485048</td>\n",
       "      <td>  1830747</td>\n",
       "    </tr>\n",
       "    <tr>\n",
       "      <th>02-03-01</th>\n",
       "      <td> LEXINGTON AVE</td>\n",
       "      <td> NQR456</td>\n",
       "      <td> BMT</td>\n",
       "      <td> 04/25/2015</td>\n",
       "      <td> 00:00:00</td>\n",
       "      <td> REGULAR</td>\n",
       "      <td>  4676295</td>\n",
       "      <td>  7354831</td>\n",
       "    </tr>\n",
       "    <tr>\n",
       "      <th>02-03-02</th>\n",
       "      <td> LEXINGTON AVE</td>\n",
       "      <td> NQR456</td>\n",
       "      <td> BMT</td>\n",
       "      <td> 04/25/2015</td>\n",
       "      <td> 00:00:00</td>\n",
       "      <td> REGULAR</td>\n",
       "      <td>  4408528</td>\n",
       "      <td>  6068297</td>\n",
       "    </tr>\n",
       "    <tr>\n",
       "      <th>02-03-03</th>\n",
       "      <td> LEXINGTON AVE</td>\n",
       "      <td> NQR456</td>\n",
       "      <td> BMT</td>\n",
       "      <td> 04/25/2015</td>\n",
       "      <td> 00:00:00</td>\n",
       "      <td> REGULAR</td>\n",
       "      <td>  4047887</td>\n",
       "      <td>  4939492</td>\n",
       "    </tr>\n",
       "    <tr>\n",
       "      <th>02-03-04</th>\n",
       "      <td> LEXINGTON AVE</td>\n",
       "      <td> NQR456</td>\n",
       "      <td> BMT</td>\n",
       "      <td> 04/25/2015</td>\n",
       "      <td> 00:00:00</td>\n",
       "      <td> REGULAR</td>\n",
       "      <td>  5135141</td>\n",
       "      <td>  2900798</td>\n",
       "    </tr>\n",
       "    <tr>\n",
       "      <th>02-03-05</th>\n",
       "      <td> LEXINGTON AVE</td>\n",
       "      <td> NQR456</td>\n",
       "      <td> BMT</td>\n",
       "      <td> 04/25/2015</td>\n",
       "      <td> 00:00:00</td>\n",
       "      <td> REGULAR</td>\n",
       "      <td>  8355786</td>\n",
       "      <td>  1197453</td>\n",
       "    </tr>\n",
       "    <tr>\n",
       "      <th>02-03-06</th>\n",
       "      <td> LEXINGTON AVE</td>\n",
       "      <td> NQR456</td>\n",
       "      <td> BMT</td>\n",
       "      <td> 04/25/2015</td>\n",
       "      <td> 00:00:00</td>\n",
       "      <td> REGULAR</td>\n",
       "      <td>  6513528</td>\n",
       "      <td>   461989</td>\n",
       "    </tr>\n",
       "    <tr>\n",
       "      <th>02-05-00</th>\n",
       "      <td> LEXINGTON AVE</td>\n",
       "      <td> NQR456</td>\n",
       "      <td> BMT</td>\n",
       "      <td> 04/25/2015</td>\n",
       "      <td> 00:00:00</td>\n",
       "      <td> REGULAR</td>\n",
       "      <td>     1152</td>\n",
       "      <td>        0</td>\n",
       "    </tr>\n",
       "    <tr>\n",
       "      <th>02-05-01</th>\n",
       "      <td> LEXINGTON AVE</td>\n",
       "      <td> NQR456</td>\n",
       "      <td> BMT</td>\n",
       "      <td> 04/25/2015</td>\n",
       "      <td> 00:00:00</td>\n",
       "      <td> REGULAR</td>\n",
       "      <td>        0</td>\n",
       "      <td>      593</td>\n",
       "    </tr>\n",
       "    <tr>\n",
       "      <th>02-06-00</th>\n",
       "      <td> LEXINGTON AVE</td>\n",
       "      <td> NQR456</td>\n",
       "      <td> BMT</td>\n",
       "      <td> 04/25/2015</td>\n",
       "      <td> 00:00:00</td>\n",
       "      <td> REGULAR</td>\n",
       "      <td>  5657918</td>\n",
       "      <td>   132787</td>\n",
       "    </tr>\n",
       "    <tr>\n",
       "      <th rowspan=\"8\" valign=\"top\">A006</th>\n",
       "      <th rowspan=\"8\" valign=\"top\">R079</th>\n",
       "      <th>00-00-00</th>\n",
       "      <td>   5 AVE-59 ST</td>\n",
       "      <td>    NQR</td>\n",
       "      <td> BMT</td>\n",
       "      <td> 04/25/2015</td>\n",
       "      <td> 02:00:00</td>\n",
       "      <td> REGULAR</td>\n",
       "      <td>  1602728</td>\n",
       "      <td>  2894883</td>\n",
       "    </tr>\n",
       "    <tr>\n",
       "      <th>00-00-01</th>\n",
       "      <td>   5 AVE-59 ST</td>\n",
       "      <td>    NQR</td>\n",
       "      <td> BMT</td>\n",
       "      <td> 04/25/2015</td>\n",
       "      <td> 02:00:00</td>\n",
       "      <td> REGULAR</td>\n",
       "      <td>  2883227</td>\n",
       "      <td>  1939818</td>\n",
       "    </tr>\n",
       "    <tr>\n",
       "      <th>00-00-02</th>\n",
       "      <td>   5 AVE-59 ST</td>\n",
       "      <td>    NQR</td>\n",
       "      <td> BMT</td>\n",
       "      <td> 04/25/2015</td>\n",
       "      <td> 02:00:00</td>\n",
       "      <td> REGULAR</td>\n",
       "      <td>  6874354</td>\n",
       "      <td>  3076458</td>\n",
       "    </tr>\n",
       "    <tr>\n",
       "      <th>00-00-03</th>\n",
       "      <td>   5 AVE-59 ST</td>\n",
       "      <td>    NQR</td>\n",
       "      <td> BMT</td>\n",
       "      <td> 04/25/2015</td>\n",
       "      <td> 02:00:00</td>\n",
       "      <td> REGULAR</td>\n",
       "      <td>  1613980</td>\n",
       "      <td>   620019</td>\n",
       "    </tr>\n",
       "    <tr>\n",
       "      <th>00-00-04</th>\n",
       "      <td>   5 AVE-59 ST</td>\n",
       "      <td>    NQR</td>\n",
       "      <td> BMT</td>\n",
       "      <td> 04/25/2015</td>\n",
       "      <td> 02:00:00</td>\n",
       "      <td> REGULAR</td>\n",
       "      <td>  6353539</td>\n",
       "      <td>  2835580</td>\n",
       "    </tr>\n",
       "    <tr>\n",
       "      <th>00-03-00</th>\n",
       "      <td>   5 AVE-59 ST</td>\n",
       "      <td>    NQR</td>\n",
       "      <td> BMT</td>\n",
       "      <td> 04/25/2015</td>\n",
       "      <td> 02:00:00</td>\n",
       "      <td> REGULAR</td>\n",
       "      <td>  7374652</td>\n",
       "      <td>  3366349</td>\n",
       "    </tr>\n",
       "    <tr>\n",
       "      <th>00-03-01</th>\n",
       "      <td>   5 AVE-59 ST</td>\n",
       "      <td>    NQR</td>\n",
       "      <td> BMT</td>\n",
       "      <td> 04/25/2015</td>\n",
       "      <td> 02:00:00</td>\n",
       "      <td> REGULAR</td>\n",
       "      <td>  1115145</td>\n",
       "      <td>   585472</td>\n",
       "    </tr>\n",
       "    <tr>\n",
       "      <th>00-03-02</th>\n",
       "      <td>   5 AVE-59 ST</td>\n",
       "      <td>    NQR</td>\n",
       "      <td> BMT</td>\n",
       "      <td> 04/25/2015</td>\n",
       "      <td> 02:00:00</td>\n",
       "      <td> REGULAR</td>\n",
       "      <td> 12626359</td>\n",
       "      <td> 13402937</td>\n",
       "    </tr>\n",
       "  </tbody>\n",
       "</table>\n",
       "</div>"
      ],
      "text/plain": [
       "                          STATION LINENAME DIVISION        DATE      TIME  \\\n",
       "C/A  UNIT SCP                                                               \n",
       "A002 R051 02-00-00  LEXINGTON AVE   NQR456      BMT  04/25/2015  00:00:00   \n",
       "          02-00-01  LEXINGTON AVE   NQR456      BMT  04/25/2015  00:00:00   \n",
       "          02-03-00  LEXINGTON AVE   NQR456      BMT  04/25/2015  00:00:00   \n",
       "          02-03-01  LEXINGTON AVE   NQR456      BMT  04/25/2015  00:00:00   \n",
       "          02-03-02  LEXINGTON AVE   NQR456      BMT  04/25/2015  00:00:00   \n",
       "          02-03-03  LEXINGTON AVE   NQR456      BMT  04/25/2015  00:00:00   \n",
       "          02-03-04  LEXINGTON AVE   NQR456      BMT  04/25/2015  00:00:00   \n",
       "          02-03-05  LEXINGTON AVE   NQR456      BMT  04/25/2015  00:00:00   \n",
       "          02-03-06  LEXINGTON AVE   NQR456      BMT  04/25/2015  00:00:00   \n",
       "          02-05-00  LEXINGTON AVE   NQR456      BMT  04/25/2015  00:00:00   \n",
       "          02-05-01  LEXINGTON AVE   NQR456      BMT  04/25/2015  00:00:00   \n",
       "          02-06-00  LEXINGTON AVE   NQR456      BMT  04/25/2015  00:00:00   \n",
       "A006 R079 00-00-00    5 AVE-59 ST      NQR      BMT  04/25/2015  02:00:00   \n",
       "          00-00-01    5 AVE-59 ST      NQR      BMT  04/25/2015  02:00:00   \n",
       "          00-00-02    5 AVE-59 ST      NQR      BMT  04/25/2015  02:00:00   \n",
       "          00-00-03    5 AVE-59 ST      NQR      BMT  04/25/2015  02:00:00   \n",
       "          00-00-04    5 AVE-59 ST      NQR      BMT  04/25/2015  02:00:00   \n",
       "          00-03-00    5 AVE-59 ST      NQR      BMT  04/25/2015  02:00:00   \n",
       "          00-03-01    5 AVE-59 ST      NQR      BMT  04/25/2015  02:00:00   \n",
       "          00-03-02    5 AVE-59 ST      NQR      BMT  04/25/2015  02:00:00   \n",
       "\n",
       "                       DESC   ENTRIES     EXITS  \n",
       "C/A  UNIT SCP                                    \n",
       "A002 R051 02-00-00  REGULAR   5106770   1729635  \n",
       "          02-00-01  REGULAR   4731487   1032592  \n",
       "          02-03-00  REGULAR    485048   1830747  \n",
       "          02-03-01  REGULAR   4676295   7354831  \n",
       "          02-03-02  REGULAR   4408528   6068297  \n",
       "          02-03-03  REGULAR   4047887   4939492  \n",
       "          02-03-04  REGULAR   5135141   2900798  \n",
       "          02-03-05  REGULAR   8355786   1197453  \n",
       "          02-03-06  REGULAR   6513528    461989  \n",
       "          02-05-00  REGULAR      1152         0  \n",
       "          02-05-01  REGULAR         0       593  \n",
       "          02-06-00  REGULAR   5657918    132787  \n",
       "A006 R079 00-00-00  REGULAR   1602728   2894883  \n",
       "          00-00-01  REGULAR   2883227   1939818  \n",
       "          00-00-02  REGULAR   6874354   3076458  \n",
       "          00-00-03  REGULAR   1613980    620019  \n",
       "          00-00-04  REGULAR   6353539   2835580  \n",
       "          00-03-00  REGULAR   7374652   3366349  \n",
       "          00-03-01  REGULAR   1115145    585472  \n",
       "          00-03-02  REGULAR  12626359  13402937  "
      ]
     },
     "execution_count": 48,
     "metadata": {},
     "output_type": "execute_result"
    }
   ],
   "source": [
    "df.groupby(['C/A', 'UNIT', 'SCP']).first().head(20)"
   ]
  },
  {
   "cell_type": "markdown",
   "metadata": {},
   "source": [
    "### Observations not on the Hour"
   ]
  },
  {
   "cell_type": "markdown",
   "metadata": {},
   "source": [
    "The data for the turnstile is written on the hour and in 4 hour intervals. Sometimes the first entry is midnight, sometimes 1am etc. Any entry that is not on the hour is most likely due to maintenance and can be ignored."
   ]
  },
  {
   "cell_type": "code",
   "execution_count": 49,
   "metadata": {
    "collapsed": true
   },
   "outputs": [],
   "source": [
    "filter_onhour = [((pd.to_datetime(df.TIME[n])).minute != 0) for n in range(len(df))]"
   ]
  },
  {
   "cell_type": "code",
   "execution_count": 50,
   "metadata": {
    "collapsed": false
   },
   "outputs": [
    {
     "data": {
      "text/html": [
       "<div style=\"max-height:1000px;max-width:1500px;overflow:auto;\">\n",
       "<table border=\"1\" class=\"dataframe\">\n",
       "  <thead>\n",
       "    <tr style=\"text-align: right;\">\n",
       "      <th></th>\n",
       "      <th>C/A</th>\n",
       "      <th>UNIT</th>\n",
       "      <th>SCP</th>\n",
       "      <th>STATION</th>\n",
       "      <th>LINENAME</th>\n",
       "      <th>DIVISION</th>\n",
       "      <th>DATE</th>\n",
       "      <th>TIME</th>\n",
       "      <th>DESC</th>\n",
       "      <th>ENTRIES</th>\n",
       "      <th>EXITS</th>\n",
       "    </tr>\n",
       "  </thead>\n",
       "  <tbody>\n",
       "    <tr>\n",
       "      <th>1707</th>\n",
       "      <td> A013</td>\n",
       "      <td> R081</td>\n",
       "      <td> 01-00-00</td>\n",
       "      <td> 49 ST-7 AVE</td>\n",
       "      <td> NQR</td>\n",
       "      <td> BMT</td>\n",
       "      <td> 04/29/2015</td>\n",
       "      <td> 08:12:40</td>\n",
       "      <td> REGULAR</td>\n",
       "      <td> 5270306</td>\n",
       "      <td> 30939048</td>\n",
       "    </tr>\n",
       "    <tr>\n",
       "      <th>1750</th>\n",
       "      <td> A013</td>\n",
       "      <td> R081</td>\n",
       "      <td> 01-03-00</td>\n",
       "      <td> 49 ST-7 AVE</td>\n",
       "      <td> NQR</td>\n",
       "      <td> BMT</td>\n",
       "      <td> 04/29/2015</td>\n",
       "      <td> 08:12:40</td>\n",
       "      <td> REGULAR</td>\n",
       "      <td> 2911534</td>\n",
       "      <td>  3345354</td>\n",
       "    </tr>\n",
       "  </tbody>\n",
       "</table>\n",
       "</div>"
      ],
      "text/plain": [
       "       C/A  UNIT       SCP      STATION LINENAME DIVISION        DATE  \\\n",
       "1707  A013  R081  01-00-00  49 ST-7 AVE      NQR      BMT  04/29/2015   \n",
       "1750  A013  R081  01-03-00  49 ST-7 AVE      NQR      BMT  04/29/2015   \n",
       "\n",
       "          TIME     DESC  ENTRIES     EXITS  \n",
       "1707  08:12:40  REGULAR  5270306  30939048  \n",
       "1750  08:12:40  REGULAR  2911534   3345354  "
      ]
     },
     "execution_count": 50,
     "metadata": {},
     "output_type": "execute_result"
    }
   ],
   "source": [
    "df[filter_onhour].head(2)"
   ]
  },
  {
   "cell_type": "code",
   "execution_count": 51,
   "metadata": {
    "collapsed": false
   },
   "outputs": [
    {
     "data": {
      "text/html": [
       "<div style=\"max-height:1000px;max-width:1500px;overflow:auto;\">\n",
       "<table border=\"1\" class=\"dataframe\">\n",
       "  <thead>\n",
       "    <tr style=\"text-align: right;\">\n",
       "      <th></th>\n",
       "      <th>C/A</th>\n",
       "      <th>UNIT</th>\n",
       "      <th>SCP</th>\n",
       "      <th>STATION</th>\n",
       "      <th>LINENAME</th>\n",
       "      <th>DIVISION</th>\n",
       "      <th>DATE</th>\n",
       "      <th>TIME</th>\n",
       "      <th>DESC</th>\n",
       "      <th>ENTRIES</th>\n",
       "      <th>EXITS</th>\n",
       "    </tr>\n",
       "  </thead>\n",
       "  <tbody>\n",
       "    <tr>\n",
       "      <th>1706</th>\n",
       "      <td> A013</td>\n",
       "      <td> R081</td>\n",
       "      <td> 01-00-00</td>\n",
       "      <td> 49 ST-7 AVE</td>\n",
       "      <td> NQR</td>\n",
       "      <td> BMT</td>\n",
       "      <td> 04/29/2015</td>\n",
       "      <td> 08:00:00</td>\n",
       "      <td> REGULAR</td>\n",
       "      <td> 5270301</td>\n",
       "      <td> 30938948</td>\n",
       "    </tr>\n",
       "    <tr>\n",
       "      <th>1707</th>\n",
       "      <td> A013</td>\n",
       "      <td> R081</td>\n",
       "      <td> 01-00-00</td>\n",
       "      <td> 49 ST-7 AVE</td>\n",
       "      <td> NQR</td>\n",
       "      <td> BMT</td>\n",
       "      <td> 04/29/2015</td>\n",
       "      <td> 08:12:40</td>\n",
       "      <td> REGULAR</td>\n",
       "      <td> 5270306</td>\n",
       "      <td> 30939048</td>\n",
       "    </tr>\n",
       "    <tr>\n",
       "      <th>1708</th>\n",
       "      <td> A013</td>\n",
       "      <td> R081</td>\n",
       "      <td> 01-00-00</td>\n",
       "      <td> 49 ST-7 AVE</td>\n",
       "      <td> NQR</td>\n",
       "      <td> BMT</td>\n",
       "      <td> 04/29/2015</td>\n",
       "      <td> 12:00:00</td>\n",
       "      <td> REGULAR</td>\n",
       "      <td> 5270372</td>\n",
       "      <td> 30940882</td>\n",
       "    </tr>\n",
       "  </tbody>\n",
       "</table>\n",
       "</div>"
      ],
      "text/plain": [
       "       C/A  UNIT       SCP      STATION LINENAME DIVISION        DATE  \\\n",
       "1706  A013  R081  01-00-00  49 ST-7 AVE      NQR      BMT  04/29/2015   \n",
       "1707  A013  R081  01-00-00  49 ST-7 AVE      NQR      BMT  04/29/2015   \n",
       "1708  A013  R081  01-00-00  49 ST-7 AVE      NQR      BMT  04/29/2015   \n",
       "\n",
       "          TIME     DESC  ENTRIES     EXITS  \n",
       "1706  08:00:00  REGULAR  5270301  30938948  \n",
       "1707  08:12:40  REGULAR  5270306  30939048  \n",
       "1708  12:00:00  REGULAR  5270372  30940882  "
      ]
     },
     "execution_count": 51,
     "metadata": {},
     "output_type": "execute_result"
    }
   ],
   "source": [
    "df.ix[[1706, 1707, 1708]]"
   ]
  },
  {
   "cell_type": "markdown",
   "metadata": {},
   "source": [
    "The extra row from maintenance doesn't capture any information that the other 2 don't already. Therefore I'm going to remove all non-hour rows."
   ]
  },
  {
   "cell_type": "code",
   "execution_count": 52,
   "metadata": {
    "collapsed": true
   },
   "outputs": [],
   "source": [
    "df2 = df.drop(list(df.loc[filter_onhour].index))\n",
    "df2 = df2.reset_index()\n",
    "df = df2"
   ]
  },
  {
   "cell_type": "markdown",
   "metadata": {},
   "source": [
    "### Different Types\n",
    "\n",
    "There are different types of \"DESC\" according to the documentation.\n",
    "\n",
    "===========================\n",
    "````\n",
    "Descn Possible Values (Events):\n",
    "REGULAR - Regular scheduled audit event\n",
    "NO-VAL LGN - Not Valid logon\n",
    "LGF-MAN - Logoff Manual\n",
    "LGF-DR CLS - Logoff Door Closed\n",
    "LGF-SHUTDN - Logoff Shutdown\n",
    "TS BRD CHG - Turnstile Board Change\n",
    "TS VLT OPN - Turnstile Vault Open\n",
    "RECOVR AUD - Recovery audit - if REGULAR was not delivered due to communications problems\n",
    "````\n",
    "===========================\n"
   ]
  },
  {
   "cell_type": "code",
   "execution_count": 53,
   "metadata": {
    "collapsed": false
   },
   "outputs": [
    {
     "data": {
      "text/plain": [
       "array(['REGULAR', 'RECOVR AUD'], dtype=object)"
      ]
     },
     "execution_count": 53,
     "metadata": {},
     "output_type": "execute_result"
    }
   ],
   "source": [
    "df.DESC.unique()"
   ]
  },
  {
   "cell_type": "code",
   "execution_count": 54,
   "metadata": {
    "collapsed": false
   },
   "outputs": [
    {
     "data": {
      "text/html": [
       "<div style=\"max-height:1000px;max-width:1500px;overflow:auto;\">\n",
       "<table border=\"1\" class=\"dataframe\">\n",
       "  <thead>\n",
       "    <tr style=\"text-align: right;\">\n",
       "      <th></th>\n",
       "      <th>index</th>\n",
       "      <th>C/A</th>\n",
       "      <th>UNIT</th>\n",
       "      <th>SCP</th>\n",
       "      <th>STATION</th>\n",
       "      <th>LINENAME</th>\n",
       "      <th>DIVISION</th>\n",
       "      <th>DATE</th>\n",
       "      <th>TIME</th>\n",
       "      <th>DESC</th>\n",
       "      <th>ENTRIES</th>\n",
       "      <th>EXITS</th>\n",
       "    </tr>\n",
       "  </thead>\n",
       "  <tbody>\n",
       "    <tr>\n",
       "      <th>1113</th>\n",
       "      <td> 1113</td>\n",
       "      <td> A010</td>\n",
       "      <td> R080</td>\n",
       "      <td> 00-00-00</td>\n",
       "      <td> 57 ST-7 AVE</td>\n",
       "      <td> NQR</td>\n",
       "      <td> BMT</td>\n",
       "      <td> 04/28/2015</td>\n",
       "      <td> 12:00:00</td>\n",
       "      <td> RECOVR AUD</td>\n",
       "      <td>   143112</td>\n",
       "      <td>   85613</td>\n",
       "    </tr>\n",
       "    <tr>\n",
       "      <th>1155</th>\n",
       "      <td> 1155</td>\n",
       "      <td> A010</td>\n",
       "      <td> R080</td>\n",
       "      <td> 00-00-01</td>\n",
       "      <td> 57 ST-7 AVE</td>\n",
       "      <td> NQR</td>\n",
       "      <td> BMT</td>\n",
       "      <td> 04/28/2015</td>\n",
       "      <td> 12:00:00</td>\n",
       "      <td> RECOVR AUD</td>\n",
       "      <td> 12250490</td>\n",
       "      <td> 4537590</td>\n",
       "    </tr>\n",
       "    <tr>\n",
       "      <th>1197</th>\n",
       "      <td> 1197</td>\n",
       "      <td> A010</td>\n",
       "      <td> R080</td>\n",
       "      <td> 00-00-02</td>\n",
       "      <td> 57 ST-7 AVE</td>\n",
       "      <td> NQR</td>\n",
       "      <td> BMT</td>\n",
       "      <td> 04/28/2015</td>\n",
       "      <td> 12:00:00</td>\n",
       "      <td> RECOVR AUD</td>\n",
       "      <td>  8936510</td>\n",
       "      <td> 3456835</td>\n",
       "    </tr>\n",
       "    <tr>\n",
       "      <th>1239</th>\n",
       "      <td> 1239</td>\n",
       "      <td> A010</td>\n",
       "      <td> R080</td>\n",
       "      <td> 00-00-03</td>\n",
       "      <td> 57 ST-7 AVE</td>\n",
       "      <td> NQR</td>\n",
       "      <td> BMT</td>\n",
       "      <td> 04/28/2015</td>\n",
       "      <td> 12:00:00</td>\n",
       "      <td> RECOVR AUD</td>\n",
       "      <td>  1865400</td>\n",
       "      <td>  918583</td>\n",
       "    </tr>\n",
       "    <tr>\n",
       "      <th>1281</th>\n",
       "      <td> 1281</td>\n",
       "      <td> A010</td>\n",
       "      <td> R080</td>\n",
       "      <td> 00-00-04</td>\n",
       "      <td> 57 ST-7 AVE</td>\n",
       "      <td> NQR</td>\n",
       "      <td> BMT</td>\n",
       "      <td> 04/28/2015</td>\n",
       "      <td> 12:00:00</td>\n",
       "      <td> RECOVR AUD</td>\n",
       "      <td>  2550498</td>\n",
       "      <td> 1228635</td>\n",
       "    </tr>\n",
       "  </tbody>\n",
       "</table>\n",
       "</div>"
      ],
      "text/plain": [
       "      index   C/A  UNIT       SCP      STATION LINENAME DIVISION        DATE  \\\n",
       "1113   1113  A010  R080  00-00-00  57 ST-7 AVE      NQR      BMT  04/28/2015   \n",
       "1155   1155  A010  R080  00-00-01  57 ST-7 AVE      NQR      BMT  04/28/2015   \n",
       "1197   1197  A010  R080  00-00-02  57 ST-7 AVE      NQR      BMT  04/28/2015   \n",
       "1239   1239  A010  R080  00-00-03  57 ST-7 AVE      NQR      BMT  04/28/2015   \n",
       "1281   1281  A010  R080  00-00-04  57 ST-7 AVE      NQR      BMT  04/28/2015   \n",
       "\n",
       "          TIME        DESC   ENTRIES    EXITS  \n",
       "1113  12:00:00  RECOVR AUD    143112    85613  \n",
       "1155  12:00:00  RECOVR AUD  12250490  4537590  \n",
       "1197  12:00:00  RECOVR AUD   8936510  3456835  \n",
       "1239  12:00:00  RECOVR AUD   1865400   918583  \n",
       "1281  12:00:00  RECOVR AUD   2550498  1228635  "
      ]
     },
     "execution_count": 54,
     "metadata": {},
     "output_type": "execute_result"
    }
   ],
   "source": [
    "df[df.DESC == 'RECOVR AUD'].head(5)"
   ]
  },
  {
   "cell_type": "code",
   "execution_count": 55,
   "metadata": {
    "collapsed": false
   },
   "outputs": [
    {
     "data": {
      "text/html": [
       "<div style=\"max-height:1000px;max-width:1500px;overflow:auto;\">\n",
       "<table border=\"1\" class=\"dataframe\">\n",
       "  <thead>\n",
       "    <tr style=\"text-align: right;\">\n",
       "      <th></th>\n",
       "      <th>index</th>\n",
       "      <th>C/A</th>\n",
       "      <th>UNIT</th>\n",
       "      <th>SCP</th>\n",
       "      <th>STATION</th>\n",
       "      <th>LINENAME</th>\n",
       "      <th>DIVISION</th>\n",
       "      <th>DATE</th>\n",
       "      <th>TIME</th>\n",
       "      <th>DESC</th>\n",
       "      <th>ENTRIES</th>\n",
       "      <th>EXITS</th>\n",
       "    </tr>\n",
       "  </thead>\n",
       "  <tbody>\n",
       "    <tr>\n",
       "      <th>1110</th>\n",
       "      <td> 1110</td>\n",
       "      <td> A010</td>\n",
       "      <td> R080</td>\n",
       "      <td> 00-00-00</td>\n",
       "      <td> 57 ST-7 AVE</td>\n",
       "      <td> NQR</td>\n",
       "      <td> BMT</td>\n",
       "      <td> 04/28/2015</td>\n",
       "      <td> 00:00:00</td>\n",
       "      <td>    REGULAR</td>\n",
       "      <td> 142599</td>\n",
       "      <td> 84827</td>\n",
       "    </tr>\n",
       "    <tr>\n",
       "      <th>1112</th>\n",
       "      <td> 1112</td>\n",
       "      <td> A010</td>\n",
       "      <td> R080</td>\n",
       "      <td> 00-00-00</td>\n",
       "      <td> 57 ST-7 AVE</td>\n",
       "      <td> NQR</td>\n",
       "      <td> BMT</td>\n",
       "      <td> 04/28/2015</td>\n",
       "      <td> 08:00:00</td>\n",
       "      <td>    REGULAR</td>\n",
       "      <td> 142744</td>\n",
       "      <td> 85024</td>\n",
       "    </tr>\n",
       "    <tr>\n",
       "      <th>1113</th>\n",
       "      <td> 1113</td>\n",
       "      <td> A010</td>\n",
       "      <td> R080</td>\n",
       "      <td> 00-00-00</td>\n",
       "      <td> 57 ST-7 AVE</td>\n",
       "      <td> NQR</td>\n",
       "      <td> BMT</td>\n",
       "      <td> 04/28/2015</td>\n",
       "      <td> 12:00:00</td>\n",
       "      <td> RECOVR AUD</td>\n",
       "      <td> 143112</td>\n",
       "      <td> 85613</td>\n",
       "    </tr>\n",
       "    <tr>\n",
       "      <th>1114</th>\n",
       "      <td> 1114</td>\n",
       "      <td> A010</td>\n",
       "      <td> R080</td>\n",
       "      <td> 00-00-00</td>\n",
       "      <td> 57 ST-7 AVE</td>\n",
       "      <td> NQR</td>\n",
       "      <td> BMT</td>\n",
       "      <td> 04/28/2015</td>\n",
       "      <td> 16:00:00</td>\n",
       "      <td>    REGULAR</td>\n",
       "      <td> 143638</td>\n",
       "      <td> 85933</td>\n",
       "    </tr>\n",
       "    <tr>\n",
       "      <th>1115</th>\n",
       "      <td> 1115</td>\n",
       "      <td> A010</td>\n",
       "      <td> R080</td>\n",
       "      <td> 00-00-00</td>\n",
       "      <td> 57 ST-7 AVE</td>\n",
       "      <td> NQR</td>\n",
       "      <td> BMT</td>\n",
       "      <td> 04/28/2015</td>\n",
       "      <td> 20:00:00</td>\n",
       "      <td>    REGULAR</td>\n",
       "      <td> 144687</td>\n",
       "      <td> 86304</td>\n",
       "    </tr>\n",
       "  </tbody>\n",
       "</table>\n",
       "</div>"
      ],
      "text/plain": [
       "      index   C/A  UNIT       SCP      STATION LINENAME DIVISION        DATE  \\\n",
       "1110   1110  A010  R080  00-00-00  57 ST-7 AVE      NQR      BMT  04/28/2015   \n",
       "1112   1112  A010  R080  00-00-00  57 ST-7 AVE      NQR      BMT  04/28/2015   \n",
       "1113   1113  A010  R080  00-00-00  57 ST-7 AVE      NQR      BMT  04/28/2015   \n",
       "1114   1114  A010  R080  00-00-00  57 ST-7 AVE      NQR      BMT  04/28/2015   \n",
       "1115   1115  A010  R080  00-00-00  57 ST-7 AVE      NQR      BMT  04/28/2015   \n",
       "\n",
       "          TIME        DESC  ENTRIES  EXITS  \n",
       "1110  00:00:00     REGULAR   142599  84827  \n",
       "1112  08:00:00     REGULAR   142744  85024  \n",
       "1113  12:00:00  RECOVR AUD   143112  85613  \n",
       "1114  16:00:00     REGULAR   143638  85933  \n",
       "1115  20:00:00     REGULAR   144687  86304  "
      ]
     },
     "execution_count": 55,
     "metadata": {},
     "output_type": "execute_result"
    }
   ],
   "source": [
    "df.iloc[[1110, 1112, 1113, 1114, 1115]]"
   ]
  },
  {
   "cell_type": "markdown",
   "metadata": {},
   "source": [
    "In this dataset there are only two different types, REGULAR and RECOVR AUD. Fortunately RECOVR AUD does not require any further thought as it gives the same reading as REGULAR, but as a backup communication."
   ]
  },
  {
   "cell_type": "markdown",
   "metadata": {},
   "source": [
    "###Dates and Times\n",
    "\n",
    "It's very useful to have a datetime object within the DF in order to make calculations. I'll make a new columns named \"DATE-TIME\"."
   ]
  },
  {
   "cell_type": "code",
   "execution_count": 56,
   "metadata": {
    "collapsed": false
   },
   "outputs": [
    {
     "data": {
      "text/html": [
       "<div style=\"max-height:1000px;max-width:1500px;overflow:auto;\">\n",
       "<table border=\"1\" class=\"dataframe\">\n",
       "  <thead>\n",
       "    <tr style=\"text-align: right;\">\n",
       "      <th></th>\n",
       "      <th>index</th>\n",
       "      <th>C/A</th>\n",
       "      <th>UNIT</th>\n",
       "      <th>SCP</th>\n",
       "      <th>STATION</th>\n",
       "      <th>LINENAME</th>\n",
       "      <th>DIVISION</th>\n",
       "      <th>DESC</th>\n",
       "      <th>ENTRIES</th>\n",
       "      <th>EXITS</th>\n",
       "      <th>DATE-TIME</th>\n",
       "    </tr>\n",
       "  </thead>\n",
       "  <tbody>\n",
       "    <tr>\n",
       "      <th>0</th>\n",
       "      <td> 0</td>\n",
       "      <td> A002</td>\n",
       "      <td> R051</td>\n",
       "      <td> 02-00-00</td>\n",
       "      <td> LEXINGTON AVE</td>\n",
       "      <td> NQR456</td>\n",
       "      <td> BMT</td>\n",
       "      <td> REGULAR</td>\n",
       "      <td> 5106770</td>\n",
       "      <td> 1729635</td>\n",
       "      <td>2015-04-25 00:00:00</td>\n",
       "    </tr>\n",
       "    <tr>\n",
       "      <th>1</th>\n",
       "      <td> 1</td>\n",
       "      <td> A002</td>\n",
       "      <td> R051</td>\n",
       "      <td> 02-00-00</td>\n",
       "      <td> LEXINGTON AVE</td>\n",
       "      <td> NQR456</td>\n",
       "      <td> BMT</td>\n",
       "      <td> REGULAR</td>\n",
       "      <td> 5106810</td>\n",
       "      <td> 1729649</td>\n",
       "      <td>2015-04-25 04:00:00</td>\n",
       "    </tr>\n",
       "  </tbody>\n",
       "</table>\n",
       "</div>"
      ],
      "text/plain": [
       "   index   C/A  UNIT       SCP        STATION LINENAME DIVISION     DESC  \\\n",
       "0      0  A002  R051  02-00-00  LEXINGTON AVE   NQR456      BMT  REGULAR   \n",
       "1      1  A002  R051  02-00-00  LEXINGTON AVE   NQR456      BMT  REGULAR   \n",
       "\n",
       "   ENTRIES    EXITS           DATE-TIME  \n",
       "0  5106770  1729635 2015-04-25 00:00:00  \n",
       "1  5106810  1729649 2015-04-25 04:00:00  "
      ]
     },
     "execution_count": 56,
     "metadata": {},
     "output_type": "execute_result"
    }
   ],
   "source": [
    "# Convert to datetime.\n",
    "df['DATE-TIME'] = pd.to_datetime(df['DATE'] + \" \" + df['TIME'])\n",
    "\n",
    "# Drop old TIME and DATE columns.\n",
    "df = df.drop(['DATE', 'TIME'], axis=1)\n",
    "df.head(2)"
   ]
  },
  {
   "cell_type": "markdown",
   "metadata": {},
   "source": [
    "###Entries and Exits\n",
    "\n",
    "The original data set gives running totals for each turnstile instead of just a number of entries or exits, so to get anything useful out of it, I'll need to do some subtraction. This function took a lot of effort to make it work with the often inconsistent logging data. It is also not vectorized, meaning that the pandas library cannot speed up the process and took hours to complete for the final dataset. Nevertheless it worked and is fairly simple to understand."
   ]
  },
  {
   "cell_type": "code",
   "execution_count": 142,
   "metadata": {
    "collapsed": true
   },
   "outputs": [],
   "source": [
    "df1 = df.drop(df.index[100:])"
   ]
  },
  {
   "cell_type": "code",
   "execution_count": 143,
   "metadata": {
    "collapsed": false
   },
   "outputs": [
    {
     "data": {
      "text/html": [
       "<div style=\"max-height:1000px;max-width:1500px;overflow:auto;\">\n",
       "<table border=\"1\" class=\"dataframe\">\n",
       "  <thead>\n",
       "    <tr style=\"text-align: right;\">\n",
       "      <th></th>\n",
       "      <th>C/A</th>\n",
       "      <th>UNIT</th>\n",
       "      <th>SCP</th>\n",
       "      <th>STATION</th>\n",
       "      <th>LINENAME</th>\n",
       "      <th>DIVISION</th>\n",
       "      <th>DESC</th>\n",
       "      <th>ENTRIES</th>\n",
       "      <th>EXITS</th>\n",
       "      <th>DATE-TIME</th>\n",
       "      <th>HOURLY_ENTRIES</th>\n",
       "    </tr>\n",
       "  </thead>\n",
       "  <tbody>\n",
       "    <tr>\n",
       "      <th>0</th>\n",
       "      <td> A002</td>\n",
       "      <td> R051</td>\n",
       "      <td> 02-00-00</td>\n",
       "      <td> LEXINGTON AVE</td>\n",
       "      <td> NQR456</td>\n",
       "      <td> BMT</td>\n",
       "      <td> REGULAR</td>\n",
       "      <td> 5106770</td>\n",
       "      <td> 1729635</td>\n",
       "      <td>2015-04-25 00:00:00</td>\n",
       "      <td>  0</td>\n",
       "    </tr>\n",
       "    <tr>\n",
       "      <th>1</th>\n",
       "      <td> A002</td>\n",
       "      <td> R051</td>\n",
       "      <td> 02-00-00</td>\n",
       "      <td> LEXINGTON AVE</td>\n",
       "      <td> NQR456</td>\n",
       "      <td> BMT</td>\n",
       "      <td> REGULAR</td>\n",
       "      <td> 5106810</td>\n",
       "      <td> 1729649</td>\n",
       "      <td>2015-04-25 04:00:00</td>\n",
       "      <td>NaN</td>\n",
       "    </tr>\n",
       "  </tbody>\n",
       "</table>\n",
       "</div>"
      ],
      "text/plain": [
       "    C/A  UNIT       SCP        STATION LINENAME DIVISION     DESC  ENTRIES  \\\n",
       "0  A002  R051  02-00-00  LEXINGTON AVE   NQR456      BMT  REGULAR  5106770   \n",
       "1  A002  R051  02-00-00  LEXINGTON AVE   NQR456      BMT  REGULAR  5106810   \n",
       "\n",
       "     EXITS           DATE-TIME  HOURLY_ENTRIES  \n",
       "0  1729635 2015-04-25 00:00:00               0  \n",
       "1  1729649 2015-04-25 04:00:00             NaN  "
      ]
     },
     "execution_count": 143,
     "metadata": {},
     "output_type": "execute_result"
    }
   ],
   "source": [
    "df1.head(2)"
   ]
  },
  {
   "cell_type": "code",
   "execution_count": 139,
   "metadata": {
    "collapsed": true
   },
   "outputs": [],
   "source": [
    "def cumulative_to_hourly(df):\n",
    "    \"\"\"\n",
    "    Takes a DF as input and calculates the hourly entries and exits for each turnstile.\n",
    "    If the turnstile has no previous entries in the DF, then it is initialized to zero.\n",
    "    Otherwise the previous cumulative value is looked up and subtracted from current one\n",
    "    to get the new hourly.    \n",
    "    \"\"\"\n",
    "    \n",
    "    for i, entry in df.iterrows():\n",
    "        print i \n",
    "        \n",
    "        # Check the DF for entries for this turnstile.\n",
    "        previous_entries = df[(df['C/A']==entry['C/A']) & (df['UNIT']==entry['UNIT']) & \n",
    "                              (df['SCP']==entry['SCP']) & (df.index < i)]\n",
    "        \n",
    "        # If this is the first entry then initialize to zero.\n",
    "        if len(previous_entries) == 0:   \n",
    "            print \"YES\"\n",
    "            df.iloc[i]['HOURLY_ENTRIES'] = 0\n",
    "            df.iloc[i]['HOURLY_EXITS'] = 0\n",
    "            \n",
    "            print df.iloc[i]['HOURLY_ENTRIES'] \n",
    "                 \n",
    "        # Otherwise, look up previous entry for that turnstile.\n",
    "        else:\n",
    "            \n",
    "            # Get the index of the previous one entry.\n",
    "            j = max(previous_entries.index)\n",
    "            \n",
    "            # Subtract the current cumulative value from the previous one.\n",
    "            df.iloc[i]['HOURLY_ENTRIES'] = df.iloc[i]['ENTRIES'] - df.iloc[j]['ENTRIES']\n",
    "            df.iloc[i]['HOURLY_EXITS'] = df.iloc[i]['EXITS'] - df.iloc[j]['EXITS']\n",
    "            \n",
    "            print df.iloc[i]['HOURLY_ENTRIES'] "
   ]
  },
  {
   "cell_type": "markdown",
   "metadata": {},
   "source": [
    "This is all the work it requires to prepare one file for analysis. Now it's time to scrape all the neccessary files from the internet and merge them into one dataset."
   ]
  },
  {
   "cell_type": "markdown",
   "metadata": {},
   "source": [
    "## Scraping Files\n",
    "\n",
    "I'm choosing the last complete month to do analysis on which is May 2015. The MTA collect data weekly, so I'm also going to take the last week of April, and the first month of June.\n",
    "\n",
    "The files are available for download here: http://web.mta.info/developers/turnstile.html\n",
    "\n",
    "I'll be using the python module Beautiful Soup to parse the html in order to find the relevant hyperlinks quickly.\n",
    "\n",
    "There was an odd error with beautiful soup - some byte code on the page couldn't be converted to ASCII characters. After a quick google, I found the following fix on stackoverflow."
   ]
  },
  {
   "cell_type": "code",
   "execution_count": null,
   "metadata": {
    "collapsed": true
   },
   "outputs": [],
   "source": [
    "# Work around for byte-ASCII error in bs.\n",
    "import sys  \n",
    "\n",
    "reload(sys)  \n",
    "sys.setdefaultencoding('utf8')"
   ]
  },
  {
   "cell_type": "code",
   "execution_count": null,
   "metadata": {
    "collapsed": true
   },
   "outputs": [],
   "source": [
    "# URL of MTA data.\n",
    "URL = 'http://web.mta.info/developers/turnstile.html'\n",
    "\n",
    "# Parse the html using bs to find the hyperlinks.\n",
    "r = requests.get(URL)\n",
    "soup = bs(r.text)\n",
    "hyperlinks = soup.findAll('a')\n",
    "\n",
    "# Initialize array to hold all of the URLs on the page.\n",
    "urls = []\n",
    "\n",
    "# Loop through the hyperlinks, parsing just the links themselves.\n",
    "for each in hyperlinks:\n",
    "    link = each.get('href')\n",
    "    \n",
    "    # Only add links which are in the data directory, and are text files.\n",
    "    if link and link.endswith('.txt') and link.startswith('data/'):\n",
    "        urls.append(link)"
   ]
  },
  {
   "cell_type": "code",
   "execution_count": null,
   "metadata": {
    "collapsed": true
   },
   "outputs": [],
   "source": [
    "# Initialize array to hold all of the dates from the URLs collected.\n",
    "dates = []\n",
    "\n",
    "# Split the URLs up in order to get just the dates.\n",
    "for each in urls:\n",
    "    filename = each.split('/')[-1]\n",
    "    filename.find('turnstile_')\n",
    "    index = filename.find('turnstile_')\n",
    "    date = filename[index+len('turnstile_'):].split('.')[0]\n",
    "    dates.append(date)"
   ]
  },
  {
   "cell_type": "code",
   "execution_count": null,
   "metadata": {
    "collapsed": true
   },
   "outputs": [],
   "source": [
    "# Initialize set to store the dates to download.\n",
    "dates_to_download = Set([])\n",
    "\n",
    "# Loop through the dates, and take the appropriate ones.\n",
    "for i, date in enumerate(dates):\n",
    "    # Only 2015.\n",
    "    if date[:2] == '15':\n",
    "        # Take all of May, the last week of April, and the first week of June.\n",
    "        if date[2:4] == '05':\n",
    "            dates_to_download.update([dates[i-1], dates[i], dates[i+1]])\n",
    "\n",
    "# Convert the set to an array.            \n",
    "dates_to_download = list(dates_to_download)"
   ]
  },
  {
   "cell_type": "code",
   "execution_count": null,
   "metadata": {
    "collapsed": true
   },
   "outputs": [],
   "source": [
    "dates_to_download = sorted(dates_to_download)\n",
    "#dates_to_download = ['150425', '150502', '150509', '150516', '150523', '150530', '150606']"
   ]
  },
  {
   "cell_type": "code",
   "execution_count": null,
   "metadata": {
    "collapsed": true
   },
   "outputs": [],
   "source": [
    "l = len(dates_to_download)\n",
    "\n",
    "# Loop through the dates, downloading the corresponding file.\n",
    "for i in range(l):\n",
    "    date = dates_to_download[i]\n",
    "    download = 'http://web.mta.info/developers/data/nyct/turnstile/turnstile_{0}.txt'.format(date)"
   ]
  },
  {
   "cell_type": "markdown",
   "metadata": {},
   "source": [
    "## Combining Files\n",
    "\n",
    "Once all the neccessary subway data has been downloaded, it's time to combine it in some fashion. One possbility is to load all the files into invididual dataframes using pandas, and then merging them and writing. Instead I decided to open the files one by one and write the contents into a new file, as this requires less memory usage."
   ]
  },
  {
   "cell_type": "code",
   "execution_count": 147,
   "metadata": {
    "collapsed": true
   },
   "outputs": [],
   "source": [
    "def combine_turnstile_data(filenames):\n",
    "    \"\"\"\n",
    "    Takes the turnstile filenames and writes them one by one into a new\n",
    "    file.\n",
    "    \"\"\"\n",
    "    \n",
    "    # Open a new master file, and write in the header row.\n",
    "    with open('updated_data/master_file.txt', 'w') as master_file:\n",
    "        master_file.write('C/A,UNIT,SCP,STATION,LINENAME,DIVISION,DATE,TIME,DESCn,ENTRIES,EXITS\\n')\n",
    "    \n",
    "        # Open all the files and write thme into master file.\n",
    "        for filename in filenames:\n",
    "            with open('data/turnstile/{0}.txt'.format(filename),'rb') as f:\n",
    "                for row in f:\n",
    "                    # Ignore the the header row.\n",
    "                    if row.startswith('C/A'):\n",
    "                        continue\n",
    "                    master_file.write(row)"
   ]
  },
  {
   "cell_type": "code",
   "execution_count": null,
   "metadata": {
    "collapsed": true
   },
   "outputs": [],
   "source": [
    "combine_turnstile_data(dates_to_download)"
   ]
  },
  {
   "cell_type": "code",
   "execution_count": 148,
   "metadata": {
    "collapsed": true
   },
   "outputs": [],
   "source": [
    "df_turnstile_master = pd.read_csv('updated_data/master_file.txt')"
   ]
  },
  {
   "cell_type": "code",
   "execution_count": 149,
   "metadata": {
    "collapsed": false
   },
   "outputs": [
    {
     "data": {
      "text/html": [
       "<div style=\"max-height:1000px;max-width:1500px;overflow:auto;\">\n",
       "<table border=\"1\" class=\"dataframe\">\n",
       "  <thead>\n",
       "    <tr style=\"text-align: right;\">\n",
       "      <th></th>\n",
       "      <th>C/A</th>\n",
       "      <th>UNIT</th>\n",
       "      <th>SCP</th>\n",
       "      <th>STATION</th>\n",
       "      <th>LINENAME</th>\n",
       "      <th>DIVISION</th>\n",
       "      <th>DATE</th>\n",
       "      <th>TIME</th>\n",
       "      <th>DESCn</th>\n",
       "      <th>ENTRIES</th>\n",
       "      <th>EXITS</th>\n",
       "    </tr>\n",
       "  </thead>\n",
       "  <tbody>\n",
       "    <tr>\n",
       "      <th>0</th>\n",
       "      <td> A002</td>\n",
       "      <td> R051</td>\n",
       "      <td> 02-00-00</td>\n",
       "      <td> LEXINGTON AVE</td>\n",
       "      <td> NQR456</td>\n",
       "      <td> BMT</td>\n",
       "      <td> 04/18/2015</td>\n",
       "      <td> 00:00:00</td>\n",
       "      <td> REGULAR</td>\n",
       "      <td> 5095940</td>\n",
       "      <td> 1725998</td>\n",
       "    </tr>\n",
       "  </tbody>\n",
       "</table>\n",
       "</div>"
      ],
      "text/plain": [
       "    C/A  UNIT       SCP        STATION LINENAME DIVISION        DATE  \\\n",
       "0  A002  R051  02-00-00  LEXINGTON AVE   NQR456      BMT  04/18/2015   \n",
       "\n",
       "       TIME    DESCn  ENTRIES    EXITS  \n",
       "0  00:00:00  REGULAR  5095940  1725998  "
      ]
     },
     "execution_count": 149,
     "metadata": {},
     "output_type": "execute_result"
    }
   ],
   "source": [
    "df_turnstile_master.head(1)"
   ]
  },
  {
   "cell_type": "markdown",
   "metadata": {},
   "source": [
    "## Multiple Files\n",
    "\n",
    "Now that the files are joined together I'll prepare them similarly to before."
   ]
  },
  {
   "cell_type": "code",
   "execution_count": 153,
   "metadata": {
    "collapsed": false
   },
   "outputs": [],
   "source": [
    "filter_onhour = [((pd.to_datetime(df_turnstile_master.TIME[n])).minute != 0) for n in range(len(df_turnstile_master))]"
   ]
  },
  {
   "cell_type": "code",
   "execution_count": 154,
   "metadata": {
    "collapsed": true
   },
   "outputs": [],
   "source": [
    "# Apply filter to remove non-hour entries.\n",
    "df_turnstile_master = df_turnstile_master.drop(list(df_turnstile_master.loc[filter_onhour].index))\n",
    "df_turnstile_master = df_turnstile_master.reset_index()"
   ]
  },
  {
   "cell_type": "code",
   "execution_count": 155,
   "metadata": {
    "collapsed": true
   },
   "outputs": [],
   "source": [
    "# Convert to datetime.\n",
    "df_turnstile_master['DATE-TIME'] = pd.to_datetime(df_turnstile_master['DATE'] + \" \" + df_turnstile_master['TIME'])\n",
    "\n",
    "# Drop old TIME and DATE columns.\n",
    "df_turnstile_master = df_turnstile_master.drop(['DATE', 'TIME'], axis=1)"
   ]
  },
  {
   "cell_type": "markdown",
   "metadata": {},
   "source": [
    "In addition to the previous cleaning I must also remove the non-May dates from the dataframe."
   ]
  },
  {
   "cell_type": "code",
   "execution_count": 156,
   "metadata": {
    "collapsed": false
   },
   "outputs": [
    {
     "data": {
      "text/plain": [
       "array(['2015-04-18T01:00:00.000000000+0100',\n",
       "       '2015-04-18T05:00:00.000000000+0100',\n",
       "       '2015-04-18T09:00:00.000000000+0100', ...,\n",
       "       '2015-06-05T10:00:53.000000000+0100',\n",
       "       '2015-06-03T06:00:01.000000000+0100',\n",
       "       '2015-06-05T10:00:58.000000000+0100'], dtype='datetime64[ns]')"
      ]
     },
     "execution_count": 156,
     "metadata": {},
     "output_type": "execute_result"
    }
   ],
   "source": [
    "# Checking if the dates are in order.\n",
    "pd.Series(df_turnstile_master['DATE-TIME'].ravel()).unique()"
   ]
  },
  {
   "cell_type": "code",
   "execution_count": null,
   "metadata": {
    "collapsed": true
   },
   "outputs": [],
   "source": [
    "before = df_turnstile_master.shape[0]\n",
    "\n",
    "# Convert the date_n col to a datetime and extract the month.\n",
    "month_filter =  pd.DatetimeIndex(df_turnstile_master['DATE-TIME']).month\n",
    "\n",
    "# Convert to a Series in order to do filter operation on the df.\n",
    "month_filter = pd.Series(month_filter)\n",
    "\n",
    "# Subset the df, based on the month being May.\n",
    "df_turnstile_master = df_turnstile_master[month_filter == 5]\n",
    "\n",
    "after = df_turnstile_master.shape[0]"
   ]
  },
  {
   "cell_type": "markdown",
   "metadata": {},
   "source": [
    "Since my cumulative_to_hourly function takes so long to complete I used a loop to do it incremently to avoid crashes and check on its progress."
   ]
  },
  {
   "cell_type": "code",
   "execution_count": null,
   "metadata": {
    "collapsed": true
   },
   "outputs": [],
   "source": [
    "base, step = 0, 1000\n",
    "for i in range(base, l, step):\n",
    "    print \"{}\\t {} \\t STARTED AT {}\".format(base - step, i, datetime.datetime.now().time())\n",
    "    cumulative_to_hourly(df_turnstile_master[base - step:i])\n",
    "    print \"DONE AT {}\".format(datetime.datetime.now().time())\n",
    "    base += step"
   ]
  },
  {
   "cell_type": "markdown",
   "metadata": {},
   "source": [
    "###Negative Values"
   ]
  },
  {
   "cell_type": "markdown",
   "metadata": {
    "collapsed": true
   },
   "source": [
    "There are some hourly entries that have negative values. These may be due to the turnstiles being turned backwards or maintenance issues. I decided to just drop these rows from the dataset instead of imputing values."
   ]
  },
  {
   "cell_type": "code",
   "execution_count": 6,
   "metadata": {
    "collapsed": false
   },
   "outputs": [
    {
     "data": {
      "text/plain": [
       "(780713, 13)"
      ]
     },
     "execution_count": 6,
     "metadata": {},
     "output_type": "execute_result"
    }
   ],
   "source": [
    "df_turnstile_master.shape"
   ]
  },
  {
   "cell_type": "code",
   "execution_count": 7,
   "metadata": {
    "collapsed": true
   },
   "outputs": [],
   "source": [
    "df_turnstile_master = df_turnstile_master[df_turnstile_master['HOURLY_ENTRIES'] >= 0]"
   ]
  },
  {
   "cell_type": "code",
   "execution_count": 8,
   "metadata": {
    "collapsed": false
   },
   "outputs": [
    {
     "data": {
      "text/plain": [
       "(776311, 13)"
      ]
     },
     "execution_count": 8,
     "metadata": {},
     "output_type": "execute_result"
    }
   ],
   "source": [
    "df_turnstile_master.shape"
   ]
  },
  {
   "cell_type": "markdown",
   "metadata": {},
   "source": [
    "###Adding Weekday"
   ]
  },
  {
   "cell_type": "markdown",
   "metadata": {},
   "source": [
    "In order to find trends within the data it will be useful to know which day a certain day is on."
   ]
  },
  {
   "cell_type": "code",
   "execution_count": null,
   "metadata": {
    "collapsed": true
   },
   "outputs": [],
   "source": [
    "df_turnstile_master['WEEKDAY'] = df_turnstile_master['DATE-TIME'].apply(lambda x: x.weekday())"
   ]
  },
  {
   "cell_type": "markdown",
   "metadata": {},
   "source": [
    "##Exporting Final File"
   ]
  },
  {
   "cell_type": "code",
   "execution_count": 9,
   "metadata": {
    "collapsed": true
   },
   "outputs": [],
   "source": [
    "df_turnstile_master.to_csv('data/final/turnstile_final.csv', index=False, date_format='%Y-%m-%d')"
   ]
  },
  {
   "cell_type": "code",
   "execution_count": 10,
   "metadata": {
    "collapsed": true
   },
   "outputs": [],
   "source": [
    "df_turnstile_master = pd.read_csv('data/final/turnstile_final.csv')"
   ]
  },
  {
   "cell_type": "code",
   "execution_count": 11,
   "metadata": {
    "collapsed": false
   },
   "outputs": [
    {
     "data": {
      "text/html": [
       "<div style=\"max-height:1000px;max-width:1500px;overflow:auto;\">\n",
       "<table border=\"1\" class=\"dataframe\">\n",
       "  <thead>\n",
       "    <tr style=\"text-align: right;\">\n",
       "      <th></th>\n",
       "      <th>C/A</th>\n",
       "      <th>UNIT</th>\n",
       "      <th>SCP</th>\n",
       "      <th>STATION</th>\n",
       "      <th>LINENAME</th>\n",
       "      <th>DIVISION</th>\n",
       "      <th>DESCn</th>\n",
       "      <th>ENTRIES</th>\n",
       "      <th>EXITS</th>\n",
       "      <th>DATE-TIME</th>\n",
       "      <th>HOURLY_ENTRIES</th>\n",
       "      <th>HOURLY_EXITS</th>\n",
       "      <th>WEEKDAY</th>\n",
       "    </tr>\n",
       "  </thead>\n",
       "  <tbody>\n",
       "    <tr>\n",
       "      <th>0</th>\n",
       "      <td> A002</td>\n",
       "      <td> R051</td>\n",
       "      <td> 02-00-00</td>\n",
       "      <td> LEXINGTON AVE</td>\n",
       "      <td> NQR456</td>\n",
       "      <td> BMT</td>\n",
       "      <td> REGULAR</td>\n",
       "      <td> 5115461</td>\n",
       "      <td> 1732389</td>\n",
       "      <td> 2015-05-01</td>\n",
       "      <td>   0</td>\n",
       "      <td>   0</td>\n",
       "      <td> 4</td>\n",
       "    </tr>\n",
       "    <tr>\n",
       "      <th>1</th>\n",
       "      <td> A002</td>\n",
       "      <td> R051</td>\n",
       "      <td> 02-00-00</td>\n",
       "      <td> LEXINGTON AVE</td>\n",
       "      <td> NQR456</td>\n",
       "      <td> BMT</td>\n",
       "      <td> REGULAR</td>\n",
       "      <td> 5115480</td>\n",
       "      <td> 1732394</td>\n",
       "      <td> 2015-05-01</td>\n",
       "      <td>  19</td>\n",
       "      <td>   5</td>\n",
       "      <td> 4</td>\n",
       "    </tr>\n",
       "    <tr>\n",
       "      <th>2</th>\n",
       "      <td> A002</td>\n",
       "      <td> R051</td>\n",
       "      <td> 02-00-00</td>\n",
       "      <td> LEXINGTON AVE</td>\n",
       "      <td> NQR456</td>\n",
       "      <td> BMT</td>\n",
       "      <td> REGULAR</td>\n",
       "      <td> 5115524</td>\n",
       "      <td> 1732482</td>\n",
       "      <td> 2015-05-01</td>\n",
       "      <td>  44</td>\n",
       "      <td>  88</td>\n",
       "      <td> 4</td>\n",
       "    </tr>\n",
       "    <tr>\n",
       "      <th>3</th>\n",
       "      <td> A002</td>\n",
       "      <td> R051</td>\n",
       "      <td> 02-00-00</td>\n",
       "      <td> LEXINGTON AVE</td>\n",
       "      <td> NQR456</td>\n",
       "      <td> BMT</td>\n",
       "      <td> REGULAR</td>\n",
       "      <td> 5115678</td>\n",
       "      <td> 1732624</td>\n",
       "      <td> 2015-05-01</td>\n",
       "      <td> 154</td>\n",
       "      <td> 142</td>\n",
       "      <td> 4</td>\n",
       "    </tr>\n",
       "    <tr>\n",
       "      <th>4</th>\n",
       "      <td> A002</td>\n",
       "      <td> R051</td>\n",
       "      <td> 02-00-00</td>\n",
       "      <td> LEXINGTON AVE</td>\n",
       "      <td> NQR456</td>\n",
       "      <td> BMT</td>\n",
       "      <td> REGULAR</td>\n",
       "      <td> 5115998</td>\n",
       "      <td> 1732647</td>\n",
       "      <td> 2015-05-01</td>\n",
       "      <td> 320</td>\n",
       "      <td>  23</td>\n",
       "      <td> 4</td>\n",
       "    </tr>\n",
       "  </tbody>\n",
       "</table>\n",
       "</div>"
      ],
      "text/plain": [
       "    C/A  UNIT       SCP        STATION LINENAME DIVISION    DESCn  ENTRIES  \\\n",
       "0  A002  R051  02-00-00  LEXINGTON AVE   NQR456      BMT  REGULAR  5115461   \n",
       "1  A002  R051  02-00-00  LEXINGTON AVE   NQR456      BMT  REGULAR  5115480   \n",
       "2  A002  R051  02-00-00  LEXINGTON AVE   NQR456      BMT  REGULAR  5115524   \n",
       "3  A002  R051  02-00-00  LEXINGTON AVE   NQR456      BMT  REGULAR  5115678   \n",
       "4  A002  R051  02-00-00  LEXINGTON AVE   NQR456      BMT  REGULAR  5115998   \n",
       "\n",
       "     EXITS   DATE-TIME  HOURLY_ENTRIES  HOURLY_EXITS  WEEKDAY  \n",
       "0  1732389  2015-05-01               0             0        4  \n",
       "1  1732394  2015-05-01              19             5        4  \n",
       "2  1732482  2015-05-01              44            88        4  \n",
       "3  1732624  2015-05-01             154           142        4  \n",
       "4  1732647  2015-05-01             320            23        4  "
      ]
     },
     "execution_count": 11,
     "metadata": {},
     "output_type": "execute_result"
    }
   ],
   "source": [
    "df_turnstile_master.head()"
   ]
  },
  {
   "cell_type": "code",
   "execution_count": null,
   "metadata": {
    "collapsed": true
   },
   "outputs": [],
   "source": []
  }
 ],
 "metadata": {
  "kernelspec": {
   "display_name": "Python 2",
   "language": "python",
   "name": "python2"
  },
  "language_info": {
   "codemirror_mode": {
    "name": "ipython",
    "version": 2
   },
   "file_extension": ".py",
   "mimetype": "text/x-python",
   "name": "python",
   "nbconvert_exporter": "python",
   "pygments_lexer": "ipython2",
   "version": "2.7.9"
  }
 },
 "nbformat": 4,
 "nbformat_minor": 0
}
