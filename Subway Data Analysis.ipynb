{
 "cells": [
  {
   "cell_type": "markdown",
   "metadata": {},
   "source": [
    "#Subway Data"
   ]
  },
  {
   "cell_type": "markdown",
   "metadata": {},
   "source": [
    "## Links\n",
    "\n",
    "http://experimenting.alastair.is/citibike/ \n",
    "\n",
    "https://www.udacity.com/course/viewer#!/c-ud359/l-732399471/e-698029633/m-698029634 \n",
    "\n",
    "http://chriswhong.com/open-data/visualizing-the-mtas-turnstile-data/ \n",
    "\n",
    "https://github.com/chriswhong/nycturnstiles \n",
    "\n",
    "http://web.mta.info/developers/index.html \n",
    "\n",
    "https://saxenarajat99.wordpress.com/2014/09/21/impact-of-rain-on-nyc-subway-ridership-udacity-course-project/ \n",
    "\n",
    "http://spotofdata.com/subway-weather-udacity/ \n",
    "\n",
    "http://web.mta.info/developers/turnstile.html\n",
    "\n",
    "http://www.jasondamiani.com/portfolio/analyzing-mta-subway-data/ Good analysis\n",
    "\n"
   ]
  },
  {
   "cell_type": "markdown",
   "metadata": {},
   "source": [
    "# Weather Data"
   ]
  },
  {
   "cell_type": "code",
   "execution_count": 1,
   "metadata": {
    "collapsed": false
   },
   "outputs": [],
   "source": [
    "import numpy as np\n",
    "import matplotlib.pyplot as plt\n",
    "\n",
    "import pandas\n",
    "import pandasql"
   ]
  },
  {
   "cell_type": "code",
   "execution_count": 2,
   "metadata": {
    "collapsed": false
   },
   "outputs": [],
   "source": [
    "df_weather = pandas.read_csv(\"data/weather_underground.csv\")"
   ]
  },
  {
   "cell_type": "code",
   "execution_count": 3,
   "metadata": {
    "collapsed": false
   },
   "outputs": [
    {
     "data": {
      "text/html": [
       "<div style=\"max-height:1000px;max-width:1500px;overflow:auto;\">\n",
       "<table border=\"1\" class=\"dataframe\">\n",
       "  <thead>\n",
       "    <tr style=\"text-align: right;\">\n",
       "      <th></th>\n",
       "      <th>date</th>\n",
       "      <th>maxpressurem</th>\n",
       "      <th>maxdewptm</th>\n",
       "      <th>maxpressurei</th>\n",
       "      <th>maxdewpti</th>\n",
       "      <th>since1julheatingdegreedaysnormal</th>\n",
       "      <th>heatingdegreedaysnormal</th>\n",
       "      <th>since1sepcoolingdegreedaysnormal</th>\n",
       "      <th>hail</th>\n",
       "      <th>since1julsnowfallm</th>\n",
       "      <th>...</th>\n",
       "      <th>precipi</th>\n",
       "      <th>snowfalli</th>\n",
       "      <th>since1jancoolingdegreedaysnormal</th>\n",
       "      <th>precipm</th>\n",
       "      <th>snowfallm</th>\n",
       "      <th>thunder</th>\n",
       "      <th>monthtodateheatingdegreedays</th>\n",
       "      <th>meantempi</th>\n",
       "      <th>maxvism</th>\n",
       "      <th>meantempm</th>\n",
       "    </tr>\n",
       "  </thead>\n",
       "  <tbody>\n",
       "    <tr>\n",
       "      <th>0</th>\n",
       "      <td> 2011-05-01</td>\n",
       "      <td> 1026</td>\n",
       "      <td>  6</td>\n",
       "      <td> 30.31</td>\n",
       "      <td> 42</td>\n",
       "      <td> 4646</td>\n",
       "      <td> 8</td>\n",
       "      <td>NaN</td>\n",
       "      <td> 0</td>\n",
       "      <td> 157.23</td>\n",
       "      <td>...</td>\n",
       "      <td> 0</td>\n",
       "      <td> 0</td>\n",
       "      <td> 13</td>\n",
       "      <td> 0</td>\n",
       "      <td> 0</td>\n",
       "      <td> 0</td>\n",
       "      <td>  5</td>\n",
       "      <td> 60</td>\n",
       "      <td> 16</td>\n",
       "      <td> 16</td>\n",
       "    </tr>\n",
       "    <tr>\n",
       "      <th>1</th>\n",
       "      <td> 2011-05-02</td>\n",
       "      <td> 1026</td>\n",
       "      <td> 10</td>\n",
       "      <td> 30.31</td>\n",
       "      <td> 50</td>\n",
       "      <td> 4653</td>\n",
       "      <td> 7</td>\n",
       "      <td>NaN</td>\n",
       "      <td> 0</td>\n",
       "      <td> 157.23</td>\n",
       "      <td>...</td>\n",
       "      <td> 0</td>\n",
       "      <td> 0</td>\n",
       "      <td> 14</td>\n",
       "      <td> 0</td>\n",
       "      <td> 0</td>\n",
       "      <td> 0</td>\n",
       "      <td> 13</td>\n",
       "      <td> 57</td>\n",
       "      <td> 16</td>\n",
       "      <td> 14</td>\n",
       "    </tr>\n",
       "  </tbody>\n",
       "</table>\n",
       "<p>2 rows × 70 columns</p>\n",
       "</div>"
      ],
      "text/plain": [
       "         date  maxpressurem  maxdewptm  maxpressurei  maxdewpti  \\\n",
       "0  2011-05-01          1026          6         30.31         42   \n",
       "1  2011-05-02          1026         10         30.31         50   \n",
       "\n",
       "   since1julheatingdegreedaysnormal  heatingdegreedaysnormal  \\\n",
       "0                              4646                        8   \n",
       "1                              4653                        7   \n",
       "\n",
       "   since1sepcoolingdegreedaysnormal  hail  since1julsnowfallm    ...      \\\n",
       "0                               NaN     0              157.23    ...       \n",
       "1                               NaN     0              157.23    ...       \n",
       "\n",
       "   precipi  snowfalli  since1jancoolingdegreedaysnormal  precipm  snowfallm  \\\n",
       "0        0          0                                13        0          0   \n",
       "1        0          0                                14        0          0   \n",
       "\n",
       "   thunder  monthtodateheatingdegreedays  meantempi  maxvism  meantempm  \n",
       "0        0                             5         60       16         16  \n",
       "1        0                            13         57       16         14  \n",
       "\n",
       "[2 rows x 70 columns]"
      ]
     },
     "execution_count": 3,
     "metadata": {},
     "output_type": "execute_result"
    }
   ],
   "source": [
    "df_weather.head(2)"
   ]
  },
  {
   "cell_type": "markdown",
   "metadata": {},
   "source": [
    "### Rainy Days"
   ]
  },
  {
   "cell_type": "code",
   "execution_count": 4,
   "metadata": {
    "collapsed": false
   },
   "outputs": [
    {
     "name": "stdout",
     "output_type": "stream",
     "text": [
      "   count(rain)\n",
      "0           10\n"
     ]
    }
   ],
   "source": [
    "q = \"\"\"\n",
    "    SELECT COUNT(rain) \n",
    "    FROM df_weather\n",
    "    WHERE rain = 1\n",
    "    ;\n",
    "    \"\"\"\n",
    "\n",
    "#Execute your SQL command against the pandas frame\n",
    "rainy_days = pandasql.sqldf(q.lower(), locals())\n",
    "\n",
    "print rainy_days"
   ]
  },
  {
   "cell_type": "markdown",
   "metadata": {},
   "source": [
    "###Foggy Days"
   ]
  },
  {
   "cell_type": "code",
   "execution_count": 5,
   "metadata": {
    "collapsed": false
   },
   "outputs": [
    {
     "name": "stdout",
     "output_type": "stream",
     "text": [
      "   fog  maxtempi\n",
      "0    0        86\n",
      "1    1        81\n"
     ]
    }
   ],
   "source": [
    "q = \"\"\"\n",
    "    SELECT fog, maxtempi \n",
    "    FROM df_weather\n",
    "    GROUP BY fog\n",
    "    ;\n",
    "    \"\"\"\n",
    "    \n",
    "#Execute your SQL command against the pandas frame\n",
    "foggy_days = pandasql.sqldf(q.lower(), locals())\n",
    "\n",
    "print foggy_days"
   ]
  },
  {
   "cell_type": "markdown",
   "metadata": {},
   "source": [
    "###Weekend mean temperature"
   ]
  },
  {
   "cell_type": "code",
   "execution_count": 6,
   "metadata": {
    "collapsed": false
   },
   "outputs": [
    {
     "name": "stdout",
     "output_type": "stream",
     "text": [
      "   avg(meantempi)\n",
      "0       65.111111\n"
     ]
    }
   ],
   "source": [
    "q = \"\"\"\n",
    "    SELECT  AVG(meantempi)\n",
    "    FROM df_weather\n",
    "    WHERE cast(strftime('%w', date) as integer) = 6\n",
    "    OR cast(strftime('%w', date) as integer) = 0\n",
    "    ;\n",
    "    \"\"\"\n",
    "    \n",
    "\n",
    "#Execute your SQL command against the pandas frame\n",
    "mean_temp_weekends = pandasql.sqldf(q.lower(), locals())\n",
    "\n",
    "print mean_temp_weekends"
   ]
  },
  {
   "cell_type": "markdown",
   "metadata": {},
   "source": [
    "### Mean Temperature on Rainy Days"
   ]
  },
  {
   "cell_type": "code",
   "execution_count": 7,
   "metadata": {
    "collapsed": false
   },
   "outputs": [
    {
     "name": "stdout",
     "output_type": "stream",
     "text": [
      "   avg(cast(mintempi as integer))\n",
      "0                           61.25\n"
     ]
    }
   ],
   "source": [
    "q = \"\"\"\n",
    "    SELECT AVG(cast(mintempi as integer)) \n",
    "    FROM df_weather\n",
    "    WHERE rain = 1\n",
    "    AND cast(mintempi as integer) > 55\n",
    "    ;\n",
    "    \"\"\"\n",
    "    \n",
    "#Execute your SQL command against the pandas frame\n",
    "avg_min_temp_rainy = pandasql.sqldf(q.lower(), locals())\n",
    "\n",
    "print avg_min_temp_rainy"
   ]
  },
  {
   "cell_type": "markdown",
   "metadata": {},
   "source": [
    "## Turnstiles Data"
   ]
  },
  {
   "cell_type": "markdown",
   "metadata": {},
   "source": [
    "### Quick Overview\n",
    "\n",
    "Firstly, I'm going to load in one file that I've manually downloaded from the MTA website at http://web.mta.info/developers/turnstile.html. After I get a sense of one subset of the data, I'll combine it with the rest and then analyze it in tandem with the weather data."
   ]
  },
  {
   "cell_type": "code",
   "execution_count": 8,
   "metadata": {
    "collapsed": false
   },
   "outputs": [
    {
     "data": {
      "text/html": [
       "<div style=\"max-height:1000px;max-width:1500px;overflow:auto;\">\n",
       "<table border=\"1\" class=\"dataframe\">\n",
       "  <thead>\n",
       "    <tr style=\"text-align: right;\">\n",
       "      <th></th>\n",
       "      <th>A002</th>\n",
       "      <th>R051</th>\n",
       "      <th>02-00-00</th>\n",
       "      <th>05-21-11</th>\n",
       "      <th>00:00:00</th>\n",
       "      <th>REGULAR</th>\n",
       "      <th>003169391</th>\n",
       "      <th>001097585</th>\n",
       "      <th>05-21-11.1</th>\n",
       "      <th>04:00:00</th>\n",
       "      <th>...</th>\n",
       "      <th>05-22-11</th>\n",
       "      <th>00:00:00.1</th>\n",
       "      <th>REGULAR.6</th>\n",
       "      <th>003170119</th>\n",
       "      <th>001097792</th>\n",
       "      <th>05-22-11.1</th>\n",
       "      <th>04:00:00.1</th>\n",
       "      <th>REGULAR.7</th>\n",
       "      <th>003170146</th>\n",
       "      <th>001097801              </th>\n",
       "    </tr>\n",
       "  </thead>\n",
       "  <tbody>\n",
       "    <tr>\n",
       "      <th>0</th>\n",
       "      <td> A002</td>\n",
       "      <td> R051</td>\n",
       "      <td> 02-00-00</td>\n",
       "      <td> 05-22-11</td>\n",
       "      <td> 08:00:00</td>\n",
       "      <td> REGULAR</td>\n",
       "      <td> 3170164</td>\n",
       "      <td> 1097820</td>\n",
       "      <td> 05-22-11</td>\n",
       "      <td> 12:00:00</td>\n",
       "      <td>...</td>\n",
       "      <td> 05-23-11</td>\n",
       "      <td> 08:00:00</td>\n",
       "      <td> REGULAR</td>\n",
       "      <td> 3170746</td>\n",
       "      <td> 1098069</td>\n",
       "      <td> 05-23-11</td>\n",
       "      <td> 12:00:00</td>\n",
       "      <td> REGULAR</td>\n",
       "      <td> 3170897</td>\n",
       "      <td> 1098378</td>\n",
       "    </tr>\n",
       "    <tr>\n",
       "      <th>1</th>\n",
       "      <td> A002</td>\n",
       "      <td> R051</td>\n",
       "      <td> 02-00-00</td>\n",
       "      <td> 05-23-11</td>\n",
       "      <td> 16:00:00</td>\n",
       "      <td> REGULAR</td>\n",
       "      <td> 3171194</td>\n",
       "      <td> 1098447</td>\n",
       "      <td> 05-23-11</td>\n",
       "      <td> 20:00:00</td>\n",
       "      <td>...</td>\n",
       "      <td> 05-24-11</td>\n",
       "      <td> 16:00:00</td>\n",
       "      <td> REGULAR</td>\n",
       "      <td> 3172689</td>\n",
       "      <td> 1099010</td>\n",
       "      <td> 05-24-11</td>\n",
       "      <td> 20:00:00</td>\n",
       "      <td> REGULAR</td>\n",
       "      <td> 3173590</td>\n",
       "      <td> 1099055</td>\n",
       "    </tr>\n",
       "  </tbody>\n",
       "</table>\n",
       "<p>2 rows × 43 columns</p>\n",
       "</div>"
      ],
      "text/plain": [
       "   A002  R051  02-00-00  05-21-11  00:00:00  REGULAR  003169391  001097585  \\\n",
       "0  A002  R051  02-00-00  05-22-11  08:00:00  REGULAR    3170164    1097820   \n",
       "1  A002  R051  02-00-00  05-23-11  16:00:00  REGULAR    3171194    1098447   \n",
       "\n",
       "  05-21-11.1  04:00:00           ...            05-22-11  00:00:00.1  \\\n",
       "0   05-22-11  12:00:00           ...            05-23-11    08:00:00   \n",
       "1   05-23-11  20:00:00           ...            05-24-11    16:00:00   \n",
       "\n",
       "   REGULAR.6 003170119 001097792 05-22-11.1  04:00:00.1  REGULAR.7 003170146  \\\n",
       "0    REGULAR   3170746   1098069   05-23-11    12:00:00    REGULAR   3170897   \n",
       "1    REGULAR   3172689   1099010   05-24-11    20:00:00    REGULAR   3173590   \n",
       "\n",
       "  001097801                \n",
       "0                 1098378  \n",
       "1                 1099055  \n",
       "\n",
       "[2 rows x 43 columns]"
      ]
     },
     "execution_count": 8,
     "metadata": {},
     "output_type": "execute_result"
    }
   ],
   "source": [
    "filename = \"data/turnstile_110528.txt\"\n",
    "df_turnstile = pandas.read_csv(filename)\n",
    "df_turnstile.head(2)"
   ]
  },
  {
   "cell_type": "code",
   "execution_count": 9,
   "metadata": {
    "collapsed": false
   },
   "outputs": [
    {
     "data": {
      "text/plain": [
       "(998, 43)"
      ]
     },
     "execution_count": 9,
     "metadata": {},
     "output_type": "execute_result"
    }
   ],
   "source": [
    "df_turnstile.shape"
   ]
  },
  {
   "cell_type": "markdown",
   "metadata": {},
   "source": [
    "There are 998 rows and an overwhelming 43 columns in this dataset. This file was written in a way where multiple observations share the same row. As a result the MTA data is notoriously difficult to work with. As adaptable as the pandas module is, it can't infer this kind of error and correct it. So I'll have to manually do it myself.\n",
    "\n",
    "Looking at the time and date columns, it's clear that each file spans exactly one week at 4 hour intervals. The time diference between each consecutive row is 32 hours.\n",
    "\n",
    "The MTA website labels the data as follows: 'C/A, UNIT, SCP, DATEn, TIMEn, DESCn, ENTRIESn, EXITSn'. The first 3 columns are identification data. Then elements should be chopped from the original data, 5 elements at a time and written into the new file. Next is a sequence of columns with a timestamp, type of report, entry count, and exit count, which repeats 8 times! This figure lines up with the shape of our dataframe (3 + (5 x 8)) = 43.\n",
    "\n"
   ]
  },
  {
   "cell_type": "markdown",
   "metadata": {},
   "source": [
    "### Restructuring the data"
   ]
  },
  {
   "cell_type": "code",
   "execution_count": 10,
   "metadata": {
    "collapsed": true
   },
   "outputs": [],
   "source": [
    "import csv\n",
    "import datetime\n",
    "import os"
   ]
  },
  {
   "cell_type": "code",
   "execution_count": 11,
   "metadata": {
    "collapsed": false
   },
   "outputs": [],
   "source": [
    "def fix_turnstile_data(filepath):\n",
    "    '''\n",
    "    Filepath is a location of a MTA Subway turnstile text file.A link to an example\n",
    "    MTA Subway turnstile text file can be seen at the URL below:\n",
    "    http://web.mta.info/developers/data/nyct/turnstile/turnstile_110507.txt\n",
    "    \n",
    "    There are numerous data points included in each row of the text file. \n",
    "\n",
    "    This function updates each row in the text file so there is only one entry per row.\n",
    "    A few examples below:\n",
    "    A002,R051,02-00-00,05-28-11,00:00:00,REGULAR,003178521,001100739\n",
    "    A002,R051,02-00-00,05-28-11,04:00:00,REGULAR,003178541,001100746\n",
    "    A002,R051,02-00-00,05-28-11,08:00:00,REGULAR,003178559,001100775\n",
    "    \n",
    "    This file is then written into a new related directory.\n",
    "    '''\n",
    "    \n",
    "    # Parse the directory and filename from the input.\n",
    "    splitted = filepath.split(\"/\")\n",
    "    directory, filename = splitted[0], splitted[1]\n",
    "    \n",
    "    # Read the file into memory.\n",
    "    r = csv.reader(open(filepath, 'rb'))\n",
    "\n",
    "    # Prepare the output directory.\n",
    "    newpath = \"updated_{0}\".format(directory)\n",
    "    if not os.path.exists(newpath): \n",
    "        os.makedirs(newpath)\n",
    "    \n",
    "    # Create the output file in the new directory. Overwrite the file if it exists already(wb).\n",
    "    w = csv.writer(open(\"{0}/{1}\".format(newpath, filename), 'wb'))\n",
    "    \n",
    "    # Write the header row, taken from the mta website.\n",
    "    w.writerow(['C/A', 'UNIT', 'SCP', 'DATEn', 'TIMEn', 'DESCn', 'ENTRIESn', 'EXITSn'])\n",
    "    \n",
    "    # Loop through the output from the CSV reader a line at a time.\n",
    "    for line in r:\n",
    "        \n",
    "        # Parse out the elements, and remove them from the row.\n",
    "        ca = line.pop(0)\n",
    "        unit = line.pop(0)\n",
    "        scp = line.pop(0)\n",
    "        \n",
    "        # While there is still new data, parse it.\n",
    "        while len(line) >= 5:\n",
    "            \n",
    "            # Take the first 5 elements and remove them.\n",
    "            block, line = line[:5], line[5:]\n",
    "              \n",
    "            # Output the new row.\n",
    "            w.writerow([ca, unit, scp] + block)"
   ]
  },
  {
   "cell_type": "code",
   "execution_count": 12,
   "metadata": {
    "collapsed": false
   },
   "outputs": [],
   "source": [
    "fix_turnstile_data(filename)"
   ]
  },
  {
   "cell_type": "code",
   "execution_count": 13,
   "metadata": {
    "collapsed": false
   },
   "outputs": [
    {
     "data": {
      "text/html": [
       "<div style=\"max-height:1000px;max-width:1500px;overflow:auto;\">\n",
       "<table border=\"1\" class=\"dataframe\">\n",
       "  <thead>\n",
       "    <tr style=\"text-align: right;\">\n",
       "      <th></th>\n",
       "      <th>C/A</th>\n",
       "      <th>UNIT</th>\n",
       "      <th>SCP</th>\n",
       "      <th>DATEn</th>\n",
       "      <th>TIMEn</th>\n",
       "      <th>DESCn</th>\n",
       "      <th>ENTRIESn</th>\n",
       "      <th>EXITSn</th>\n",
       "    </tr>\n",
       "  </thead>\n",
       "  <tbody>\n",
       "    <tr>\n",
       "      <th>0</th>\n",
       "      <td> A002</td>\n",
       "      <td> R051</td>\n",
       "      <td> 02-00-00</td>\n",
       "      <td> 05-21-11</td>\n",
       "      <td> 00:00:00</td>\n",
       "      <td> REGULAR</td>\n",
       "      <td> 3169391</td>\n",
       "      <td> 1097585</td>\n",
       "    </tr>\n",
       "    <tr>\n",
       "      <th>1</th>\n",
       "      <td> A002</td>\n",
       "      <td> R051</td>\n",
       "      <td> 02-00-00</td>\n",
       "      <td> 05-21-11</td>\n",
       "      <td> 04:00:00</td>\n",
       "      <td> REGULAR</td>\n",
       "      <td> 3169415</td>\n",
       "      <td> 1097588</td>\n",
       "    </tr>\n",
       "  </tbody>\n",
       "</table>\n",
       "</div>"
      ],
      "text/plain": [
       "    C/A  UNIT       SCP     DATEn     TIMEn    DESCn  ENTRIESn   EXITSn\n",
       "0  A002  R051  02-00-00  05-21-11  00:00:00  REGULAR   3169391  1097585\n",
       "1  A002  R051  02-00-00  05-21-11  04:00:00  REGULAR   3169415  1097588"
      ]
     },
     "execution_count": 13,
     "metadata": {},
     "output_type": "execute_result"
    }
   ],
   "source": [
    "updated_filename = \"updated_data/turnstile_110528.txt\"\n",
    "df_turnstile = pandas.read_csv(updated_filename)\n",
    "df_turnstile.head(2)"
   ]
  },
  {
   "cell_type": "code",
   "execution_count": 14,
   "metadata": {
    "collapsed": false
   },
   "outputs": [
    {
     "data": {
      "text/plain": [
       "(7343, 8)"
      ]
     },
     "execution_count": 14,
     "metadata": {},
     "output_type": "execute_result"
    }
   ],
   "source": [
    "df_turnstile.shape"
   ]
  },
  {
   "cell_type": "markdown",
   "metadata": {},
   "source": [
    "### Combining Turnstile Data."
   ]
  },
  {
   "cell_type": "markdown",
   "metadata": {},
   "source": [
    "###Tallying the counts"
   ]
  },
  {
   "cell_type": "markdown",
   "metadata": {},
   "source": [
    "Additionally the original data set gives running totals for each turnstile instead of just a number of entries or exits, so to get anything useful out of it, I'll need to do some subtraction. Simply subtract the entry tally for one timestamp from the previous reading."
   ]
  },
  {
   "cell_type": "code",
   "execution_count": 15,
   "metadata": {
    "collapsed": false
   },
   "outputs": [
    {
     "data": {
      "text/html": [
       "<div style=\"max-height:1000px;max-width:1500px;overflow:auto;\">\n",
       "<table border=\"1\" class=\"dataframe\">\n",
       "  <thead>\n",
       "    <tr style=\"text-align: right;\">\n",
       "      <th></th>\n",
       "      <th>C/A</th>\n",
       "      <th>UNIT</th>\n",
       "      <th>SCP</th>\n",
       "      <th>DATEn</th>\n",
       "      <th>TIMEn</th>\n",
       "      <th>DESCn</th>\n",
       "      <th>ENTRIESn</th>\n",
       "      <th>EXITSn</th>\n",
       "      <th>ENTRIESn_hourly</th>\n",
       "      <th>EXITSn_hourly</th>\n",
       "    </tr>\n",
       "  </thead>\n",
       "  <tbody>\n",
       "    <tr>\n",
       "      <th>0</th>\n",
       "      <td> A002</td>\n",
       "      <td> R051</td>\n",
       "      <td> 02-00-00</td>\n",
       "      <td> 05-21-11</td>\n",
       "      <td> 00:00:00</td>\n",
       "      <td> REGULAR</td>\n",
       "      <td> 3169391</td>\n",
       "      <td> 1097585</td>\n",
       "      <td>  0</td>\n",
       "      <td>  0</td>\n",
       "    </tr>\n",
       "    <tr>\n",
       "      <th>1</th>\n",
       "      <td> A002</td>\n",
       "      <td> R051</td>\n",
       "      <td> 02-00-00</td>\n",
       "      <td> 05-21-11</td>\n",
       "      <td> 04:00:00</td>\n",
       "      <td> REGULAR</td>\n",
       "      <td> 3169415</td>\n",
       "      <td> 1097588</td>\n",
       "      <td> 24</td>\n",
       "      <td>  3</td>\n",
       "    </tr>\n",
       "    <tr>\n",
       "      <th>2</th>\n",
       "      <td> A002</td>\n",
       "      <td> R051</td>\n",
       "      <td> 02-00-00</td>\n",
       "      <td> 05-21-11</td>\n",
       "      <td> 08:00:00</td>\n",
       "      <td> REGULAR</td>\n",
       "      <td> 3169431</td>\n",
       "      <td> 1097607</td>\n",
       "      <td> 16</td>\n",
       "      <td> 19</td>\n",
       "    </tr>\n",
       "  </tbody>\n",
       "</table>\n",
       "</div>"
      ],
      "text/plain": [
       "    C/A  UNIT       SCP     DATEn     TIMEn    DESCn  ENTRIESn   EXITSn  \\\n",
       "0  A002  R051  02-00-00  05-21-11  00:00:00  REGULAR   3169391  1097585   \n",
       "1  A002  R051  02-00-00  05-21-11  04:00:00  REGULAR   3169415  1097588   \n",
       "2  A002  R051  02-00-00  05-21-11  08:00:00  REGULAR   3169431  1097607   \n",
       "\n",
       "   ENTRIESn_hourly  EXITSn_hourly  \n",
       "0                0              0  \n",
       "1               24              3  \n",
       "2               16             19  "
      ]
     },
     "execution_count": 15,
     "metadata": {},
     "output_type": "execute_result"
    }
   ],
   "source": [
    "df_turnstile['ENTRIESn_hourly'] = df_turnstile['ENTRIESn'] - df_turnstile['ENTRIESn'].shift(1)\n",
    "df_turnstile['ENTRIESn_hourly'] = df_turnstile['ENTRIESn_hourly'].fillna(0)\n",
    "\n",
    "df_turnstile['EXITSn_hourly'] = df_turnstile['EXITSn'] - df_turnstile['EXITSn'].shift(1)\n",
    "df_turnstile['EXITSn_hourly'] = df_turnstile['EXITSn_hourly'].fillna(0)\n",
    "    \n",
    "df_turnstile.head(3)"
   ]
  },
  {
   "cell_type": "markdown",
   "metadata": {},
   "source": [
    "### Dates"
   ]
  },
  {
   "cell_type": "markdown",
   "metadata": {},
   "source": [
    "Subway = 2011-05-01\n",
    "MTA = 05-21-11"
   ]
  },
  {
   "cell_type": "code",
   "execution_count": 16,
   "metadata": {
    "collapsed": false
   },
   "outputs": [
    {
     "data": {
      "text/html": [
       "<div style=\"max-height:1000px;max-width:1500px;overflow:auto;\">\n",
       "<table border=\"1\" class=\"dataframe\">\n",
       "  <thead>\n",
       "    <tr style=\"text-align: right;\">\n",
       "      <th></th>\n",
       "      <th>C/A</th>\n",
       "      <th>UNIT</th>\n",
       "      <th>SCP</th>\n",
       "      <th>DATEn</th>\n",
       "      <th>TIMEn</th>\n",
       "      <th>DESCn</th>\n",
       "      <th>ENTRIESn</th>\n",
       "      <th>EXITSn</th>\n",
       "      <th>ENTRIESn_hourly</th>\n",
       "      <th>EXITSn_hourly</th>\n",
       "      <th>date</th>\n",
       "    </tr>\n",
       "  </thead>\n",
       "  <tbody>\n",
       "    <tr>\n",
       "      <th>7338</th>\n",
       "      <td> A042</td>\n",
       "      <td> R086</td>\n",
       "      <td> 01-00-04</td>\n",
       "      <td> 05-27-11</td>\n",
       "      <td> 04:00:00</td>\n",
       "      <td> REGULAR</td>\n",
       "      <td> 915737</td>\n",
       "      <td> 4179675</td>\n",
       "      <td>  13</td>\n",
       "      <td>   28</td>\n",
       "      <td>2011-05-27</td>\n",
       "    </tr>\n",
       "    <tr>\n",
       "      <th>7339</th>\n",
       "      <td> A042</td>\n",
       "      <td> R086</td>\n",
       "      <td> 01-00-04</td>\n",
       "      <td> 05-27-11</td>\n",
       "      <td> 08:00:00</td>\n",
       "      <td> REGULAR</td>\n",
       "      <td> 915743</td>\n",
       "      <td> 4179820</td>\n",
       "      <td>   6</td>\n",
       "      <td>  145</td>\n",
       "      <td>2011-05-27</td>\n",
       "    </tr>\n",
       "    <tr>\n",
       "      <th>7340</th>\n",
       "      <td> A042</td>\n",
       "      <td> R086</td>\n",
       "      <td> 01-00-04</td>\n",
       "      <td> 05-27-11</td>\n",
       "      <td> 12:00:00</td>\n",
       "      <td> REGULAR</td>\n",
       "      <td> 915806</td>\n",
       "      <td> 4180746</td>\n",
       "      <td>  63</td>\n",
       "      <td>  926</td>\n",
       "      <td>2011-05-27</td>\n",
       "    </tr>\n",
       "    <tr>\n",
       "      <th>7341</th>\n",
       "      <td> A042</td>\n",
       "      <td> R086</td>\n",
       "      <td> 01-00-04</td>\n",
       "      <td> 05-27-11</td>\n",
       "      <td> 16:00:00</td>\n",
       "      <td> REGULAR</td>\n",
       "      <td> 916090</td>\n",
       "      <td> 4181746</td>\n",
       "      <td> 284</td>\n",
       "      <td> 1000</td>\n",
       "      <td>2011-05-27</td>\n",
       "    </tr>\n",
       "    <tr>\n",
       "      <th>7342</th>\n",
       "      <td> A042</td>\n",
       "      <td> R086</td>\n",
       "      <td> 01-00-04</td>\n",
       "      <td> 05-27-11</td>\n",
       "      <td> 20:00:00</td>\n",
       "      <td> REGULAR</td>\n",
       "      <td> 916517</td>\n",
       "      <td> 4182631</td>\n",
       "      <td> 427</td>\n",
       "      <td>  885</td>\n",
       "      <td>2011-05-27</td>\n",
       "    </tr>\n",
       "  </tbody>\n",
       "</table>\n",
       "</div>"
      ],
      "text/plain": [
       "       C/A  UNIT       SCP     DATEn     TIMEn    DESCn  ENTRIESn   EXITSn  \\\n",
       "7338  A042  R086  01-00-04  05-27-11  04:00:00  REGULAR    915737  4179675   \n",
       "7339  A042  R086  01-00-04  05-27-11  08:00:00  REGULAR    915743  4179820   \n",
       "7340  A042  R086  01-00-04  05-27-11  12:00:00  REGULAR    915806  4180746   \n",
       "7341  A042  R086  01-00-04  05-27-11  16:00:00  REGULAR    916090  4181746   \n",
       "7342  A042  R086  01-00-04  05-27-11  20:00:00  REGULAR    916517  4182631   \n",
       "\n",
       "      ENTRIESn_hourly  EXITSn_hourly       date  \n",
       "7338               13             28 2011-05-27  \n",
       "7339                6            145 2011-05-27  \n",
       "7340               63            926 2011-05-27  \n",
       "7341              284           1000 2011-05-27  \n",
       "7342              427            885 2011-05-27  "
      ]
     },
     "execution_count": 16,
     "metadata": {},
     "output_type": "execute_result"
    }
   ],
   "source": [
    "df_turnstile['date'] = pandas.to_datetime(df_turnstile['DATEn'])\n",
    "df_turnstile.tail()"
   ]
  },
  {
   "cell_type": "markdown",
   "metadata": {},
   "source": [
    "### Removing redundant columns"
   ]
  },
  {
   "cell_type": "code",
   "execution_count": 17,
   "metadata": {
    "collapsed": false
   },
   "outputs": [
    {
     "data": {
      "text/html": [
       "<div style=\"max-height:1000px;max-width:1500px;overflow:auto;\">\n",
       "<table border=\"1\" class=\"dataframe\">\n",
       "  <thead>\n",
       "    <tr style=\"text-align: right;\">\n",
       "      <th></th>\n",
       "      <th>C/A</th>\n",
       "      <th>UNIT</th>\n",
       "      <th>SCP</th>\n",
       "      <th>TIMEn</th>\n",
       "      <th>DESCn</th>\n",
       "      <th>ENTRIESn_hourly</th>\n",
       "      <th>EXITSn_hourly</th>\n",
       "      <th>date</th>\n",
       "    </tr>\n",
       "  </thead>\n",
       "  <tbody>\n",
       "    <tr>\n",
       "      <th>0</th>\n",
       "      <td> A002</td>\n",
       "      <td> R051</td>\n",
       "      <td> 02-00-00</td>\n",
       "      <td> 00:00:00</td>\n",
       "      <td> REGULAR</td>\n",
       "      <td>  0</td>\n",
       "      <td> 0</td>\n",
       "      <td>2011-05-21</td>\n",
       "    </tr>\n",
       "    <tr>\n",
       "      <th>1</th>\n",
       "      <td> A002</td>\n",
       "      <td> R051</td>\n",
       "      <td> 02-00-00</td>\n",
       "      <td> 04:00:00</td>\n",
       "      <td> REGULAR</td>\n",
       "      <td> 24</td>\n",
       "      <td> 3</td>\n",
       "      <td>2011-05-21</td>\n",
       "    </tr>\n",
       "  </tbody>\n",
       "</table>\n",
       "</div>"
      ],
      "text/plain": [
       "    C/A  UNIT       SCP     TIMEn    DESCn  ENTRIESn_hourly  EXITSn_hourly  \\\n",
       "0  A002  R051  02-00-00  00:00:00  REGULAR                0              0   \n",
       "1  A002  R051  02-00-00  04:00:00  REGULAR               24              3   \n",
       "\n",
       "        date  \n",
       "0 2011-05-21  \n",
       "1 2011-05-21  "
      ]
     },
     "execution_count": 17,
     "metadata": {},
     "output_type": "execute_result"
    }
   ],
   "source": [
    "df_turnstile = df_turnstile.drop([\"DATEn\", \"ENTRIESn\", \"EXITSn\"], axis=1)\n",
    "df_turnstile.head(2)"
   ]
  },
  {
   "cell_type": "markdown",
   "metadata": {},
   "source": [
    "### Using Both Datasets"
   ]
  },
  {
   "cell_type": "markdown",
   "metadata": {},
   "source": [
    "I thought about combining both dataframes into a master dataset that would contain both subway and weather information. However after I implemented it, the whole thing proved to be redundant. The weather data contains one observation for the entire day, while the subway data contains data for every 4 hours. Combining them would mean putting a lot of repeated data into each hour for each day. This only offers some ease of access by having everything in one file, but it bloats the data. So instead I'm choosing to keep them separate, and keeping the weather dataframe as a sort of lookup table to find dates corresponding to events (such as fog) and then getting the subway data for these dates.\n",
    "\n",
    "But first I'll index them both by date for easier lookups."
   ]
  },
  {
   "cell_type": "code",
   "execution_count": 18,
   "metadata": {
    "collapsed": false
   },
   "outputs": [],
   "source": [
    "df_weather = df_weather.set_index('date')\n",
    "df_turnstile = df_turnstile.set_index('date')"
   ]
  },
  {
   "cell_type": "code",
   "execution_count": 19,
   "metadata": {
    "collapsed": false
   },
   "outputs": [
    {
     "data": {
      "text/plain": [
       "Index([u'2011-05-15', u'2011-05-18', u'2011-05-19', u'2011-05-23', u'2011-05-24'], dtype='object')"
      ]
     },
     "execution_count": 19,
     "metadata": {},
     "output_type": "execute_result"
    }
   ],
   "source": [
    "filter_fog = df_weather['fog'] == 1\n",
    "a = df_weather[filter_fog]\n",
    "a.index\n"
   ]
  },
  {
   "cell_type": "code",
   "execution_count": 20,
   "metadata": {
    "collapsed": false
   },
   "outputs": [
    {
     "data": {
      "text/html": [
       "<div style=\"max-height:1000px;max-width:1500px;overflow:auto;\">\n",
       "<table border=\"1\" class=\"dataframe\">\n",
       "  <thead>\n",
       "    <tr style=\"text-align: right;\">\n",
       "      <th></th>\n",
       "      <th>C/A</th>\n",
       "      <th>UNIT</th>\n",
       "      <th>SCP</th>\n",
       "      <th>TIMEn</th>\n",
       "      <th>DESCn</th>\n",
       "      <th>ENTRIESn_hourly</th>\n",
       "      <th>EXITSn_hourly</th>\n",
       "    </tr>\n",
       "    <tr>\n",
       "      <th>date</th>\n",
       "      <th></th>\n",
       "      <th></th>\n",
       "      <th></th>\n",
       "      <th></th>\n",
       "      <th></th>\n",
       "      <th></th>\n",
       "      <th></th>\n",
       "    </tr>\n",
       "  </thead>\n",
       "  <tbody>\n",
       "    <tr>\n",
       "      <th>2011-05-21</th>\n",
       "      <td> A002</td>\n",
       "      <td> R051</td>\n",
       "      <td> 02-00-00</td>\n",
       "      <td> 00:00:00</td>\n",
       "      <td> REGULAR</td>\n",
       "      <td>       0</td>\n",
       "      <td>       0</td>\n",
       "    </tr>\n",
       "    <tr>\n",
       "      <th>2011-05-21</th>\n",
       "      <td> A002</td>\n",
       "      <td> R051</td>\n",
       "      <td> 02-00-00</td>\n",
       "      <td> 04:00:00</td>\n",
       "      <td> REGULAR</td>\n",
       "      <td>      24</td>\n",
       "      <td>       3</td>\n",
       "    </tr>\n",
       "    <tr>\n",
       "      <th>2011-05-21</th>\n",
       "      <td> A002</td>\n",
       "      <td> R051</td>\n",
       "      <td> 02-00-00</td>\n",
       "      <td> 08:00:00</td>\n",
       "      <td> REGULAR</td>\n",
       "      <td>      16</td>\n",
       "      <td>      19</td>\n",
       "    </tr>\n",
       "    <tr>\n",
       "      <th>2011-05-21</th>\n",
       "      <td> A002</td>\n",
       "      <td> R051</td>\n",
       "      <td> 02-00-00</td>\n",
       "      <td> 12:00:00</td>\n",
       "      <td> REGULAR</td>\n",
       "      <td>      75</td>\n",
       "      <td>      79</td>\n",
       "    </tr>\n",
       "    <tr>\n",
       "      <th>2011-05-21</th>\n",
       "      <td> A002</td>\n",
       "      <td> R051</td>\n",
       "      <td> 02-00-00</td>\n",
       "      <td> 16:00:00</td>\n",
       "      <td> REGULAR</td>\n",
       "      <td>     187</td>\n",
       "      <td>      48</td>\n",
       "    </tr>\n",
       "    <tr>\n",
       "      <th>2011-05-21</th>\n",
       "      <td> A002</td>\n",
       "      <td> R051</td>\n",
       "      <td> 02-00-00</td>\n",
       "      <td> 20:00:00</td>\n",
       "      <td> REGULAR</td>\n",
       "      <td>     305</td>\n",
       "      <td>      35</td>\n",
       "    </tr>\n",
       "    <tr>\n",
       "      <th>2011-05-21</th>\n",
       "      <td> A002</td>\n",
       "      <td> R051</td>\n",
       "      <td> 02-00-01</td>\n",
       "      <td> 00:00:00</td>\n",
       "      <td> REGULAR</td>\n",
       "      <td>  -61468</td>\n",
       "      <td> -436253</td>\n",
       "    </tr>\n",
       "    <tr>\n",
       "      <th>2011-05-21</th>\n",
       "      <td> A002</td>\n",
       "      <td> R051</td>\n",
       "      <td> 02-00-01</td>\n",
       "      <td> 04:00:00</td>\n",
       "      <td> REGULAR</td>\n",
       "      <td>      36</td>\n",
       "      <td>       6</td>\n",
       "    </tr>\n",
       "    <tr>\n",
       "      <th>2011-05-21</th>\n",
       "      <td> A002</td>\n",
       "      <td> R051</td>\n",
       "      <td> 02-00-01</td>\n",
       "      <td> 08:00:00</td>\n",
       "      <td> REGULAR</td>\n",
       "      <td>      15</td>\n",
       "      <td>      11</td>\n",
       "    </tr>\n",
       "    <tr>\n",
       "      <th>2011-05-21</th>\n",
       "      <td> A002</td>\n",
       "      <td> R051</td>\n",
       "      <td> 02-00-01</td>\n",
       "      <td> 12:00:00</td>\n",
       "      <td> REGULAR</td>\n",
       "      <td>      67</td>\n",
       "      <td>      50</td>\n",
       "    </tr>\n",
       "    <tr>\n",
       "      <th>2011-05-21</th>\n",
       "      <td> A002</td>\n",
       "      <td> R051</td>\n",
       "      <td> 02-00-01</td>\n",
       "      <td> 16:00:00</td>\n",
       "      <td> REGULAR</td>\n",
       "      <td>     183</td>\n",
       "      <td>      37</td>\n",
       "    </tr>\n",
       "    <tr>\n",
       "      <th>2011-05-21</th>\n",
       "      <td> A002</td>\n",
       "      <td> R051</td>\n",
       "      <td> 02-00-01</td>\n",
       "      <td> 20:00:00</td>\n",
       "      <td> REGULAR</td>\n",
       "      <td>     270</td>\n",
       "      <td>      37</td>\n",
       "    </tr>\n",
       "    <tr>\n",
       "      <th>2011-05-21</th>\n",
       "      <td> A002</td>\n",
       "      <td> R051</td>\n",
       "      <td> 02-03-00</td>\n",
       "      <td> 00:00:00</td>\n",
       "      <td> REGULAR</td>\n",
       "      <td>-1827773</td>\n",
       "      <td> 3955724</td>\n",
       "    </tr>\n",
       "    <tr>\n",
       "      <th>2011-05-21</th>\n",
       "      <td> A002</td>\n",
       "      <td> R051</td>\n",
       "      <td> 02-03-00</td>\n",
       "      <td> 04:00:00</td>\n",
       "      <td> REGULAR</td>\n",
       "      <td>      12</td>\n",
       "      <td>      27</td>\n",
       "    </tr>\n",
       "    <tr>\n",
       "      <th>2011-05-21</th>\n",
       "      <td> A002</td>\n",
       "      <td> R051</td>\n",
       "      <td> 02-03-00</td>\n",
       "      <td> 08:00:00</td>\n",
       "      <td> REGULAR</td>\n",
       "      <td>       4</td>\n",
       "      <td>      61</td>\n",
       "    </tr>\n",
       "    <tr>\n",
       "      <th>2011-05-21</th>\n",
       "      <td> A002</td>\n",
       "      <td> R051</td>\n",
       "      <td> 02-03-00</td>\n",
       "      <td> 12:00:00</td>\n",
       "      <td> REGULAR</td>\n",
       "      <td>      26</td>\n",
       "      <td>     305</td>\n",
       "    </tr>\n",
       "    <tr>\n",
       "      <th>2011-05-21</th>\n",
       "      <td> A002</td>\n",
       "      <td> R051</td>\n",
       "      <td> 02-03-00</td>\n",
       "      <td> 16:00:00</td>\n",
       "      <td> REGULAR</td>\n",
       "      <td>      63</td>\n",
       "      <td>     340</td>\n",
       "    </tr>\n",
       "    <tr>\n",
       "      <th>2011-05-21</th>\n",
       "      <td> A002</td>\n",
       "      <td> R051</td>\n",
       "      <td> 02-03-00</td>\n",
       "      <td> 20:00:00</td>\n",
       "      <td> REGULAR</td>\n",
       "      <td>     115</td>\n",
       "      <td>     399</td>\n",
       "    </tr>\n",
       "    <tr>\n",
       "      <th>2011-05-21</th>\n",
       "      <td> A002</td>\n",
       "      <td> R051</td>\n",
       "      <td> 02-03-01</td>\n",
       "      <td> 00:00:00</td>\n",
       "      <td> REGULAR</td>\n",
       "      <td> 1570397</td>\n",
       "      <td> -209962</td>\n",
       "    </tr>\n",
       "    <tr>\n",
       "      <th>2011-05-21</th>\n",
       "      <td> A002</td>\n",
       "      <td> R051</td>\n",
       "      <td> 02-03-01</td>\n",
       "      <td> 04:00:00</td>\n",
       "      <td> REGULAR</td>\n",
       "      <td>      35</td>\n",
       "      <td>      39</td>\n",
       "    </tr>\n",
       "    <tr>\n",
       "      <th>2011-05-21</th>\n",
       "      <td> A002</td>\n",
       "      <td> R051</td>\n",
       "      <td> 02-03-01</td>\n",
       "      <td> 08:00:00</td>\n",
       "      <td> REGULAR</td>\n",
       "      <td>      27</td>\n",
       "      <td>      87</td>\n",
       "    </tr>\n",
       "    <tr>\n",
       "      <th>2011-05-21</th>\n",
       "      <td> A002</td>\n",
       "      <td> R051</td>\n",
       "      <td> 02-03-01</td>\n",
       "      <td> 12:00:00</td>\n",
       "      <td> REGULAR</td>\n",
       "      <td>     117</td>\n",
       "      <td>     297</td>\n",
       "    </tr>\n",
       "    <tr>\n",
       "      <th>2011-05-21</th>\n",
       "      <td> A002</td>\n",
       "      <td> R051</td>\n",
       "      <td> 02-03-01</td>\n",
       "      <td> 16:00:00</td>\n",
       "      <td> REGULAR</td>\n",
       "      <td>     245</td>\n",
       "      <td>     403</td>\n",
       "    </tr>\n",
       "    <tr>\n",
       "      <th>2011-05-21</th>\n",
       "      <td> A002</td>\n",
       "      <td> R051</td>\n",
       "      <td> 02-03-01</td>\n",
       "      <td> 20:00:00</td>\n",
       "      <td> REGULAR</td>\n",
       "      <td>     261</td>\n",
       "      <td>     462</td>\n",
       "    </tr>\n",
       "    <tr>\n",
       "      <th>2011-05-21</th>\n",
       "      <td> A002</td>\n",
       "      <td> R051</td>\n",
       "      <td> 02-03-02</td>\n",
       "      <td> 00:00:00</td>\n",
       "      <td> REGULAR</td>\n",
       "      <td> -237520</td>\n",
       "      <td> -820098</td>\n",
       "    </tr>\n",
       "    <tr>\n",
       "      <th>2011-05-21</th>\n",
       "      <td> A002</td>\n",
       "      <td> R051</td>\n",
       "      <td> 02-03-02</td>\n",
       "      <td> 04:00:00</td>\n",
       "      <td> REGULAR</td>\n",
       "      <td>      54</td>\n",
       "      <td>      39</td>\n",
       "    </tr>\n",
       "    <tr>\n",
       "      <th>2011-05-21</th>\n",
       "      <td> A002</td>\n",
       "      <td> R051</td>\n",
       "      <td> 02-03-02</td>\n",
       "      <td> 08:00:00</td>\n",
       "      <td> REGULAR</td>\n",
       "      <td>      15</td>\n",
       "      <td>      82</td>\n",
       "    </tr>\n",
       "    <tr>\n",
       "      <th>2011-05-21</th>\n",
       "      <td> A002</td>\n",
       "      <td> R051</td>\n",
       "      <td> 02-03-02</td>\n",
       "      <td> 12:00:00</td>\n",
       "      <td> REGULAR</td>\n",
       "      <td>     111</td>\n",
       "      <td>     271</td>\n",
       "    </tr>\n",
       "    <tr>\n",
       "      <th>2011-05-21</th>\n",
       "      <td> A002</td>\n",
       "      <td> R051</td>\n",
       "      <td> 02-03-02</td>\n",
       "      <td> 16:00:00</td>\n",
       "      <td> REGULAR</td>\n",
       "      <td>     239</td>\n",
       "      <td>     299</td>\n",
       "    </tr>\n",
       "    <tr>\n",
       "      <th>2011-05-21</th>\n",
       "      <td> A002</td>\n",
       "      <td> R051</td>\n",
       "      <td> 02-03-02</td>\n",
       "      <td> 20:00:00</td>\n",
       "      <td> REGULAR</td>\n",
       "      <td>     311</td>\n",
       "      <td>     355</td>\n",
       "    </tr>\n",
       "    <tr>\n",
       "      <th>...</th>\n",
       "      <td>...</td>\n",
       "      <td>...</td>\n",
       "      <td>...</td>\n",
       "      <td>...</td>\n",
       "      <td>...</td>\n",
       "      <td>...</td>\n",
       "      <td>...</td>\n",
       "    </tr>\n",
       "    <tr>\n",
       "      <th>2011-05-21</th>\n",
       "      <td> A042</td>\n",
       "      <td> R086</td>\n",
       "      <td> 01-00-00</td>\n",
       "      <td> 00:00:00</td>\n",
       "      <td> REGULAR</td>\n",
       "      <td>-2081187</td>\n",
       "      <td> 8243031</td>\n",
       "    </tr>\n",
       "    <tr>\n",
       "      <th>2011-05-21</th>\n",
       "      <td> A042</td>\n",
       "      <td> R086</td>\n",
       "      <td> 01-00-00</td>\n",
       "      <td> 04:00:00</td>\n",
       "      <td> REGULAR</td>\n",
       "      <td>      13</td>\n",
       "      <td>      50</td>\n",
       "    </tr>\n",
       "    <tr>\n",
       "      <th>2011-05-21</th>\n",
       "      <td> A042</td>\n",
       "      <td> R086</td>\n",
       "      <td> 01-00-00</td>\n",
       "      <td> 08:00:00</td>\n",
       "      <td> REGULAR</td>\n",
       "      <td>       3</td>\n",
       "      <td>      96</td>\n",
       "    </tr>\n",
       "    <tr>\n",
       "      <th>2011-05-21</th>\n",
       "      <td> A042</td>\n",
       "      <td> R086</td>\n",
       "      <td> 01-00-00</td>\n",
       "      <td> 12:00:00</td>\n",
       "      <td> REGULAR</td>\n",
       "      <td>      36</td>\n",
       "      <td>     884</td>\n",
       "    </tr>\n",
       "    <tr>\n",
       "      <th>2011-05-21</th>\n",
       "      <td> A042</td>\n",
       "      <td> R086</td>\n",
       "      <td> 01-00-00</td>\n",
       "      <td> 16:00:00</td>\n",
       "      <td> REGULAR</td>\n",
       "      <td>     149</td>\n",
       "      <td>    1775</td>\n",
       "    </tr>\n",
       "    <tr>\n",
       "      <th>2011-05-21</th>\n",
       "      <td> A042</td>\n",
       "      <td> R086</td>\n",
       "      <td> 01-00-00</td>\n",
       "      <td> 20:00:00</td>\n",
       "      <td> REGULAR</td>\n",
       "      <td>     302</td>\n",
       "      <td>    1537</td>\n",
       "    </tr>\n",
       "    <tr>\n",
       "      <th>2011-05-21</th>\n",
       "      <td> A042</td>\n",
       "      <td> R086</td>\n",
       "      <td> 01-00-01</td>\n",
       "      <td> 00:00:00</td>\n",
       "      <td> REGULAR</td>\n",
       "      <td>  903503</td>\n",
       "      <td>-2332090</td>\n",
       "    </tr>\n",
       "    <tr>\n",
       "      <th>2011-05-21</th>\n",
       "      <td> A042</td>\n",
       "      <td> R086</td>\n",
       "      <td> 01-00-01</td>\n",
       "      <td> 04:00:00</td>\n",
       "      <td> REGULAR</td>\n",
       "      <td>      42</td>\n",
       "      <td>      51</td>\n",
       "    </tr>\n",
       "    <tr>\n",
       "      <th>2011-05-21</th>\n",
       "      <td> A042</td>\n",
       "      <td> R086</td>\n",
       "      <td> 01-00-01</td>\n",
       "      <td> 08:00:00</td>\n",
       "      <td> REGULAR</td>\n",
       "      <td>      15</td>\n",
       "      <td>      63</td>\n",
       "    </tr>\n",
       "    <tr>\n",
       "      <th>2011-05-21</th>\n",
       "      <td> A042</td>\n",
       "      <td> R086</td>\n",
       "      <td> 01-00-01</td>\n",
       "      <td> 12:00:00</td>\n",
       "      <td> REGULAR</td>\n",
       "      <td>      59</td>\n",
       "      <td>     647</td>\n",
       "    </tr>\n",
       "    <tr>\n",
       "      <th>2011-05-21</th>\n",
       "      <td> A042</td>\n",
       "      <td> R086</td>\n",
       "      <td> 01-00-01</td>\n",
       "      <td> 16:00:00</td>\n",
       "      <td> REGULAR</td>\n",
       "      <td>     244</td>\n",
       "      <td>    1317</td>\n",
       "    </tr>\n",
       "    <tr>\n",
       "      <th>2011-05-21</th>\n",
       "      <td> A042</td>\n",
       "      <td> R086</td>\n",
       "      <td> 01-00-01</td>\n",
       "      <td> 20:00:00</td>\n",
       "      <td> REGULAR</td>\n",
       "      <td>     466</td>\n",
       "      <td>    1117</td>\n",
       "    </tr>\n",
       "    <tr>\n",
       "      <th>2011-05-21</th>\n",
       "      <td> A042</td>\n",
       "      <td> R086</td>\n",
       "      <td> 01-00-02</td>\n",
       "      <td> 00:00:00</td>\n",
       "      <td> REGULAR</td>\n",
       "      <td>  823562</td>\n",
       "      <td>-3032373</td>\n",
       "    </tr>\n",
       "    <tr>\n",
       "      <th>2011-05-21</th>\n",
       "      <td> A042</td>\n",
       "      <td> R086</td>\n",
       "      <td> 01-00-02</td>\n",
       "      <td> 04:00:00</td>\n",
       "      <td> REGULAR</td>\n",
       "      <td>      54</td>\n",
       "      <td>      30</td>\n",
       "    </tr>\n",
       "    <tr>\n",
       "      <th>2011-05-21</th>\n",
       "      <td> A042</td>\n",
       "      <td> R086</td>\n",
       "      <td> 01-00-02</td>\n",
       "      <td> 08:00:00</td>\n",
       "      <td> REGULAR</td>\n",
       "      <td>      15</td>\n",
       "      <td>      38</td>\n",
       "    </tr>\n",
       "    <tr>\n",
       "      <th>2011-05-21</th>\n",
       "      <td> A042</td>\n",
       "      <td> R086</td>\n",
       "      <td> 01-00-02</td>\n",
       "      <td> 12:00:00</td>\n",
       "      <td> REGULAR</td>\n",
       "      <td>      83</td>\n",
       "      <td>     410</td>\n",
       "    </tr>\n",
       "    <tr>\n",
       "      <th>2011-05-21</th>\n",
       "      <td> A042</td>\n",
       "      <td> R086</td>\n",
       "      <td> 01-00-02</td>\n",
       "      <td> 16:00:00</td>\n",
       "      <td> REGULAR</td>\n",
       "      <td>     366</td>\n",
       "      <td>     843</td>\n",
       "    </tr>\n",
       "    <tr>\n",
       "      <th>2011-05-21</th>\n",
       "      <td> A042</td>\n",
       "      <td> R086</td>\n",
       "      <td> 01-00-02</td>\n",
       "      <td> 20:00:00</td>\n",
       "      <td> REGULAR</td>\n",
       "      <td>     625</td>\n",
       "      <td>     687</td>\n",
       "    </tr>\n",
       "    <tr>\n",
       "      <th>2011-05-21</th>\n",
       "      <td> A042</td>\n",
       "      <td> R086</td>\n",
       "      <td> 01-00-03</td>\n",
       "      <td> 00:00:00</td>\n",
       "      <td> REGULAR</td>\n",
       "      <td> -989137</td>\n",
       "      <td>-1760958</td>\n",
       "    </tr>\n",
       "    <tr>\n",
       "      <th>2011-05-21</th>\n",
       "      <td> A042</td>\n",
       "      <td> R086</td>\n",
       "      <td> 01-00-03</td>\n",
       "      <td> 04:00:00</td>\n",
       "      <td> REGULAR</td>\n",
       "      <td>      49</td>\n",
       "      <td>      19</td>\n",
       "    </tr>\n",
       "    <tr>\n",
       "      <th>2011-05-21</th>\n",
       "      <td> A042</td>\n",
       "      <td> R086</td>\n",
       "      <td> 01-00-03</td>\n",
       "      <td> 08:00:00</td>\n",
       "      <td> REGULAR</td>\n",
       "      <td>      12</td>\n",
       "      <td>      44</td>\n",
       "    </tr>\n",
       "    <tr>\n",
       "      <th>2011-05-21</th>\n",
       "      <td> A042</td>\n",
       "      <td> R086</td>\n",
       "      <td> 01-00-03</td>\n",
       "      <td> 12:00:00</td>\n",
       "      <td> REGULAR</td>\n",
       "      <td>      99</td>\n",
       "      <td>     457</td>\n",
       "    </tr>\n",
       "    <tr>\n",
       "      <th>2011-05-21</th>\n",
       "      <td> A042</td>\n",
       "      <td> R086</td>\n",
       "      <td> 01-00-03</td>\n",
       "      <td> 16:00:00</td>\n",
       "      <td> REGULAR</td>\n",
       "      <td>     329</td>\n",
       "      <td>     990</td>\n",
       "    </tr>\n",
       "    <tr>\n",
       "      <th>2011-05-21</th>\n",
       "      <td> A042</td>\n",
       "      <td> R086</td>\n",
       "      <td> 01-00-03</td>\n",
       "      <td> 20:00:00</td>\n",
       "      <td> REGULAR</td>\n",
       "      <td>     553</td>\n",
       "      <td>     855</td>\n",
       "    </tr>\n",
       "    <tr>\n",
       "      <th>2011-05-21</th>\n",
       "      <td> A042</td>\n",
       "      <td> R086</td>\n",
       "      <td> 01-00-04</td>\n",
       "      <td> 00:00:00</td>\n",
       "      <td> REGULAR</td>\n",
       "      <td>-1045134</td>\n",
       "      <td> 1423370</td>\n",
       "    </tr>\n",
       "    <tr>\n",
       "      <th>2011-05-21</th>\n",
       "      <td> A042</td>\n",
       "      <td> R086</td>\n",
       "      <td> 01-00-04</td>\n",
       "      <td> 04:00:00</td>\n",
       "      <td> REGULAR</td>\n",
       "      <td>      25</td>\n",
       "      <td>      82</td>\n",
       "    </tr>\n",
       "    <tr>\n",
       "      <th>2011-05-21</th>\n",
       "      <td> A042</td>\n",
       "      <td> R086</td>\n",
       "      <td> 01-00-04</td>\n",
       "      <td> 08:00:00</td>\n",
       "      <td> REGULAR</td>\n",
       "      <td>      14</td>\n",
       "      <td>     158</td>\n",
       "    </tr>\n",
       "    <tr>\n",
       "      <th>2011-05-21</th>\n",
       "      <td> A042</td>\n",
       "      <td> R086</td>\n",
       "      <td> 01-00-04</td>\n",
       "      <td> 12:00:00</td>\n",
       "      <td> REGULAR</td>\n",
       "      <td>      68</td>\n",
       "      <td>    1017</td>\n",
       "    </tr>\n",
       "    <tr>\n",
       "      <th>2011-05-21</th>\n",
       "      <td> A042</td>\n",
       "      <td> R086</td>\n",
       "      <td> 01-00-04</td>\n",
       "      <td> 16:00:00</td>\n",
       "      <td> REGULAR</td>\n",
       "      <td>     254</td>\n",
       "      <td>    1689</td>\n",
       "    </tr>\n",
       "    <tr>\n",
       "      <th>2011-05-21</th>\n",
       "      <td> A042</td>\n",
       "      <td> R086</td>\n",
       "      <td> 01-00-04</td>\n",
       "      <td> 20:00:00</td>\n",
       "      <td> REGULAR</td>\n",
       "      <td>     412</td>\n",
       "      <td>    1432</td>\n",
       "    </tr>\n",
       "  </tbody>\n",
       "</table>\n",
       "<p>985 rows × 7 columns</p>\n",
       "</div>"
      ],
      "text/plain": [
       "             C/A  UNIT       SCP     TIMEn    DESCn  ENTRIESn_hourly  \\\n",
       "date                                                                   \n",
       "2011-05-21  A002  R051  02-00-00  00:00:00  REGULAR                0   \n",
       "2011-05-21  A002  R051  02-00-00  04:00:00  REGULAR               24   \n",
       "2011-05-21  A002  R051  02-00-00  08:00:00  REGULAR               16   \n",
       "2011-05-21  A002  R051  02-00-00  12:00:00  REGULAR               75   \n",
       "2011-05-21  A002  R051  02-00-00  16:00:00  REGULAR              187   \n",
       "2011-05-21  A002  R051  02-00-00  20:00:00  REGULAR              305   \n",
       "2011-05-21  A002  R051  02-00-01  00:00:00  REGULAR           -61468   \n",
       "2011-05-21  A002  R051  02-00-01  04:00:00  REGULAR               36   \n",
       "2011-05-21  A002  R051  02-00-01  08:00:00  REGULAR               15   \n",
       "2011-05-21  A002  R051  02-00-01  12:00:00  REGULAR               67   \n",
       "2011-05-21  A002  R051  02-00-01  16:00:00  REGULAR              183   \n",
       "2011-05-21  A002  R051  02-00-01  20:00:00  REGULAR              270   \n",
       "2011-05-21  A002  R051  02-03-00  00:00:00  REGULAR         -1827773   \n",
       "2011-05-21  A002  R051  02-03-00  04:00:00  REGULAR               12   \n",
       "2011-05-21  A002  R051  02-03-00  08:00:00  REGULAR                4   \n",
       "2011-05-21  A002  R051  02-03-00  12:00:00  REGULAR               26   \n",
       "2011-05-21  A002  R051  02-03-00  16:00:00  REGULAR               63   \n",
       "2011-05-21  A002  R051  02-03-00  20:00:00  REGULAR              115   \n",
       "2011-05-21  A002  R051  02-03-01  00:00:00  REGULAR          1570397   \n",
       "2011-05-21  A002  R051  02-03-01  04:00:00  REGULAR               35   \n",
       "2011-05-21  A002  R051  02-03-01  08:00:00  REGULAR               27   \n",
       "2011-05-21  A002  R051  02-03-01  12:00:00  REGULAR              117   \n",
       "2011-05-21  A002  R051  02-03-01  16:00:00  REGULAR              245   \n",
       "2011-05-21  A002  R051  02-03-01  20:00:00  REGULAR              261   \n",
       "2011-05-21  A002  R051  02-03-02  00:00:00  REGULAR          -237520   \n",
       "2011-05-21  A002  R051  02-03-02  04:00:00  REGULAR               54   \n",
       "2011-05-21  A002  R051  02-03-02  08:00:00  REGULAR               15   \n",
       "2011-05-21  A002  R051  02-03-02  12:00:00  REGULAR              111   \n",
       "2011-05-21  A002  R051  02-03-02  16:00:00  REGULAR              239   \n",
       "2011-05-21  A002  R051  02-03-02  20:00:00  REGULAR              311   \n",
       "...          ...   ...       ...       ...      ...              ...   \n",
       "2011-05-21  A042  R086  01-00-00  00:00:00  REGULAR         -2081187   \n",
       "2011-05-21  A042  R086  01-00-00  04:00:00  REGULAR               13   \n",
       "2011-05-21  A042  R086  01-00-00  08:00:00  REGULAR                3   \n",
       "2011-05-21  A042  R086  01-00-00  12:00:00  REGULAR               36   \n",
       "2011-05-21  A042  R086  01-00-00  16:00:00  REGULAR              149   \n",
       "2011-05-21  A042  R086  01-00-00  20:00:00  REGULAR              302   \n",
       "2011-05-21  A042  R086  01-00-01  00:00:00  REGULAR           903503   \n",
       "2011-05-21  A042  R086  01-00-01  04:00:00  REGULAR               42   \n",
       "2011-05-21  A042  R086  01-00-01  08:00:00  REGULAR               15   \n",
       "2011-05-21  A042  R086  01-00-01  12:00:00  REGULAR               59   \n",
       "2011-05-21  A042  R086  01-00-01  16:00:00  REGULAR              244   \n",
       "2011-05-21  A042  R086  01-00-01  20:00:00  REGULAR              466   \n",
       "2011-05-21  A042  R086  01-00-02  00:00:00  REGULAR           823562   \n",
       "2011-05-21  A042  R086  01-00-02  04:00:00  REGULAR               54   \n",
       "2011-05-21  A042  R086  01-00-02  08:00:00  REGULAR               15   \n",
       "2011-05-21  A042  R086  01-00-02  12:00:00  REGULAR               83   \n",
       "2011-05-21  A042  R086  01-00-02  16:00:00  REGULAR              366   \n",
       "2011-05-21  A042  R086  01-00-02  20:00:00  REGULAR              625   \n",
       "2011-05-21  A042  R086  01-00-03  00:00:00  REGULAR          -989137   \n",
       "2011-05-21  A042  R086  01-00-03  04:00:00  REGULAR               49   \n",
       "2011-05-21  A042  R086  01-00-03  08:00:00  REGULAR               12   \n",
       "2011-05-21  A042  R086  01-00-03  12:00:00  REGULAR               99   \n",
       "2011-05-21  A042  R086  01-00-03  16:00:00  REGULAR              329   \n",
       "2011-05-21  A042  R086  01-00-03  20:00:00  REGULAR              553   \n",
       "2011-05-21  A042  R086  01-00-04  00:00:00  REGULAR         -1045134   \n",
       "2011-05-21  A042  R086  01-00-04  04:00:00  REGULAR               25   \n",
       "2011-05-21  A042  R086  01-00-04  08:00:00  REGULAR               14   \n",
       "2011-05-21  A042  R086  01-00-04  12:00:00  REGULAR               68   \n",
       "2011-05-21  A042  R086  01-00-04  16:00:00  REGULAR              254   \n",
       "2011-05-21  A042  R086  01-00-04  20:00:00  REGULAR              412   \n",
       "\n",
       "            EXITSn_hourly  \n",
       "date                       \n",
       "2011-05-21              0  \n",
       "2011-05-21              3  \n",
       "2011-05-21             19  \n",
       "2011-05-21             79  \n",
       "2011-05-21             48  \n",
       "2011-05-21             35  \n",
       "2011-05-21        -436253  \n",
       "2011-05-21              6  \n",
       "2011-05-21             11  \n",
       "2011-05-21             50  \n",
       "2011-05-21             37  \n",
       "2011-05-21             37  \n",
       "2011-05-21        3955724  \n",
       "2011-05-21             27  \n",
       "2011-05-21             61  \n",
       "2011-05-21            305  \n",
       "2011-05-21            340  \n",
       "2011-05-21            399  \n",
       "2011-05-21        -209962  \n",
       "2011-05-21             39  \n",
       "2011-05-21             87  \n",
       "2011-05-21            297  \n",
       "2011-05-21            403  \n",
       "2011-05-21            462  \n",
       "2011-05-21        -820098  \n",
       "2011-05-21             39  \n",
       "2011-05-21             82  \n",
       "2011-05-21            271  \n",
       "2011-05-21            299  \n",
       "2011-05-21            355  \n",
       "...                   ...  \n",
       "2011-05-21        8243031  \n",
       "2011-05-21             50  \n",
       "2011-05-21             96  \n",
       "2011-05-21            884  \n",
       "2011-05-21           1775  \n",
       "2011-05-21           1537  \n",
       "2011-05-21       -2332090  \n",
       "2011-05-21             51  \n",
       "2011-05-21             63  \n",
       "2011-05-21            647  \n",
       "2011-05-21           1317  \n",
       "2011-05-21           1117  \n",
       "2011-05-21       -3032373  \n",
       "2011-05-21             30  \n",
       "2011-05-21             38  \n",
       "2011-05-21            410  \n",
       "2011-05-21            843  \n",
       "2011-05-21            687  \n",
       "2011-05-21       -1760958  \n",
       "2011-05-21             19  \n",
       "2011-05-21             44  \n",
       "2011-05-21            457  \n",
       "2011-05-21            990  \n",
       "2011-05-21            855  \n",
       "2011-05-21        1423370  \n",
       "2011-05-21             82  \n",
       "2011-05-21            158  \n",
       "2011-05-21           1017  \n",
       "2011-05-21           1689  \n",
       "2011-05-21           1432  \n",
       "\n",
       "[985 rows x 7 columns]"
      ]
     },
     "execution_count": 20,
     "metadata": {},
     "output_type": "execute_result"
    }
   ],
   "source": [
    "df_turnstile['2011-05-21']"
   ]
  },
  {
   "cell_type": "code",
   "execution_count": null,
   "metadata": {
    "collapsed": false
   },
   "outputs": [],
   "source": [
    "df_weather.iloc[0]"
   ]
  },
  {
   "cell_type": "code",
   "execution_count": null,
   "metadata": {
    "collapsed": false
   },
   "outputs": [],
   "source": [
    "df_weather.iloc[-1]"
   ]
  },
  {
   "cell_type": "code",
   "execution_count": null,
   "metadata": {
    "collapsed": false
   },
   "outputs": [],
   "source": [
    "df_turnstile.iloc[0]"
   ]
  },
  {
   "cell_type": "code",
   "execution_count": null,
   "metadata": {
    "collapsed": false
   },
   "outputs": [],
   "source": [
    "df_turnstile.iloc[1]"
   ]
  },
  {
   "cell_type": "markdown",
   "metadata": {},
   "source": [
    "So I have the turnstile data for the 21st May 2011, and I have the weather data for all of May.\n",
    "\n",
    "Next step = download more data."
   ]
  },
  {
   "cell_type": "code",
   "execution_count": 22,
   "metadata": {
    "collapsed": true
   },
   "outputs": [],
   "source": [
    "# Check Dates?"
   ]
  },
  {
   "cell_type": "code",
   "execution_count": null,
   "metadata": {
    "collapsed": true
   },
   "outputs": [],
   "source": []
  },
  {
   "cell_type": "code",
   "execution_count": null,
   "metadata": {
    "collapsed": true
   },
   "outputs": [],
   "source": []
  },
  {
   "cell_type": "code",
   "execution_count": null,
   "metadata": {
    "collapsed": true
   },
   "outputs": [],
   "source": []
  },
  {
   "cell_type": "code",
   "execution_count": null,
   "metadata": {
    "collapsed": true
   },
   "outputs": [],
   "source": []
  },
  {
   "cell_type": "code",
   "execution_count": 23,
   "metadata": {
    "collapsed": true
   },
   "outputs": [],
   "source": [
    "### Downloading the data."
   ]
  },
  {
   "cell_type": "code",
   "execution_count": 24,
   "metadata": {
    "collapsed": true
   },
   "outputs": [],
   "source": [
    "import requests\n",
    "from bs4 import BeautifulSoup as bs\n",
    "import urllib2"
   ]
  },
  {
   "cell_type": "code",
   "execution_count": 25,
   "metadata": {
    "collapsed": false
   },
   "outputs": [],
   "source": [
    "# Work around for byte-ASCII error in bs.\n",
    "import sys  \n",
    "\n",
    "reload(sys)  \n",
    "sys.setdefaultencoding('utf8')"
   ]
  },
  {
   "cell_type": "code",
   "execution_count": 26,
   "metadata": {
    "collapsed": false
   },
   "outputs": [],
   "source": [
    "# URL of MTA data.\n",
    "URL = 'http://web.mta.info/developers/turnstile.html'\n",
    "\n",
    "# Parse the html using bs to find the hyperlinks.\n",
    "r = requests.get(URL)\n",
    "soup = bs(r.text)\n",
    "hyperlinks = soup.findAll('a')\n",
    "\n",
    "# Initialize array to hold all of the URLs on the page.\n",
    "urls = []\n",
    "\n",
    "# Loop through the hyperlinks, parsing just the links themselves.\n",
    "for each in hyperlinks:\n",
    "    link = each.get('href')\n",
    "    \n",
    "    # Only add links which are in the data directory, and are text files.\n",
    "    if link and link.endswith('.txt') and link.startswith('data/'):\n",
    "        urls.append(link)"
   ]
  },
  {
   "cell_type": "code",
   "execution_count": 27,
   "metadata": {
    "collapsed": false
   },
   "outputs": [],
   "source": [
    "# Initialize array to hold all of the dates from the URLs collected.\n",
    "dates = []\n",
    "\n",
    "# Split the URLs up in order to get just the dates.\n",
    "for each in urls:\n",
    "    filename = each.split('/')[-1]\n",
    "    filename.find('turnstile_')\n",
    "    index = filename.find('turnstile_')\n",
    "    date = filename[index+len('turnstile_'):].split('.')[0]\n",
    "    dates.append(date)"
   ]
  },
  {
   "cell_type": "code",
   "execution_count": 28,
   "metadata": {
    "collapsed": false
   },
   "outputs": [],
   "source": [
    "from sets import Set\n",
    "\n",
    "# Initialize set to store the dates to download.\n",
    "dates_to_download = Set([])\n",
    "\n",
    "# Loop through the dates, and take the appropriate ones.\n",
    "for i, date in enumerate(dates):\n",
    "    # Only 2015.\n",
    "    if date[:2] == '15':\n",
    "        # Take all of May, the last week of April, and the first week of June.\n",
    "        if date[2:4] == '05':\n",
    "            dates_to_download.update([dates[i-1], dates[i], dates[i+1]])\n",
    "\n",
    "# Convert the set to an array.            \n",
    "dates_to_download = list(dates_to_download)"
   ]
  },
  {
   "cell_type": "code",
   "execution_count": 45,
   "metadata": {
    "collapsed": false
   },
   "outputs": [
    {
     "data": {
      "text/plain": [
       "['150509', '150530', '150502', '150606', '150516', '150523', '150425']"
      ]
     },
     "execution_count": 45,
     "metadata": {},
     "output_type": "execute_result"
    }
   ],
   "source": [
    "dates_to_download"
   ]
  },
  {
   "cell_type": "code",
   "execution_count": 47,
   "metadata": {
    "collapsed": false
   },
   "outputs": [],
   "source": [
    "a = ['150509', '150530', '150502', '150606', '150516', '150523']"
   ]
  },
  {
   "cell_type": "code",
   "execution_count": 30,
   "metadata": {
    "collapsed": false
   },
   "outputs": [
    {
     "data": {
      "text/plain": [
       "<addinfourl at 220956104L whose fp = <socket._fileobject object at 0x000000000D129318>>"
      ]
     },
     "execution_count": 30,
     "metadata": {},
     "output_type": "execute_result"
    }
   ],
   "source": [
    "l = len(dates_to_download)\n",
    "\n",
    "for i in range(l):\n",
    "    date = dates_to_download[i]\n",
    "    download = 'http://web.mta.info/developers/data/nyct/turnstile/turnstile_{0}.txt'.format(date)\n",
    "    \n",
    "    #rq = urllib2.Request(download)\n",
    "    #res = urllib2.urlopen(rq)\n",
    "\n",
    "#res"
   ]
  },
  {
   "cell_type": "code",
   "execution_count": 42,
   "metadata": {
    "collapsed": false
   },
   "outputs": [],
   "source": [
    "url_download = 'http://web.mta.info/developers/data/nyct/turnstile/turnstile_{0}.txt'.format(date)\n",
    "response  = urllib2.urlopen(url_download)\n",
    "\n",
    "with open('data/{0}.txt'.format(date), 'wb') as f:\n",
    "    f.write(response.read())\n",
    "    \n",
    "    "
   ]
  },
  {
   "cell_type": "code",
   "execution_count": 43,
   "metadata": {
    "collapsed": true
   },
   "outputs": [],
   "source": [
    "a = pandas.read_csv('data/150425.txt')"
   ]
  },
  {
   "cell_type": "code",
   "execution_count": null,
   "metadata": {
    "collapsed": true
   },
   "outputs": [],
   "source": []
  }
 ],
 "metadata": {
  "kernelspec": {
   "display_name": "Python 2",
   "language": "python",
   "name": "python2"
  },
  "language_info": {
   "codemirror_mode": {
    "name": "ipython",
    "version": 2
   },
   "file_extension": ".py",
   "mimetype": "text/x-python",
   "name": "python",
   "nbconvert_exporter": "python",
   "pygments_lexer": "ipython2",
   "version": "2.7.9"
  }
 },
 "nbformat": 4,
 "nbformat_minor": 0
}
